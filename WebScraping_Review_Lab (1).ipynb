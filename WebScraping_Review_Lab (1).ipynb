{
 "cells": [
  {
   "cell_type": "markdown",
   "metadata": {},
   "source": [
    "<p style=\"text-align:center\">\n",
    "    <a href=\"https://skills.network/?utm_medium=Exinfluencer&utm_source=Exinfluencer&utm_content=000026UJ&utm_term=10006555&utm_id=NA-SkillsNetwork-Channel-SkillsNetworkCoursesIBMDeveloperSkillsNetworkPY0220ENSkillsNetwork900-2022-01-01\" target=\"_blank\">\n",
    "    <img src=\"https://cf-courses-data.s3.us.cloud-object-storage.appdomain.cloud/assets/logos/SN_web_lightmode.png\" width=\"200\" alt=\"Skills Network Logo\"  />\n",
    "    </a>\n",
    "</p>\n"
   ]
  },
  {
   "cell_type": "markdown",
   "metadata": {},
   "source": [
    "# **Web Scraping Lab**\n"
   ]
  },
  {
   "cell_type": "markdown",
   "metadata": {},
   "source": [
    "Estimated time needed: **30** minutes\n"
   ]
  },
  {
   "cell_type": "markdown",
   "metadata": {},
   "source": [
    "## Objectives\n"
   ]
  },
  {
   "cell_type": "markdown",
   "metadata": {},
   "source": [
    "After completing this lab you will be able to:\n"
   ]
  },
  {
   "cell_type": "markdown",
   "metadata": {},
   "source": [
    "<h2>Table of Contents</h2>\n",
    "<div class=\"alert alert-block alert-info\" style=\"margin-top: 20px\">\n",
    "    <ul>\n",
    "        <li>\n",
    "            <a href=\"https://bso/?utm_medium=Exinfluencer&utm_source=Exinfluencer&utm_content=000026UJ&utm_term=10006555&utm_id=NA-SkillsNetwork-Channel-SkillsNetworkCoursesIBMDeveloperSkillsNetworkPY0220ENSkillsNetwork23455606-2021-01-01\">Beautiful Soup Object</a>\n",
    "            <ul>\n",
    "                <li>Tag</li>\n",
    "                <li>Children, Parents, and Siblings</li>\n",
    "                <li>HTML Attributes</li>\n",
    "                <li>Navigable String</li>\n",
    "            </ul>\n",
    "        </li>\n",
    "     </ul>\n",
    "    <ul>\n",
    "        <li>\n",
    "            <a href=\"https://filter/?utm_medium=Exinfluencer&utm_source=Exinfluencer&utm_content=000026UJ&utm_term=10006555&utm_id=NA-SkillsNetwork-Channel-SkillsNetworkCoursesIBMDeveloperSkillsNetworkPY0220ENSkillsNetwork23455606-2021-01-01\">Filter</a>\n",
    "            <ul>\n",
    "                <li>find All</li>\n",
    "                <li>find </li>\n",
    "                <li>HTML Attributes</li>\n",
    "                <li>Navigable String</li>\n",
    "            </ul>\n",
    "        </li>\n",
    "     </ul>\n",
    "     <ul>\n",
    "        <li>\n",
    "            <a href=\"https://dscw/?utm_medium=Exinfluencer&utm_source=Exinfluencer&utm_content=000026UJ&utm_term=10006555&utm_id=NA-SkillsNetwork-Channel-SkillsNetworkCoursesIBMDeveloperSkillsNetworkPY0220ENSkillsNetwork23455606-2021-01-01\">Downloading And Scraping The Contents Of A Web</a>\n",
    "    </li>\n",
    "         </ul>\n",
    "    <p>\n",
    "        Estimated time needed: <strong>25 min</strong>\n",
    "    </p>\n",
    "\n",
    "</div>\n",
    "\n",
    "<hr>\n"
   ]
  },
  {
   "cell_type": "markdown",
   "metadata": {},
   "source": [
    "For this lab, we are going to be using Python and several Python libraries. Some of these libraries might be installed in your lab environment or in SN Labs. Others may need to be installed by you. The cells below will install these libraries when executed.\n"
   ]
  },
  {
   "cell_type": "code",
   "execution_count": 1,
   "metadata": {},
   "outputs": [
    {
     "name": "stderr",
     "output_type": "stream",
     "text": [
      "'mamba' is not recognized as an internal or external command,\n",
      "operable program or batch file.\n"
     ]
    },
    {
     "name": "stdout",
     "output_type": "stream",
     "text": [
      "Collecting lxml==4.6.4\n",
      "  Downloading lxml-4.6.4-cp37-cp37m-win_amd64.whl (3.5 MB)\n",
      "Installing collected packages: lxml\n",
      "  Attempting uninstall: lxml\n",
      "    Found existing installation: lxml 4.9.2\n",
      "    Uninstalling lxml-4.9.2:\n",
      "      Successfully uninstalled lxml-4.9.2\n",
      "Successfully installed lxml-4.6.4\n"
     ]
    },
    {
     "name": "stderr",
     "output_type": "stream",
     "text": [
      "ERROR: yfinance 0.2.4 has requirement lxml>=4.9.1, but you'll have lxml 4.6.4 which is incompatible.\n",
      "'mamba' is not recognized as an internal or external command,\n",
      "operable program or batch file.\n"
     ]
    }
   ],
   "source": [
    "!mamba install bs4==4.10.0 -y\n",
    "!pip install lxml==4.6.4\n",
    "!mamba install html5lib==1.1 -y\n",
    "# !pip install requests==2.26.0"
   ]
  },
  {
   "cell_type": "markdown",
   "metadata": {},
   "source": [
    "Import the required modules and functions\n"
   ]
  },
  {
   "cell_type": "code",
   "execution_count": 2,
   "metadata": {},
   "outputs": [],
   "source": [
    "from bs4 import BeautifulSoup # this module helps in web scrapping.\n",
    "import requests  # this module helps us to download a web page"
   ]
  },
  {
   "cell_type": "markdown",
   "metadata": {},
   "source": [
    "<h2 id=\"BSO\">Beautiful Soup Objects</h2>\n"
   ]
  },
  {
   "cell_type": "markdown",
   "metadata": {},
   "source": [
    "Beautiful Soup is a Python library for pulling data out of HTML and XML files, we will focus on HTML files. This is accomplished by representing the HTML as a set of objects with methods used to parse the HTML.  We can navigate the HTML as a tree and/or filter out what we are looking for.\n",
    "\n",
    "Consider the following HTML:\n"
   ]
  },
  {
   "cell_type": "code",
   "execution_count": 3,
   "metadata": {},
   "outputs": [
    {
     "data": {
      "text/html": [
       "<!DOCTYPE html>\n",
       "<html>\n",
       "<head>\n",
       "<title>Page Title</title>\n",
       "</head>\n",
       "<body>\n",
       "<h3><b id='boldest'>Lebron James</b></h3>\n",
       "<p> Salary: $ 92,000,000 </p>\n",
       "<h3> Stephen Curry</h3>\n",
       "<p> Salary: $85,000, 000 </p>\n",
       "<h3> Kevin Durant </h3>\n",
       "<p> Salary: $73,200, 000</p>\n",
       "</body>\n",
       "</html>\n"
      ],
      "text/plain": [
       "<IPython.core.display.HTML object>"
      ]
     },
     "metadata": {},
     "output_type": "display_data"
    }
   ],
   "source": [
    "%%html\n",
    "<!DOCTYPE html>\n",
    "<html>\n",
    "<head>\n",
    "<title>Page Title</title>\n",
    "</head>\n",
    "<body>\n",
    "<h3><b id='boldest'>Lebron James</b></h3>\n",
    "<p> Salary: $ 92,000,000 </p>\n",
    "<h3> Stephen Curry</h3>\n",
    "<p> Salary: $85,000, 000 </p>\n",
    "<h3> Kevin Durant </h3>\n",
    "<p> Salary: $73,200, 000</p>\n",
    "</body>\n",
    "</html>"
   ]
  },
  {
   "cell_type": "markdown",
   "metadata": {},
   "source": [
    "We can store it as a string in the variable HTML:\n"
   ]
  },
  {
   "cell_type": "code",
   "execution_count": 4,
   "metadata": {},
   "outputs": [],
   "source": [
    "html=\"<!DOCTYPE html><html><head><title>Page Title</title></head><body><h3><b id='boldest'>Lebron James</b></h3><p> Salary: $ 92,000,000 </p><h3> Stephen Curry</h3><p> Salary: $85,000, 000 </p><h3> Kevin Durant </h3><p> Salary: $73,200, 000</p></body></html>\""
   ]
  },
  {
   "cell_type": "markdown",
   "metadata": {},
   "source": [
    "To parse a document, pass it into the <code>BeautifulSoup</code> constructor, the <code>BeautifulSoup</code> object, which represents the document as a nested data structure:\n"
   ]
  },
  {
   "cell_type": "code",
   "execution_count": 7,
   "metadata": {},
   "outputs": [
    {
     "data": {
      "text/plain": [
       "<!DOCTYPE html>\n",
       "<html><head><title>Page Title</title></head><body><h3><b id=\"boldest\">Lebron James</b></h3><p> Salary: $ 92,000,000 </p><h3> Stephen Curry</h3><p> Salary: $85,000, 000 </p><h3> Kevin Durant </h3><p> Salary: $73,200, 000</p></body></html>"
      ]
     },
     "execution_count": 7,
     "metadata": {},
     "output_type": "execute_result"
    }
   ],
   "source": [
    "soup = BeautifulSoup(html, \"html.parser\")\n",
    "soup"
   ]
  },
  {
   "cell_type": "markdown",
   "metadata": {},
   "source": [
    "First, the document is converted to Unicode, (similar to ASCII),  and HTML entities are converted to Unicode characters. Beautiful Soup transforms a complex HTML document into a complex tree of Python objects. The <code>BeautifulSoup</code> object can create other types of objects. In this lab, we will cover <code>BeautifulSoup</code> and <code>Tag</code> objects that for the purposes of this lab are identical, and <code>NavigableString</code> objects.\n"
   ]
  },
  {
   "cell_type": "markdown",
   "metadata": {},
   "source": [
    "We can use the method <code>prettify()</code> to display the HTML in the nested structure:\n"
   ]
  },
  {
   "cell_type": "code",
   "execution_count": 6,
   "metadata": {},
   "outputs": [
    {
     "name": "stdout",
     "output_type": "stream",
     "text": [
      "<!DOCTYPE html>\n",
      "<html>\n",
      " <head>\n",
      "  <title>\n",
      "   Page Title\n",
      "  </title>\n",
      " </head>\n",
      " <body>\n",
      "  <h3>\n",
      "   <b id=\"boldest\">\n",
      "    Lebron James\n",
      "   </b>\n",
      "  </h3>\n",
      "  <p>\n",
      "   Salary: $ 92,000,000\n",
      "  </p>\n",
      "  <h3>\n",
      "   Stephen Curry\n",
      "  </h3>\n",
      "  <p>\n",
      "   Salary: $85,000, 000\n",
      "  </p>\n",
      "  <h3>\n",
      "   Kevin Durant\n",
      "  </h3>\n",
      "  <p>\n",
      "   Salary: $73,200, 000\n",
      "  </p>\n",
      " </body>\n",
      "</html>\n"
     ]
    }
   ],
   "source": [
    "print(soup.prettify())"
   ]
  },
  {
   "cell_type": "markdown",
   "metadata": {},
   "source": [
    "## Tags\n"
   ]
  },
  {
   "cell_type": "markdown",
   "metadata": {},
   "source": [
    "Let's say we want the  title of the page and the name of the top paid player we can use the <code>Tag</code>. The <code>Tag</code> object corresponds to an HTML tag in the original document, for example, the tag title.\n"
   ]
  },
  {
   "cell_type": "code",
   "execution_count": 8,
   "metadata": {},
   "outputs": [
    {
     "name": "stdout",
     "output_type": "stream",
     "text": [
      "tag object: <title>Page Title</title>\n"
     ]
    }
   ],
   "source": [
    "tag_object=soup.title\n",
    "print(\"tag object:\",tag_object)"
   ]
  },
  {
   "cell_type": "markdown",
   "metadata": {},
   "source": [
    "we can see the tag type <code>bs4.element.Tag</code>\n"
   ]
  },
  {
   "cell_type": "code",
   "execution_count": 9,
   "metadata": {},
   "outputs": [
    {
     "name": "stdout",
     "output_type": "stream",
     "text": [
      "tag object type: <class 'bs4.element.Tag'>\n"
     ]
    }
   ],
   "source": [
    "print(\"tag object type:\",type(tag_object))"
   ]
  },
  {
   "cell_type": "markdown",
   "metadata": {},
   "source": [
    "If there is more than one <code>Tag</code>  with the same name, the first element with that <code>Tag</code> name is called, this corresponds to the most paid player:\n"
   ]
  },
  {
   "cell_type": "code",
   "execution_count": 10,
   "metadata": {},
   "outputs": [
    {
     "data": {
      "text/plain": [
       "<h3><b id=\"boldest\">Lebron James</b></h3>"
      ]
     },
     "execution_count": 10,
     "metadata": {},
     "output_type": "execute_result"
    }
   ],
   "source": [
    "tag_object=soup.h3\n",
    "tag_object"
   ]
  },
  {
   "cell_type": "markdown",
   "metadata": {},
   "source": [
    "Enclosed in the bold attribute <code>b</code>, it helps to use the tree representation. We can navigate down the tree using the child attribute to get the name.\n"
   ]
  },
  {
   "cell_type": "markdown",
   "metadata": {},
   "source": [
    "### Children, Parents, and Siblings\n"
   ]
  },
  {
   "cell_type": "markdown",
   "metadata": {},
   "source": [
    "As stated above the <code>Tag</code> object is a tree of objects we can access the child of the tag or navigate down the branch as follows:\n"
   ]
  },
  {
   "cell_type": "code",
   "execution_count": 11,
   "metadata": {},
   "outputs": [
    {
     "data": {
      "text/plain": [
       "<b id=\"boldest\">Lebron James</b>"
      ]
     },
     "execution_count": 11,
     "metadata": {},
     "output_type": "execute_result"
    }
   ],
   "source": [
    "tag_child =tag_object.b\n",
    "tag_child"
   ]
  },
  {
   "cell_type": "markdown",
   "metadata": {},
   "source": [
    "You can access the parent with the <code> parent</code>\n"
   ]
  },
  {
   "cell_type": "code",
   "execution_count": 12,
   "metadata": {},
   "outputs": [
    {
     "data": {
      "text/plain": [
       "<h3><b id=\"boldest\">Lebron James</b></h3>"
      ]
     },
     "execution_count": 12,
     "metadata": {},
     "output_type": "execute_result"
    }
   ],
   "source": [
    "parent_tag=tag_child.parent\n",
    "parent_tag"
   ]
  },
  {
   "cell_type": "markdown",
   "metadata": {},
   "source": [
    "this is identical to\n"
   ]
  },
  {
   "cell_type": "code",
   "execution_count": 13,
   "metadata": {},
   "outputs": [
    {
     "data": {
      "text/plain": [
       "<h3><b id=\"boldest\">Lebron James</b></h3>"
      ]
     },
     "execution_count": 13,
     "metadata": {},
     "output_type": "execute_result"
    }
   ],
   "source": [
    "tag_object"
   ]
  },
  {
   "cell_type": "markdown",
   "metadata": {},
   "source": [
    "<code>tag_object</code> parent is the <code>body</code> element.\n"
   ]
  },
  {
   "cell_type": "code",
   "execution_count": 14,
   "metadata": {},
   "outputs": [
    {
     "data": {
      "text/plain": [
       "<body><h3><b id=\"boldest\">Lebron James</b></h3><p> Salary: $ 92,000,000 </p><h3> Stephen Curry</h3><p> Salary: $85,000, 000 </p><h3> Kevin Durant </h3><p> Salary: $73,200, 000</p></body>"
      ]
     },
     "execution_count": 14,
     "metadata": {},
     "output_type": "execute_result"
    }
   ],
   "source": [
    "tag_object.parent"
   ]
  },
  {
   "cell_type": "markdown",
   "metadata": {},
   "source": [
    "<code>tag_object</code> sibling is the <code>paragraph</code> element\n"
   ]
  },
  {
   "cell_type": "code",
   "execution_count": 15,
   "metadata": {},
   "outputs": [
    {
     "data": {
      "text/plain": [
       "<p> Salary: $ 92,000,000 </p>"
      ]
     },
     "execution_count": 15,
     "metadata": {},
     "output_type": "execute_result"
    }
   ],
   "source": [
    "sibling_1=tag_object.next_sibling\n",
    "sibling_1"
   ]
  },
  {
   "cell_type": "markdown",
   "metadata": {},
   "source": [
    "`sibling_2` is the `header` element which is also a sibling of both `sibling_1` and `tag_object`\n"
   ]
  },
  {
   "cell_type": "code",
   "execution_count": 16,
   "metadata": {},
   "outputs": [
    {
     "data": {
      "text/plain": [
       "<h3> Stephen Curry</h3>"
      ]
     },
     "execution_count": 16,
     "metadata": {},
     "output_type": "execute_result"
    }
   ],
   "source": [
    "sibling_2=sibling_1.next_sibling\n",
    "sibling_2"
   ]
  },
  {
   "cell_type": "markdown",
   "metadata": {},
   "source": [
    "<h3 id=\"first_question\">Exercise: <code>next_sibling</code></h3>\n"
   ]
  },
  {
   "cell_type": "markdown",
   "metadata": {},
   "source": [
    "Using the object <code>sibling\\_2</code> and the property <code>next_sibling</code> to find the salary of Stephen Curry:\n"
   ]
  },
  {
   "cell_type": "code",
   "execution_count": 19,
   "metadata": {},
   "outputs": [
    {
     "data": {
      "text/plain": [
       "<p> Salary: $85,000, 000 </p>"
      ]
     },
     "execution_count": 19,
     "metadata": {},
     "output_type": "execute_result"
    }
   ],
   "source": [
    "sibling_3 = sibling_2.next_sibling\n",
    "sibling_3"
   ]
  },
  {
   "cell_type": "markdown",
   "metadata": {},
   "source": [
    "<details><summary>Click here for the solution</summary>\n",
    "\n",
    "```\n",
    "sibling_2.next_sibling\n",
    "\n",
    "```\n",
    "\n",
    "</details>\n"
   ]
  },
  {
   "cell_type": "markdown",
   "metadata": {},
   "source": [
    "### HTML Attributes\n"
   ]
  },
  {
   "cell_type": "markdown",
   "metadata": {},
   "source": [
    "If the tag has attributes, the tag <code>id=\"boldest\"</code> has an attribute <code>id</code> whose value is <code>boldest</code>. You can access a tag’s attributes by treating the tag like a dictionary:\n"
   ]
  },
  {
   "cell_type": "code",
   "execution_count": 20,
   "metadata": {},
   "outputs": [
    {
     "data": {
      "text/plain": [
       "'boldest'"
      ]
     },
     "execution_count": 20,
     "metadata": {},
     "output_type": "execute_result"
    }
   ],
   "source": [
    "tag_child['id']"
   ]
  },
  {
   "cell_type": "markdown",
   "metadata": {},
   "source": [
    "You can access that dictionary directly as <code>attrs</code>:\n"
   ]
  },
  {
   "cell_type": "code",
   "execution_count": 21,
   "metadata": {},
   "outputs": [
    {
     "data": {
      "text/plain": [
       "{'id': 'boldest'}"
      ]
     },
     "execution_count": 21,
     "metadata": {},
     "output_type": "execute_result"
    }
   ],
   "source": [
    "tag_child.attrs"
   ]
  },
  {
   "cell_type": "markdown",
   "metadata": {},
   "source": [
    "You can also work with Multi-valued attribute check out <a href=\"https://www.crummy.com/software/BeautifulSoup/bs4/doc/?utm_medium=Exinfluencer&utm_source=Exinfluencer&utm_content=000026UJ&utm_term=10006555&utm_id=NA-SkillsNetwork-Channel-SkillsNetworkCoursesIBMDeveloperSkillsNetworkPY0220ENSkillsNetwork23455606-2021-01-01\">\\[1]</a> for more.\n"
   ]
  },
  {
   "cell_type": "markdown",
   "metadata": {},
   "source": [
    "We can also obtain the content if the attribute of the <code>tag</code> using the Python <code>get()</code> method.\n"
   ]
  },
  {
   "cell_type": "code",
   "execution_count": 22,
   "metadata": {},
   "outputs": [
    {
     "data": {
      "text/plain": [
       "'boldest'"
      ]
     },
     "execution_count": 22,
     "metadata": {},
     "output_type": "execute_result"
    }
   ],
   "source": [
    "tag_child.get('id')"
   ]
  },
  {
   "cell_type": "markdown",
   "metadata": {},
   "source": [
    "### Navigable String\n"
   ]
  },
  {
   "cell_type": "markdown",
   "metadata": {},
   "source": [
    "A string corresponds to a bit of text or content within a tag. Beautiful Soup uses the <code>NavigableString</code> class to contain this text. In our HTML we can obtain the name of the first player by extracting the sting of the <code>Tag</code> object <code>tag_child</code> as follows:\n"
   ]
  },
  {
   "cell_type": "code",
   "execution_count": 23,
   "metadata": {},
   "outputs": [
    {
     "data": {
      "text/plain": [
       "'Lebron James'"
      ]
     },
     "execution_count": 23,
     "metadata": {},
     "output_type": "execute_result"
    }
   ],
   "source": [
    "tag_string=tag_child.string\n",
    "tag_string"
   ]
  },
  {
   "cell_type": "markdown",
   "metadata": {},
   "source": [
    "we can verify the type is Navigable String\n"
   ]
  },
  {
   "cell_type": "code",
   "execution_count": 24,
   "metadata": {},
   "outputs": [
    {
     "data": {
      "text/plain": [
       "bs4.element.NavigableString"
      ]
     },
     "execution_count": 24,
     "metadata": {},
     "output_type": "execute_result"
    }
   ],
   "source": [
    "type(tag_string)"
   ]
  },
  {
   "cell_type": "markdown",
   "metadata": {},
   "source": [
    "A NavigableString is just like a Python string or Unicode string, to be more precise. The main difference is that it also supports some  <code>BeautifulSoup</code> features. We can covert it to sting object in Python:\n"
   ]
  },
  {
   "cell_type": "code",
   "execution_count": 25,
   "metadata": {},
   "outputs": [
    {
     "data": {
      "text/plain": [
       "'Lebron James'"
      ]
     },
     "execution_count": 25,
     "metadata": {},
     "output_type": "execute_result"
    }
   ],
   "source": [
    "unicode_string = str(tag_string)\n",
    "unicode_string"
   ]
  },
  {
   "cell_type": "markdown",
   "metadata": {},
   "source": [
    "<h2 id=\"filter\">Filter</h2>\n"
   ]
  },
  {
   "cell_type": "markdown",
   "metadata": {},
   "source": [
    "Filters allow you to find complex patterns, the simplest filter is a string. In this section we will pass a string to a different filter method and Beautiful Soup will perform a match against that exact string.  Consider the following HTML of rocket launchs:\n"
   ]
  },
  {
   "cell_type": "code",
   "execution_count": 26,
   "metadata": {},
   "outputs": [
    {
     "data": {
      "text/html": [
       "<table>\n",
       "  <tr>\n",
       "    <td id='flight' >Flight No</td>\n",
       "    <td>Launch site</td> \n",
       "    <td>Payload mass</td>\n",
       "   </tr>\n",
       "  <tr> \n",
       "    <td>1</td>\n",
       "    <td><a href='https://en.wikipedia.org/wiki/Florida'>Florida</a></td>\n",
       "    <td>300 kg</td>\n",
       "  </tr>\n",
       "  <tr>\n",
       "    <td>2</td>\n",
       "    <td><a href='https://en.wikipedia.org/wiki/Texas'>Texas</a></td>\n",
       "    <td>94 kg</td>\n",
       "  </tr>\n",
       "  <tr>\n",
       "    <td>3</td>\n",
       "    <td><a href='https://en.wikipedia.org/wiki/Florida'>Florida<a> </td>\n",
       "    <td>80 kg</td>\n",
       "  </tr>\n",
       "</table>\n"
      ],
      "text/plain": [
       "<IPython.core.display.HTML object>"
      ]
     },
     "metadata": {},
     "output_type": "display_data"
    }
   ],
   "source": [
    "%%html\n",
    "<table>\n",
    "  <tr>\n",
    "    <td id='flight' >Flight No</td>\n",
    "    <td>Launch site</td> \n",
    "    <td>Payload mass</td>\n",
    "   </tr>\n",
    "  <tr> \n",
    "    <td>1</td>\n",
    "    <td><a href='https://en.wikipedia.org/wiki/Florida'>Florida</a></td>\n",
    "    <td>300 kg</td>\n",
    "  </tr>\n",
    "  <tr>\n",
    "    <td>2</td>\n",
    "    <td><a href='https://en.wikipedia.org/wiki/Texas'>Texas</a></td>\n",
    "    <td>94 kg</td>\n",
    "  </tr>\n",
    "  <tr>\n",
    "    <td>3</td>\n",
    "    <td><a href='https://en.wikipedia.org/wiki/Florida'>Florida<a> </td>\n",
    "    <td>80 kg</td>\n",
    "  </tr>\n",
    "</table>"
   ]
  },
  {
   "cell_type": "markdown",
   "metadata": {},
   "source": [
    "We can store it as a string in the variable <code>table</code>:\n"
   ]
  },
  {
   "cell_type": "code",
   "execution_count": 27,
   "metadata": {},
   "outputs": [],
   "source": [
    "table=\"<table><tr><td id='flight'>Flight No</td><td>Launch site</td> <td>Payload mass</td></tr><tr> <td>1</td><td><a href='https://en.wikipedia.org/wiki/Florida'>Florida<a></td><td>300 kg</td></tr><tr><td>2</td><td><a href='https://en.wikipedia.org/wiki/Texas'>Texas</a></td><td>94 kg</td></tr><tr><td>3</td><td><a href='https://en.wikipedia.org/wiki/Florida'>Florida<a> </td><td>80 kg</td></tr></table>\""
   ]
  },
  {
   "cell_type": "code",
   "execution_count": 28,
   "metadata": {},
   "outputs": [],
   "source": [
    "table_bs = BeautifulSoup(table, \"html.parser\")"
   ]
  },
  {
   "cell_type": "markdown",
   "metadata": {},
   "source": [
    "## find All\n"
   ]
  },
  {
   "cell_type": "markdown",
   "metadata": {},
   "source": [
    "The <code>find_all()</code> method looks through a tag’s descendants and retrieves all descendants that match your filters.\n",
    "\n",
    "<p>\n",
    "The Method signature for <code>find_all(name, attrs, recursive, string, limit, **kwargs)<c/ode>\n",
    "</p>\n"
   ]
  },
  {
   "cell_type": "markdown",
   "metadata": {},
   "source": [
    "### Name\n"
   ]
  },
  {
   "cell_type": "markdown",
   "metadata": {},
   "source": [
    "When we set the <code>name</code> parameter to a tag name, the method will extract all the tags with that name and its children.\n"
   ]
  },
  {
   "cell_type": "code",
   "execution_count": 29,
   "metadata": {},
   "outputs": [
    {
     "data": {
      "text/plain": [
       "[<tr><td id=\"flight\">Flight No</td><td>Launch site</td> <td>Payload mass</td></tr>,\n",
       " <tr> <td>1</td><td><a href=\"https://en.wikipedia.org/wiki/Florida\">Florida<a></a></a></td><td>300 kg</td></tr>,\n",
       " <tr><td>2</td><td><a href=\"https://en.wikipedia.org/wiki/Texas\">Texas</a></td><td>94 kg</td></tr>,\n",
       " <tr><td>3</td><td><a href=\"https://en.wikipedia.org/wiki/Florida\">Florida<a> </a></a></td><td>80 kg</td></tr>]"
      ]
     },
     "execution_count": 29,
     "metadata": {},
     "output_type": "execute_result"
    }
   ],
   "source": [
    "table_rows=table_bs.find_all('tr')\n",
    "table_rows"
   ]
  },
  {
   "cell_type": "markdown",
   "metadata": {},
   "source": [
    "The result is a Python Iterable just like a list, each element is a <code>tag</code> object:\n"
   ]
  },
  {
   "cell_type": "code",
   "execution_count": 32,
   "metadata": {},
   "outputs": [
    {
     "data": {
      "text/plain": [
       "<tr><td id=\"flight\">Flight No</td><td>Launch site</td> <td>Payload mass</td></tr>"
      ]
     },
     "execution_count": 32,
     "metadata": {},
     "output_type": "execute_result"
    }
   ],
   "source": [
    "first_row =table_rows[0]\n",
    "first_row"
   ]
  },
  {
   "cell_type": "markdown",
   "metadata": {},
   "source": [
    "The type is <code>tag</code>\n"
   ]
  },
  {
   "cell_type": "code",
   "execution_count": 33,
   "metadata": {},
   "outputs": [
    {
     "name": "stdout",
     "output_type": "stream",
     "text": [
      "<class 'bs4.element.Tag'>\n"
     ]
    }
   ],
   "source": [
    "print(type(first_row))"
   ]
  },
  {
   "cell_type": "markdown",
   "metadata": {},
   "source": [
    "we can obtain the child\n"
   ]
  },
  {
   "cell_type": "code",
   "execution_count": 34,
   "metadata": {},
   "outputs": [
    {
     "data": {
      "text/plain": [
       "<td id=\"flight\">Flight No</td>"
      ]
     },
     "execution_count": 34,
     "metadata": {},
     "output_type": "execute_result"
    }
   ],
   "source": [
    "first_row.td"
   ]
  },
  {
   "cell_type": "markdown",
   "metadata": {},
   "source": [
    "If we iterate through the list, each element corresponds to a row in the table:\n"
   ]
  },
  {
   "cell_type": "code",
   "execution_count": 35,
   "metadata": {},
   "outputs": [
    {
     "name": "stdout",
     "output_type": "stream",
     "text": [
      "row 0 is <tr><td id=\"flight\">Flight No</td><td>Launch site</td> <td>Payload mass</td></tr>\n",
      "row 1 is <tr> <td>1</td><td><a href=\"https://en.wikipedia.org/wiki/Florida\">Florida<a></a></a></td><td>300 kg</td></tr>\n",
      "row 2 is <tr><td>2</td><td><a href=\"https://en.wikipedia.org/wiki/Texas\">Texas</a></td><td>94 kg</td></tr>\n",
      "row 3 is <tr><td>3</td><td><a href=\"https://en.wikipedia.org/wiki/Florida\">Florida<a> </a></a></td><td>80 kg</td></tr>\n"
     ]
    }
   ],
   "source": [
    "for i,row in enumerate(table_rows):\n",
    "    print(\"row\",i,\"is\",row)\n",
    "    "
   ]
  },
  {
   "cell_type": "markdown",
   "metadata": {},
   "source": [
    "As <code>row</code> is a <code>cell</code> object, we can apply the method <code>find_all</code> to it and extract table cells in the object <code>cells</code> using the tag <code>td</code>, this is all the children with the name <code>td</code>. The result is a list, each element corresponds to a cell and is a <code>Tag</code> object, we can iterate through this list as well. We can extract the content using the <code>string</code>  attribute.\n"
   ]
  },
  {
   "cell_type": "code",
   "execution_count": 36,
   "metadata": {},
   "outputs": [
    {
     "name": "stdout",
     "output_type": "stream",
     "text": [
      "row 0\n",
      "colunm 0 cell <td id=\"flight\">Flight No</td>\n",
      "colunm 1 cell <td>Launch site</td>\n",
      "colunm 2 cell <td>Payload mass</td>\n",
      "row 1\n",
      "colunm 0 cell <td>1</td>\n",
      "colunm 1 cell <td><a href=\"https://en.wikipedia.org/wiki/Florida\">Florida<a></a></a></td>\n",
      "colunm 2 cell <td>300 kg</td>\n",
      "row 2\n",
      "colunm 0 cell <td>2</td>\n",
      "colunm 1 cell <td><a href=\"https://en.wikipedia.org/wiki/Texas\">Texas</a></td>\n",
      "colunm 2 cell <td>94 kg</td>\n",
      "row 3\n",
      "colunm 0 cell <td>3</td>\n",
      "colunm 1 cell <td><a href=\"https://en.wikipedia.org/wiki/Florida\">Florida<a> </a></a></td>\n",
      "colunm 2 cell <td>80 kg</td>\n"
     ]
    }
   ],
   "source": [
    "for i,row in enumerate(table_rows):\n",
    "    print(\"row\",i)\n",
    "    cells=row.find_all('td')\n",
    "    for j,cell in enumerate(cells):\n",
    "        print('colunm',j,\"cell\",cell)"
   ]
  },
  {
   "cell_type": "markdown",
   "metadata": {},
   "source": [
    "If we use a list we can match against any item in that list.\n"
   ]
  },
  {
   "cell_type": "code",
   "execution_count": 37,
   "metadata": {},
   "outputs": [
    {
     "data": {
      "text/plain": [
       "[<tr><td id=\"flight\">Flight No</td><td>Launch site</td> <td>Payload mass</td></tr>,\n",
       " <td id=\"flight\">Flight No</td>,\n",
       " <td>Launch site</td>,\n",
       " <td>Payload mass</td>,\n",
       " <tr> <td>1</td><td><a href=\"https://en.wikipedia.org/wiki/Florida\">Florida<a></a></a></td><td>300 kg</td></tr>,\n",
       " <td>1</td>,\n",
       " <td><a href=\"https://en.wikipedia.org/wiki/Florida\">Florida<a></a></a></td>,\n",
       " <td>300 kg</td>,\n",
       " <tr><td>2</td><td><a href=\"https://en.wikipedia.org/wiki/Texas\">Texas</a></td><td>94 kg</td></tr>,\n",
       " <td>2</td>,\n",
       " <td><a href=\"https://en.wikipedia.org/wiki/Texas\">Texas</a></td>,\n",
       " <td>94 kg</td>,\n",
       " <tr><td>3</td><td><a href=\"https://en.wikipedia.org/wiki/Florida\">Florida<a> </a></a></td><td>80 kg</td></tr>,\n",
       " <td>3</td>,\n",
       " <td><a href=\"https://en.wikipedia.org/wiki/Florida\">Florida<a> </a></a></td>,\n",
       " <td>80 kg</td>]"
      ]
     },
     "execution_count": 37,
     "metadata": {},
     "output_type": "execute_result"
    }
   ],
   "source": [
    "list_input=table_bs .find_all(name=[\"tr\", \"td\"])\n",
    "list_input"
   ]
  },
  {
   "cell_type": "markdown",
   "metadata": {},
   "source": [
    "## Attributes\n"
   ]
  },
  {
   "cell_type": "markdown",
   "metadata": {},
   "source": [
    "If the argument is not recognized it will be turned into a filter on the tag’s attributes. For example the <code>id</code>  argument, Beautiful Soup will filter against each tag’s <code>id</code> attribute. For example, the first <code>td</code> elements have a value of <code>id</code> of <code>flight</code>, therefore we can filter based on that <code>id</code> value.\n"
   ]
  },
  {
   "cell_type": "code",
   "execution_count": 38,
   "metadata": {},
   "outputs": [
    {
     "data": {
      "text/plain": [
       "[<td id=\"flight\">Flight No</td>]"
      ]
     },
     "execution_count": 38,
     "metadata": {},
     "output_type": "execute_result"
    }
   ],
   "source": [
    "table_bs.find_all(id=\"flight\")"
   ]
  },
  {
   "cell_type": "markdown",
   "metadata": {},
   "source": [
    "We can find all the elements that have links to the Florida Wikipedia page:\n"
   ]
  },
  {
   "cell_type": "code",
   "execution_count": 39,
   "metadata": {},
   "outputs": [
    {
     "data": {
      "text/plain": [
       "[<a href=\"https://en.wikipedia.org/wiki/Florida\">Florida<a></a></a>,\n",
       " <a href=\"https://en.wikipedia.org/wiki/Florida\">Florida<a> </a></a>]"
      ]
     },
     "execution_count": 39,
     "metadata": {},
     "output_type": "execute_result"
    }
   ],
   "source": [
    "list_input=table_bs.find_all(href=\"https://en.wikipedia.org/wiki/Florida\")\n",
    "list_input"
   ]
  },
  {
   "cell_type": "markdown",
   "metadata": {},
   "source": [
    "If we set the  <code>href</code> attribute to True, regardless of what the value is, the code finds all tags with <code>href</code> value:\n"
   ]
  },
  {
   "cell_type": "code",
   "execution_count": 40,
   "metadata": {},
   "outputs": [
    {
     "data": {
      "text/plain": [
       "[<a href=\"https://en.wikipedia.org/wiki/Florida\">Florida<a></a></a>,\n",
       " <a href=\"https://en.wikipedia.org/wiki/Texas\">Texas</a>,\n",
       " <a href=\"https://en.wikipedia.org/wiki/Florida\">Florida<a> </a></a>]"
      ]
     },
     "execution_count": 40,
     "metadata": {},
     "output_type": "execute_result"
    }
   ],
   "source": [
    "table_bs.find_all(href=True)"
   ]
  },
  {
   "cell_type": "markdown",
   "metadata": {},
   "source": [
    "There are other methods for dealing with attributes and other related methods; Check out the following <a href='https://www.crummy.com/software/BeautifulSoup/bs4/doc/?utm_medium=Exinfluencer&utm_source=Exinfluencer&utm_content=000026UJ&utm_term=10006555&utm_id=NA-SkillsNetwork-Channel-SkillsNetworkCoursesIBMDeveloperSkillsNetworkPY0220ENSkillsNetwork23455606-2021-01-01#css-selectors'>link</a>\n"
   ]
  },
  {
   "cell_type": "markdown",
   "metadata": {},
   "source": [
    "<h3 id=\"exer_type\">Exercise: <code>find_all</code></h3>\n"
   ]
  },
  {
   "cell_type": "markdown",
   "metadata": {},
   "source": [
    "Using the logic above, find all the elements without <code>href</code> value\n"
   ]
  },
  {
   "cell_type": "code",
   "execution_count": 41,
   "metadata": {},
   "outputs": [
    {
     "data": {
      "text/plain": [
       "[<table><tr><td id=\"flight\">Flight No</td><td>Launch site</td> <td>Payload mass</td></tr><tr> <td>1</td><td><a href=\"https://en.wikipedia.org/wiki/Florida\">Florida<a></a></a></td><td>300 kg</td></tr><tr><td>2</td><td><a href=\"https://en.wikipedia.org/wiki/Texas\">Texas</a></td><td>94 kg</td></tr><tr><td>3</td><td><a href=\"https://en.wikipedia.org/wiki/Florida\">Florida<a> </a></a></td><td>80 kg</td></tr></table>,\n",
       " <tr><td id=\"flight\">Flight No</td><td>Launch site</td> <td>Payload mass</td></tr>,\n",
       " <td id=\"flight\">Flight No</td>,\n",
       " <td>Launch site</td>,\n",
       " <td>Payload mass</td>,\n",
       " <tr> <td>1</td><td><a href=\"https://en.wikipedia.org/wiki/Florida\">Florida<a></a></a></td><td>300 kg</td></tr>,\n",
       " <td>1</td>,\n",
       " <td><a href=\"https://en.wikipedia.org/wiki/Florida\">Florida<a></a></a></td>,\n",
       " <a href=\"https://en.wikipedia.org/wiki/Florida\">Florida<a></a></a>,\n",
       " <a></a>,\n",
       " <td>300 kg</td>,\n",
       " <tr><td>2</td><td><a href=\"https://en.wikipedia.org/wiki/Texas\">Texas</a></td><td>94 kg</td></tr>,\n",
       " <td>2</td>,\n",
       " <td><a href=\"https://en.wikipedia.org/wiki/Texas\">Texas</a></td>,\n",
       " <a href=\"https://en.wikipedia.org/wiki/Texas\">Texas</a>,\n",
       " <td>94 kg</td>,\n",
       " <tr><td>3</td><td><a href=\"https://en.wikipedia.org/wiki/Florida\">Florida<a> </a></a></td><td>80 kg</td></tr>,\n",
       " <td>3</td>,\n",
       " <td><a href=\"https://en.wikipedia.org/wiki/Florida\">Florida<a> </a></a></td>,\n",
       " <a href=\"https://en.wikipedia.org/wiki/Florida\">Florida<a> </a></a>,\n",
       " <a> </a>,\n",
       " <td>80 kg</td>]"
      ]
     },
     "execution_count": 41,
     "metadata": {},
     "output_type": "execute_result"
    }
   ],
   "source": [
    "table_bs.find_all()"
   ]
  },
  {
   "cell_type": "markdown",
   "metadata": {},
   "source": [
    "<details><summary>Click here for the solution</summary>\n",
    "\n",
    "```\n",
    "table_bs.find_all(href=False)\n",
    "\n",
    "```\n",
    "\n",
    "</details>\n"
   ]
  },
  {
   "cell_type": "markdown",
   "metadata": {},
   "source": [
    "Using the soup object <code>soup</code>, find the element with the <code>id</code> attribute content set to <code>\"boldest\"</code>.\n"
   ]
  },
  {
   "cell_type": "code",
   "execution_count": 46,
   "metadata": {},
   "outputs": [
    {
     "data": {
      "text/plain": [
       "[<b id=\"boldest\">Lebron James</b>]"
      ]
     },
     "execution_count": 46,
     "metadata": {},
     "output_type": "execute_result"
    }
   ],
   "source": [
    "soup.find_all(id=\"boldest\")"
   ]
  },
  {
   "cell_type": "markdown",
   "metadata": {},
   "source": [
    "<details><summary>Click here for the solution</summary>\n",
    "\n",
    "```\n",
    "soup.find_all(id=\"boldest\")\n",
    "\n",
    "```\n",
    "\n",
    "</details>\n"
   ]
  },
  {
   "cell_type": "markdown",
   "metadata": {},
   "source": [
    "### string\n"
   ]
  },
  {
   "cell_type": "markdown",
   "metadata": {},
   "source": [
    "With string you can search for strings instead of tags, where we find all the elments with Florida:\n"
   ]
  },
  {
   "cell_type": "code",
   "execution_count": 47,
   "metadata": {},
   "outputs": [
    {
     "data": {
      "text/plain": [
       "['Florida', 'Florida']"
      ]
     },
     "execution_count": 47,
     "metadata": {},
     "output_type": "execute_result"
    }
   ],
   "source": [
    "table_bs.find_all(string=\"Florida\")"
   ]
  },
  {
   "cell_type": "markdown",
   "metadata": {},
   "source": [
    "## find\n"
   ]
  },
  {
   "cell_type": "markdown",
   "metadata": {},
   "source": [
    "The <code>find_all()</code> method scans the entire document looking for results, it’s if you are looking for one element you can use the <code>find()</code> method to find the first element in the document. Consider the following two table:\n"
   ]
  },
  {
   "cell_type": "code",
   "execution_count": 48,
   "metadata": {},
   "outputs": [
    {
     "data": {
      "text/html": [
       "<h3>Rocket Launch </h3>\n",
       "\n",
       "<p>\n",
       "<table class='rocket'>\n",
       "  <tr>\n",
       "    <td>Flight No</td>\n",
       "    <td>Launch site</td> \n",
       "    <td>Payload mass</td>\n",
       "  </tr>\n",
       "  <tr>\n",
       "    <td>1</td>\n",
       "    <td>Florida</td>\n",
       "    <td>300 kg</td>\n",
       "  </tr>\n",
       "  <tr>\n",
       "    <td>2</td>\n",
       "    <td>Texas</td>\n",
       "    <td>94 kg</td>\n",
       "  </tr>\n",
       "  <tr>\n",
       "    <td>3</td>\n",
       "    <td>Florida </td>\n",
       "    <td>80 kg</td>\n",
       "  </tr>\n",
       "</table>\n",
       "</p>\n",
       "<p>\n",
       "\n",
       "<h3>Pizza Party  </h3>\n",
       "  \n",
       "    \n",
       "<table class='pizza'>\n",
       "  <tr>\n",
       "    <td>Pizza Place</td>\n",
       "    <td>Orders</td> \n",
       "    <td>Slices </td>\n",
       "   </tr>\n",
       "  <tr>\n",
       "    <td>Domino's Pizza</td>\n",
       "    <td>10</td>\n",
       "    <td>100</td>\n",
       "  </tr>\n",
       "  <tr>\n",
       "    <td>Little Caesars</td>\n",
       "    <td>12</td>\n",
       "    <td >144 </td>\n",
       "  </tr>\n",
       "  <tr>\n",
       "    <td>Papa John's </td>\n",
       "    <td>15 </td>\n",
       "    <td>165</td>\n",
       "  </tr>\n"
      ],
      "text/plain": [
       "<IPython.core.display.HTML object>"
      ]
     },
     "metadata": {},
     "output_type": "display_data"
    }
   ],
   "source": [
    "%%html\n",
    "<h3>Rocket Launch </h3>\n",
    "\n",
    "<p>\n",
    "<table class='rocket'>\n",
    "  <tr>\n",
    "    <td>Flight No</td>\n",
    "    <td>Launch site</td> \n",
    "    <td>Payload mass</td>\n",
    "  </tr>\n",
    "  <tr>\n",
    "    <td>1</td>\n",
    "    <td>Florida</td>\n",
    "    <td>300 kg</td>\n",
    "  </tr>\n",
    "  <tr>\n",
    "    <td>2</td>\n",
    "    <td>Texas</td>\n",
    "    <td>94 kg</td>\n",
    "  </tr>\n",
    "  <tr>\n",
    "    <td>3</td>\n",
    "    <td>Florida </td>\n",
    "    <td>80 kg</td>\n",
    "  </tr>\n",
    "</table>\n",
    "</p>\n",
    "<p>\n",
    "\n",
    "<h3>Pizza Party  </h3>\n",
    "  \n",
    "    \n",
    "<table class='pizza'>\n",
    "  <tr>\n",
    "    <td>Pizza Place</td>\n",
    "    <td>Orders</td> \n",
    "    <td>Slices </td>\n",
    "   </tr>\n",
    "  <tr>\n",
    "    <td>Domino's Pizza</td>\n",
    "    <td>10</td>\n",
    "    <td>100</td>\n",
    "  </tr>\n",
    "  <tr>\n",
    "    <td>Little Caesars</td>\n",
    "    <td>12</td>\n",
    "    <td >144 </td>\n",
    "  </tr>\n",
    "  <tr>\n",
    "    <td>Papa John's </td>\n",
    "    <td>15 </td>\n",
    "    <td>165</td>\n",
    "  </tr>\n"
   ]
  },
  {
   "cell_type": "markdown",
   "metadata": {},
   "source": [
    "We store the HTML as a Python string and assign <code>two_tables</code>:\n"
   ]
  },
  {
   "cell_type": "code",
   "execution_count": 49,
   "metadata": {},
   "outputs": [],
   "source": [
    "two_tables=\"<h3>Rocket Launch </h3><p><table class='rocket'><tr><td>Flight No</td><td>Launch site</td> <td>Payload mass</td></tr><tr><td>1</td><td>Florida</td><td>300 kg</td></tr><tr><td>2</td><td>Texas</td><td>94 kg</td></tr><tr><td>3</td><td>Florida </td><td>80 kg</td></tr></table></p><p><h3>Pizza Party  </h3><table class='pizza'><tr><td>Pizza Place</td><td>Orders</td> <td>Slices </td></tr><tr><td>Domino's Pizza</td><td>10</td><td>100</td></tr><tr><td>Little Caesars</td><td>12</td><td >144 </td></tr><tr><td>Papa John's </td><td>15 </td><td>165</td></tr>\""
   ]
  },
  {
   "cell_type": "markdown",
   "metadata": {},
   "source": [
    "We create a <code>BeautifulSoup</code> object  <code>two_tables_bs</code>\n"
   ]
  },
  {
   "cell_type": "code",
   "execution_count": 50,
   "metadata": {},
   "outputs": [],
   "source": [
    "two_tables_bs= BeautifulSoup(two_tables, 'html.parser')"
   ]
  },
  {
   "cell_type": "markdown",
   "metadata": {},
   "source": [
    "We can find the first table using the tag name table\n"
   ]
  },
  {
   "cell_type": "code",
   "execution_count": 51,
   "metadata": {},
   "outputs": [
    {
     "data": {
      "text/plain": [
       "<table class=\"rocket\"><tr><td>Flight No</td><td>Launch site</td> <td>Payload mass</td></tr><tr><td>1</td><td>Florida</td><td>300 kg</td></tr><tr><td>2</td><td>Texas</td><td>94 kg</td></tr><tr><td>3</td><td>Florida </td><td>80 kg</td></tr></table>"
      ]
     },
     "execution_count": 51,
     "metadata": {},
     "output_type": "execute_result"
    }
   ],
   "source": [
    "two_tables_bs.find(\"table\")"
   ]
  },
  {
   "cell_type": "markdown",
   "metadata": {},
   "source": [
    "We can filter on the class attribute to find the second table, but because class is a keyword in Python, we add an underscore.\n"
   ]
  },
  {
   "cell_type": "code",
   "execution_count": 53,
   "metadata": {},
   "outputs": [
    {
     "data": {
      "text/plain": [
       "<table class=\"pizza\"><tr><td>Pizza Place</td><td>Orders</td> <td>Slices </td></tr><tr><td>Domino's Pizza</td><td>10</td><td>100</td></tr><tr><td>Little Caesars</td><td>12</td><td>144 </td></tr><tr><td>Papa John's </td><td>15 </td><td>165</td></tr></table>"
      ]
     },
     "execution_count": 53,
     "metadata": {},
     "output_type": "execute_result"
    }
   ],
   "source": [
    "two_tables_bs.find(\"table\",class_='pizza')"
   ]
  },
  {
   "cell_type": "markdown",
   "metadata": {},
   "source": [
    "<h2 id=\"DSCW\">Downloading And Scraping The Contents Of A Web Page</h2> \n"
   ]
  },
  {
   "cell_type": "markdown",
   "metadata": {},
   "source": [
    "We Download the contents of the web page:\n"
   ]
  },
  {
   "cell_type": "code",
   "execution_count": 54,
   "metadata": {},
   "outputs": [],
   "source": [
    "url = \"http://www.ibm.com\""
   ]
  },
  {
   "cell_type": "markdown",
   "metadata": {},
   "source": [
    "We use <code>get</code> to download the contents of the webpage in text format and store in a variable called <code>data</code>:\n"
   ]
  },
  {
   "cell_type": "code",
   "execution_count": 56,
   "metadata": {},
   "outputs": [
    {
     "data": {
      "text/plain": [
       "'<!DOCTYPE html><html lang=\"en-US\"><head><meta name=\"viewport\" content=\"width=device-width\"/><meta charSet=\"utf-8\"/><title>IBM - United States</title><link rel=\"canonical\" href=\"https://www.ibm.com/us-en\"/><meta name=\"robots\" content=\"index,follow\"/><meta name=\"description\" content=\"For more than a century IBM has been dedicated to every client&#x27;s success and to creating innovations that matter for the world\"/><meta name=\"keywords\" content=\"IBM\"/><meta http-equiv=\"X-UA-Compatible\" content=\"IE=Edge\"/><meta http-equiv=\"Cache-Control\" content=\"no-cache, no-store, must-revalidate\"/><meta http-equiv=\"Pragma\" content=\"no-cache\"/><meta http-equiv=\"Expires\" content=\"0\"/><link rel=\"icon\" href=\"//www.ibm.com/favicon.ico\"/><meta name=\"ibmdotcom.version.react\" content=\"^1.38.0\"/><meta name=\"ibmdotcom.version.styles\" content=\"^1.38.0\"/><meta name=\"ibmdotcom.build.time\" content=\"2023-03-29T16:53:00.931Z\"/><meta name=\"dcterms.date\" content=\"2015-10-01\"/><meta name=\"dcterms.rights\" content=\"Â© Copyright IBM Corp. 2020\"/><meta name=\"geo.country\" content=\"US\"/><script>digitalData={\"page\":{\"category\":{\"primaryCategory\":\"SB03\"},\"pageInfo\":{\"effectiveDate\":\"2022-12-15\",\"expiryDate\":\"2027-12-15\",\"language\":\"en-us\",\"publishDate\":\"2022-12-15\",\"publisher\":\"IBM Corporation\",\"version\":\"Carbon:IBM.com Library v1.32.0\",\"ibm\":{\"contentDelivery\":\"Hand coded\",\"contentProducer\":\"Lance Tappana\",\"country\":\"us\",\"industry\":\"ZZ\",\"owner\":\"Corporate Webmaster/New York/IBM\",\"siteID\":\"GLOBAL\",\"subject\":\"IBM000\",\"type\":\"CT052\",\"messaging\":{\"routing\":{\"focusArea\":\"Miscellaneous - Cross IBM\",\"languageCode\":\"en\",\"regionCode\":\"US\"},\"translation\":{\"languageCode\":\"en\",\"regionCode\":\"US\"}}},\"hotjar\":{\"enabled\":0}}}};</script><script>\\n            window.hj=window.hj||function(){(hj.q=hj.q||[]).push(arguments)};\\n            window.hj(\\'tagRecording\\', [\\'hjLoaded\\']);\\n            document.addEventListener(\\'onMegaMenuToggle\\', e => {\\n              if(e.target.getAttribute(\"data-title\") == \\'products-solutions\\') {\\n                window.hj(\\'trigger\\', \\'MM_products-solutions\\');\\n              }\\n              if(e.target.getAttribute(\"data-title\") == \\'services-consulting\\') {\\n                window.hj(\\'trigger\\', \\'MM_services-consulting\\');\\n              }\\n              if(e.target.getAttribute(\"data-title\") == \\'learn-support\\') {\\n                window.hj(\\'trigger\\', \\'MM_learn-support\\');\\n              }\\n              if(e.target.getAttribute(\"data-title\") == \\'explore-more\\') {\\n                window.hj(\\'trigger\\', \\'MM_explore-more\\');\\n              }\\n            });\\n\\n            </script><script type=\"module\" src=\"https://1.www.s81c.com/common/carbon-for-ibm-dotcom/tag/v2/alpha/masthead.min.js\"></script><script>console.log(&#x27;test new HP&#x27;);</script><link rel=\"alternate\" hrefLang=\"en-us\" href=\"https://www.ibm.com/us-en\"/><link rel=\"alternate\" hrefLang=\"x-default\" href=\"https://www.ibm.com\"/><link rel=\"alternate\" hrefLang=\"en-af\" href=\"https://www.ibm.com/af-en\"/><link rel=\"alternate\" hrefLang=\"fr-dz\" href=\"https://www.ibm.com/dz-fr\"/><link rel=\"alternate\" hrefLang=\"pt-ao\" href=\"https://www.ibm.com/ao-pt\"/><link rel=\"alternate\" hrefLang=\"en-ai\" href=\"https://www.ibm.com/ai-en\"/><link rel=\"alternate\" hrefLang=\"en-ag\" href=\"https://www.ibm.com/ag-en\"/><link rel=\"alternate\" hrefLang=\"es-ar\" href=\"https://www.ibm.com/ar-es\"/><link rel=\"alternate\" hrefLang=\"en-aw\" href=\"https://www.ibm.com/aw-en\"/><link rel=\"alternate\" hrefLang=\"en-au\" href=\"https://www.ibm.com/au-en\"/><link rel=\"alternate\" hrefLang=\"de-at\" href=\"https://www.ibm.com/at-de\"/><link rel=\"alternate\" hrefLang=\"en-bs\" href=\"https://www.ibm.com/bs-en\"/><link rel=\"alternate\" hrefLang=\"en-bh\" href=\"https://www.ibm.com/bh-en\"/><link rel=\"alternate\" hrefLang=\"en-bd\" href=\"https://www.ibm.com/bd-en\"/><link rel=\"alternate\" hrefLang=\"en-bb\" href=\"https://www.ibm.com/bb-en\"/><link rel=\"alternate\" hrefLang=\"en-be\" href=\"https://www.ibm.com/be-en\"/><link rel=\"alternate\" hrefLang=\"en-bm\" href=\"https://www.ibm.com/bm-en\"/><link rel=\"alternate\" hrefLang=\"es-bo\" href=\"https://www.ibm.com/bo-es\"/><link rel=\"alternate\" hrefLang=\"en-bw\" href=\"https://www.ibm.com/bw-en\"/><link rel=\"alternate\" hrefLang=\"pt-br\" href=\"https://www.ibm.com/br-pt\"/><link rel=\"alternate\" hrefLang=\"en-vg\" href=\"https://www.ibm.com/vg-en\"/><link rel=\"alternate\" hrefLang=\"en-bn\" href=\"https://www.ibm.com/bn-en\"/><link rel=\"alternate\" hrefLang=\"en-bg\" href=\"https://www.ibm.com/bg-en\"/><link rel=\"alternate\" hrefLang=\"fr-bf\" href=\"https://www.ibm.com/bf-fr\"/><link rel=\"alternate\" hrefLang=\"en-kh\" href=\"https://www.ibm.com/kh-en\"/><link rel=\"alternate\" hrefLang=\"fr-cm\" href=\"https://www.ibm.com/cm-fr\"/><link rel=\"alternate\" hrefLang=\"en-ca\" href=\"https://www.ibm.com/ca-en\"/><link rel=\"alternate\" hrefLang=\"fr-ca\" href=\"https://www.ibm.com/ca-fr\"/><link rel=\"alternate\" hrefLang=\"en-ky\" href=\"https://www.ibm.com/ky-en\"/><link rel=\"alternate\" hrefLang=\"fr-td\" href=\"https://www.ibm.com/td-fr\"/><link rel=\"alternate\" hrefLang=\"es-cl\" href=\"https://www.ibm.com/cl-es\"/><link rel=\"alternate\" hrefLang=\"zh-cn\" href=\"https://www.ibm.com/cn-zh\"/><link rel=\"alternate\" hrefLang=\"es-co\" href=\"https://www.ibm.com/co-es\"/><link rel=\"alternate\" hrefLang=\"fr-cd\" href=\"https://www.ibm.com/cd-fr\"/><link rel=\"alternate\" hrefLang=\"fr-cg\" href=\"https://www.ibm.com/cg-fr\"/><link rel=\"alternate\" hrefLang=\"es-cr\" href=\"https://www.ibm.com/cr-es\"/><link rel=\"alternate\" hrefLang=\"en-hr\" href=\"https://www.ibm.com/hr-en\"/><link rel=\"alternate\" hrefLang=\"en-cw\" href=\"https://www.ibm.com/cw-en\"/><link rel=\"alternate\" hrefLang=\"en-cy\" href=\"https://www.ibm.com/cy-en\"/><link rel=\"alternate\" hrefLang=\"en-cz\" href=\"https://www.ibm.com/cz-en\"/><link rel=\"alternate\" hrefLang=\"en-dm\" href=\"https://www.ibm.com/dm-en\"/><link rel=\"alternate\" hrefLang=\"en-dk\" href=\"https://www.ibm.com/dk-en\"/><link rel=\"alternate\" hrefLang=\"es-ec\" href=\"https://www.ibm.com/ec-es\"/><link rel=\"alternate\" hrefLang=\"en-eg\" href=\"https://www.ibm.com/eg-en\"/><link rel=\"alternate\" hrefLang=\"en-ee\" href=\"https://www.ibm.com/ee-en\"/><link rel=\"alternate\" hrefLang=\"en-et\" href=\"https://www.ibm.com/et-en\"/><link rel=\"alternate\" hrefLang=\"en-fi\" href=\"https://www.ibm.com/fi-en\"/><link rel=\"alternate\" hrefLang=\"fr-fr\" href=\"https://www.ibm.com/fr-fr\"/><link rel=\"alternate\" hrefLang=\"fr-ga\" href=\"https://www.ibm.com/ga-fr\"/><link rel=\"alternate\" hrefLang=\"de-de\" href=\"https://www.ibm.com/de-de\"/><link rel=\"alternate\" hrefLang=\"en-gh\" href=\"https://www.ibm.com/gh-en\"/><link rel=\"alternate\" hrefLang=\"en-gr\" href=\"https://www.ibm.com/gr-en\"/><link rel=\"alternate\" hrefLang=\"en-gd\" href=\"https://www.ibm.com/gd-en\"/><link rel=\"alternate\" hrefLang=\"en-gy\" href=\"https://www.ibm.com/gy-en\"/><link rel=\"alternate\" hrefLang=\"en-hk\" href=\"https://www.ibm.com/hk-en\"/><link rel=\"alternate\" hrefLang=\"en-hu\" href=\"https://www.ibm.com/hu-en\"/><link rel=\"alternate\" hrefLang=\"en-in\" href=\"https://www.ibm.com/in-en\"/><link rel=\"alternate\" hrefLang=\"en-id\" href=\"https://www.ibm.com/id-en\"/><link rel=\"alternate\" hrefLang=\"en-iq\" href=\"https://www.ibm.com/iq-en\"/><link rel=\"alternate\" hrefLang=\"en-ie\" href=\"https://www.ibm.com/ie-en\"/><link rel=\"alternate\" hrefLang=\"en-il\" href=\"https://www.ibm.com/il-en\"/><link rel=\"alternate\" hrefLang=\"it-it\" href=\"https://www.ibm.com/it-it\"/><link rel=\"alternate\" hrefLang=\"fr-ci\" href=\"https://www.ibm.com/ci-fr\"/><link rel=\"alternate\" hrefLang=\"en-jm\" href=\"https://www.ibm.com/jm-en\"/><link rel=\"alternate\" hrefLang=\"ja-jp\" href=\"https://www.ibm.com/jp-ja\"/><link rel=\"alternate\" hrefLang=\"en-jo\" href=\"https://www.ibm.com/jo-en\"/><link rel=\"alternate\" hrefLang=\"en-kz\" href=\"https://www.ibm.com/kz-en\"/><link rel=\"alternate\" hrefLang=\"en-ke\" href=\"https://www.ibm.com/ke-en\"/><link rel=\"alternate\" hrefLang=\"ko-kr\" href=\"https://www.ibm.com/kr-ko\"/><link rel=\"alternate\" hrefLang=\"en-kw\" href=\"https://www.ibm.com/kw-en\"/><link rel=\"alternate\" hrefLang=\"en-lv\" href=\"https://www.ibm.com/lv-en\"/><link rel=\"alternate\" hrefLang=\"en-lb\" href=\"https://www.ibm.com/lb-en\"/><link rel=\"alternate\" hrefLang=\"en-ly\" href=\"https://www.ibm.com/ly-en\"/><link rel=\"alternate\" hrefLang=\"en-lt\" href=\"https://www.ibm.com/lt-en\"/><link rel=\"alternate\" hrefLang=\"en-mw\" href=\"https://www.ibm.com/mw-en\"/><link rel=\"alternate\" hrefLang=\"en-my\" href=\"https://www.ibm.com/my-en\"/><link rel=\"alternate\" hrefLang=\"fr-mu\" href=\"https://www.ibm.com/mu-fr\"/><link rel=\"alternate\" hrefLang=\"es-mx\" href=\"https://www.ibm.com/mx-es\"/><link rel=\"alternate\" hrefLang=\"en-ms\" href=\"https://www.ibm.com/ms-en\"/><link rel=\"alternate\" hrefLang=\"fr-ma\" href=\"https://www.ibm.com/ma-fr\"/><link rel=\"alternate\" hrefLang=\"pt-mz\" href=\"https://www.ibm.com/mz-pt\"/><link rel=\"alternate\" hrefLang=\"en-na\" href=\"https://www.ibm.com/na-en\"/><link rel=\"alternate\" hrefLang=\"en-np\" href=\"https://www.ibm.com/np-en\"/><link rel=\"alternate\" hrefLang=\"en-nl\" href=\"https://www.ibm.com/nl-en\"/><link rel=\"alternate\" hrefLang=\"en-nz\" href=\"https://www.ibm.com/nz-en\"/><link rel=\"alternate\" hrefLang=\"fr-ne\" href=\"https://www.ibm.com/ne-fr\"/><link rel=\"alternate\" hrefLang=\"en-ng\" href=\"https://www.ibm.com/ng-en\"/><link rel=\"alternate\" hrefLang=\"en-no\" href=\"https://www.ibm.com/no-en\"/><link rel=\"alternate\" hrefLang=\"en-om\" href=\"https://www.ibm.com/om-en\"/><link rel=\"alternate\" hrefLang=\"en-pk\" href=\"https://www.ibm.com/pk-en\"/><link rel=\"alternate\" hrefLang=\"es-py\" href=\"https://www.ibm.com/py-es\"/><link rel=\"alternate\" hrefLang=\"es-pe\" href=\"https://www.ibm.com/pe-es\"/><link rel=\"alternate\" hrefLang=\"en-ph\" href=\"https://www.ibm.com/ph-en\"/><link rel=\"alternate\" hrefLang=\"pl-pl\" href=\"https://www.ibm.com/pl-pl\"/><link rel=\"alternate\" hrefLang=\"en-pt\" href=\"https://www.ibm.com/pt-en\"/><link rel=\"alternate\" hrefLang=\"en-qa\" href=\"https://www.ibm.com/qa-en\"/><link rel=\"alternate\" hrefLang=\"en-ro\" href=\"https://www.ibm.com/ro-en\"/><link rel=\"alternate\" hrefLang=\"ru-ru\" href=\"https://www.ibm.com/ru-ru\"/><link rel=\"alternate\" hrefLang=\"en-kn\" href=\"https://www.ibm.com/kn-en\"/><link rel=\"alternate\" hrefLang=\"en-lc\" href=\"https://www.ibm.com/lc-en\"/><link rel=\"alternate\" hrefLang=\"en-vc\" href=\"https://www.ibm.com/vc-en\"/><link rel=\"alternate\" hrefLang=\"en-sa\" href=\"https://www.ibm.com/sa-en\"/><link rel=\"alternate\" hrefLang=\"fr-sn\" href=\"https://www.ibm.com/sn-fr\"/><link rel=\"alternate\" hrefLang=\"en-rs\" href=\"https://www.ibm.com/rs-en\"/><link rel=\"alternate\" hrefLang=\"fr-sc\" href=\"https://www.ibm.com/sc-fr\"/><link rel=\"alternate\" hrefLang=\"en-sl\" href=\"https://www.ibm.com/sl-en\"/><link rel=\"alternate\" hrefLang=\"en-sg\" href=\"https://www.ibm.com/sg-en\"/><link rel=\"alternate\" hrefLang=\"en-sk\" href=\"https://www.ibm.com/sk-en\"/><link rel=\"alternate\" hrefLang=\"en-si\" href=\"https://www.ibm.com/si-en\"/><link rel=\"alternate\" hrefLang=\"en-za\" href=\"https://www.ibm.com/za-en\"/><link rel=\"alternate\" hrefLang=\"es-es\" href=\"https://www.ibm.com/es-es\"/><link rel=\"alternate\" hrefLang=\"en-lk\" href=\"https://www.ibm.com/lk-en\"/><link rel=\"alternate\" hrefLang=\"en-sr\" href=\"https://www.ibm.com/sr-en\"/><link rel=\"alternate\" hrefLang=\"en-se\" href=\"https://www.ibm.com/se-en\"/><link rel=\"alternate\" hrefLang=\"fr-ch\" href=\"https://www.ibm.com/ch-fr\"/><link rel=\"alternate\" hrefLang=\"de-ch\" href=\"https://www.ibm.com/ch-de\"/><link rel=\"alternate\" hrefLang=\"zh-tw\" href=\"https://www.ibm.com/tw-zh\"/><link rel=\"alternate\" hrefLang=\"en-tz\" href=\"https://www.ibm.com/tz-en\"/><link rel=\"alternate\" hrefLang=\"en-th\" href=\"https://www.ibm.com/th-en\"/><link rel=\"alternate\" hrefLang=\"en-tt\" href=\"https://www.ibm.com/tt-en\"/><link rel=\"alternate\" hrefLang=\"fr-tn\" href=\"https://www.ibm.com/tn-fr\"/><link rel=\"alternate\" hrefLang=\"tr-tr\" href=\"https://www.ibm.com/tr-tr\"/><link rel=\"alternate\" hrefLang=\"en-ye\" href=\"https://www.ibm.com/ye-en\"/><link rel=\"alternate\" hrefLang=\"en-tc\" href=\"https://www.ibm.com/tc-en\"/><link rel=\"alternate\" hrefLang=\"en-ua\" href=\"https://www.ibm.com/ua-en\"/><link rel=\"alternate\" hrefLang=\"en-ug\" href=\"https://www.ibm.com/ug-en\"/><link rel=\"alternate\" hrefLang=\"en-ae\" href=\"https://www.ibm.com/ae-en\"/><link rel=\"alternate\" hrefLang=\"en-gb\" href=\"https://www.ibm.com/uk-en\"/><link rel=\"alternate\" hrefLang=\"es-uy\" href=\"https://www.ibm.com/uy-es\"/><link rel=\"alternate\" hrefLang=\"en-uz\" href=\"https://www.ibm.com/uz-en\"/><link rel=\"alternate\" hrefLang=\"es-ve\" href=\"https://www.ibm.com/ve-es\"/><link rel=\"alternate\" hrefLang=\"en-vn\" href=\"https://www.ibm.com/vn-en\"/><link rel=\"alternate\" hrefLang=\"en-zm\" href=\"https://www.ibm.com/zm-en\"/><link rel=\"alternate\" hrefLang=\"en-zw\" href=\"https://www.ibm.com/zw-en\"/><meta name=\"next-head-count\" content=\"156\"/><link rel=\"preload\" href=\"./_next/static/css/styles.00ad75a6.chunk.css\" as=\"style\"/><link rel=\"stylesheet\" href=\"./_next/static/css/styles.00ad75a6.chunk.css\" data-n-g=\"\"/><noscript data-n-css=\"\"></noscript><link rel=\"preload\" href=\"./_next/static/chunks/webpack-9a6e2dd34947de61505d.js\" as=\"script\"/><link rel=\"preload\" href=\"./_next/static/chunks/framework.602aaa49e9cf44108ea4.js\" as=\"script\"/><link rel=\"preload\" href=\"./_next/static/chunks/commons.56cd7ef778495da405ee.js\" as=\"script\"/><link rel=\"preload\" href=\"./_next/static/chunks/3ef630e34cd10ba68f9d468ac363ff81c534e1e9.d2f601340e1658353edc.js\" as=\"script\"/><link rel=\"preload\" href=\"./_next/static/chunks/main-51700067fcf16cbe3818.js\" as=\"script\"/><link rel=\"preload\" href=\"./_next/static/chunks/styles.3461e1160e1b06bf3496.js\" as=\"script\"/><link rel=\"preload\" href=\"./_next/static/chunks/pages/_app-773a9a5a97d6bc6829ca.js\" as=\"script\"/><link rel=\"preload\" href=\"./_next/static/chunks/1c920f04.f4270e422fa8c16ba0f4.js\" as=\"script\"/><link rel=\"preload\" href=\"./_next/static/chunks/5f6bb6fb.63224c0f3a7ce047c8e2.js\" as=\"script\"/><link rel=\"preload\" href=\"./_next/static/chunks/8f19d780.9518ac89ebf3ed164ec7.js\" as=\"script\"/><link rel=\"preload\" href=\"./_next/static/chunks/8edc3fe5.f57e384a441d6dc22242.js\" as=\"script\"/><link rel=\"preload\" href=\"./_next/static/chunks/fc20e1c4.d98d23767340a1237305.js\" as=\"script\"/><link rel=\"preload\" href=\"./_next/static/chunks/a37fbe3b.f465653335f45cc0fa1b.js\" as=\"script\"/><link rel=\"preload\" href=\"./_next/static/chunks/bc80632e.7250d666a9b091e0e0e4.js\" as=\"script\"/><link rel=\"preload\" href=\"./_next/static/chunks/1dd0fb51.f16e33f7e2db3449d18e.js\" as=\"script\"/><link rel=\"preload\" href=\"./_next/static/chunks/56b0df7b.a548554a4a80dea8f00a.js\" as=\"script\"/><link rel=\"preload\" href=\"./_next/static/chunks/b222b98b.ebaff15e961fd9a66fec.js\" as=\"script\"/><link rel=\"preload\" href=\"./_next/static/chunks/500f7593.4b01426721d5ac82f9ba.js\" as=\"script\"/><link rel=\"preload\" href=\"./_next/static/chunks/5d8d49e442f4e00190cb1a13966c1f91ed87c0f4.c5cea6b9909ecf9bea26.js\" as=\"script\"/><link rel=\"preload\" href=\"./_next/static/chunks/11.f003844d8f71e73157c2.js\" as=\"script\"/><link rel=\"preload\" href=\"./_next/static/chunks/pages/index-50de45925217e14ec11a.js\" as=\"script\"/></head><body><div id=\"__next\"><div><div class=\"bx--dotcom-shell\"><main class=\"dds-ce-demo--ui-shell-content\"><div><dds-masthead-container\\n                      data-endpoint=\"/common/carbon-for-ibm-dotcom/translations/masthead-footer/v2\"\\n                      auth-method=\"profile-api\"\\n                      has-contact=\"false\">\\n                  </dds-masthead-container></div><div class=\"newsflash-placeholder\"></div><div id=\"typing-leadspace\" class=\"bx--grid\"><div class=\"bx--row\"><div class=\"bx--col-lg-14\"><div class=\"bx--typewriter-effect bx--typewriter-effect-large\"><h1 class=\"bx--leadspace-title\"><span class=\"bx--text-black\"></span><span class=\"bx--text-blue\">|</span><span class=\"bx--text-white\">You see golf, we see data</span></h1><p class=\"bx--leadspace-copy\">Every shot at the Masters produces more than 30 data points. See how IBM turns that data into award-winning digital experiences.</p><ol class=\"bx--buttongroup\" data-autoid=\"dds--button-group\" style=\"--dds--button-group--item-count:1\"><li class=\"bx--buttongroup-item\"><a data-autoid=\"dds--button-group-0\" copy=\"Follow the data\" tabindex=\"0\" class=\"bx--btn bx--btn--primary bx--btn--expressive\" href=\"https://www.ibm.com/sports/masters/\">Follow the data<svg focusable=\"false\" preserveAspectRatio=\"xMidYMid meet\" xmlns=\"http://www.w3.org/2000/svg\" fill=\"currentColor\" width=\"20\" height=\"20\" viewBox=\"0 0 20 20\" aria-hidden=\"true\" class=\"bx--btn__icon\"><path d=\"M11.8 2.8L10.8 3.8 16.2 9.3 1 9.3 1 10.7 16.2 10.7 10.8 16.2 11.8 17.2 19 10z\"></path></svg></a></li></ol></div></div></div></div><hr data-autoid=\"dds--hr\" class=\"bx--hr bx--hr--medium-contrast\"/><div id=\"main-content\" style=\"background-color:#FFF\"><div><div class=\"ibm-br--toc-section\"><section data-autoid=\"dds--tableofcontents\" class=\"bx--tableofcontents bx--tableofcontents--white\"><div class=\"dds-ce--table-of-contents__container\"><div class=\"bx--tableofcontents__sidebar\"><div class=\"bx--tableofcontents__mobile-top\"></div><div style=\"position:sticky;top:64px\"><div class=\"bx--tableofcontents__desktop\" data-autoid=\"dds--tableofcontents__desktop\"><ul></ul></div><div class=\"bx--tableofcontents__mobile\" data-autoid=\"dds--tableofcontents__mobile\"><div class=\"bx--tableofcontents__mobile__select__wrapper\"><select aria-label=\"Jump to\" class=\"bx--tableofcontents__mobile__select\"><option selected=\"\" class=\"bx--tableofcontents__mobile__select__option\" data-autoid=\"dds--tableofcontents__mobile__select__option-menuLabel\" value=\"menuLabel\" disabled=\"\" hidden=\"\">Jump to ...</option></select><svg focusable=\"false\" preserveAspectRatio=\"xMidYMid meet\" xmlns=\"http://www.w3.org/2000/svg\" fill=\"currentColor\" aria-label=\"menu icon\" width=\"20\" height=\"20\" viewBox=\"0 0 32 32\" role=\"img\" class=\"bx--tableofcontents__mobile__select__icon\"><path d=\"M4 6H22V8H4zM4 12H22V14H4zM4 18H22V20H4zM4 24H22V26H4zM26 6H28V8H26zM26 12H28V14H26zM26 18H28V20H26zM26 24H28V26H26z\"></path><title>menu icon</title></svg></div></div></div></div><div class=\"bx--tableofcontents__content\"><div class=\"bx--tableofcontents__content-wrapper\"><a name=\"welcome\" data-title=\"About IBM\"></a><div class=\"ibm--br-intro-section ibm--fade\"><h2 class=\"bx--type-expressive-heading-05 ibm-br--heading-05\">We enable people, ideas and technologies to make the world work better through hybrid cloud and AI</h2><p><div class=\"bx--link-list\" data-autoid=\"dds--link-list\"><ul class=\"bx--link-list__list bx--link-list__list--vertical\"><li class=\"bx--link-list__list__CTA bx--link-list__list--local\"><div><div class=\"bx--link-with-icon__container\" data-autoid=\"dds--link-with-icon\"><a class=\"bx--link bx--link-with-icon bx--link-with-icon--inline-icon bx--link--lg\" href=\"https://www.ibm.com/about\"><span>About IBM</span><svg focusable=\"false\" preserveAspectRatio=\"xMidYMid meet\" xmlns=\"http://www.w3.org/2000/svg\" fill=\"currentColor\" width=\"20\" height=\"20\" viewBox=\"0 0 20 20\" aria-hidden=\"true\"><path d=\"M11.8 2.8L10.8 3.8 16.2 9.3 1 9.3 1 10.7 16.2 10.7 10.8 16.2 11.8 17.2 19 10z\"></path></svg></a></div></div></li></ul></div></p></div><a name=\"consulting\" data-title=\"Consulting\"></a><div class=\"ibm--spacer\"></div><div class=\"ibm--fade bx--custom-band-consulting\"><h2 class=\"bx--type-productive-heading-07\">Consulting</h2><dds-tabs-extended><dds-tab label=\"Overview\"><div class=\"bx--custom-content-item bx--grid bx--no-gutter\"><div class=\"bx--row\"><div class=\"bx--custom-content-item-col-image\"><div class=\"bx--image\" data-autoid=\"dds--image__longdescription\"><picture><img class=\"bx--image__img\" src=\"https://1.dam.s81c.com/p/0aac9cf57bcbf324/dotcom-1-overview.jpg.global.sr_16x9.jpg\" alt=\"Grid of diverse group of professionals\" aria-describedby=\"bx--image-1\"/></picture><div id=\"bx--image-1\" class=\"bx--image__longdescription\">Grid of diverse group of professionals</div></div></div><div class=\"bx--custom-content-item-col-content\"><h3>Accelerate together</h3><p>Work shoulder to shoulder with experts to accelerate business transformation.</p><div class=\"bx--link-list\" data-autoid=\"dds--link-list\"><ul class=\"bx--link-list__list bx--link-list__list--vertical\"><li class=\"bx--link-list__list__CTA bx--link-list__list--local\"><div><div class=\"bx--link-with-icon__container\" data-autoid=\"dds--link-with-icon\"><a class=\"bx--link bx--link-with-icon bx--link-with-icon--inline-icon bx--link--lg\" href=\"https://www.ibm.com/consulting/?lnk=flathl\"><span>Explore IBM Consulting services</span><svg focusable=\"false\" preserveAspectRatio=\"xMidYMid meet\" xmlns=\"http://www.w3.org/2000/svg\" fill=\"currentColor\" width=\"20\" height=\"20\" viewBox=\"0 0 20 20\" aria-hidden=\"true\"><path d=\"M11.8 2.8L10.8 3.8 16.2 9.3 1 9.3 1 10.7 16.2 10.7 10.8 16.2 11.8 17.2 19 10z\"></path></svg></a></div></div></li></ul></div></div></div></div></dds-tab><dds-tab label=\"Strategy\"><div class=\"bx--custom-content-item bx--grid bx--no-gutter\"><div class=\"bx--row\"><div class=\"bx--custom-content-item-col-image\"><div class=\"bx--image\" data-autoid=\"dds--image__longdescription\"><picture><img class=\"bx--image__img\" src=\"https://1.dam.s81c.com/p/0aac9cf57c4bf381/0935e0d55846b9ec_dotcom-2-strategy.jpg.global.m_16x9.jpg\" alt=\"professional pointing to a chart\" aria-describedby=\"bx--image-2\"/></picture><div id=\"bx--image-2\" class=\"bx--image__longdescription\">professional pointing to a chart</div></div></div><div class=\"bx--custom-content-item-col-content\"><h3>Rethink whatâ\\x80\\x99s possible</h3><p>Uncover the untapped potential inside your business.</p><div class=\"bx--link-list\" data-autoid=\"dds--link-list\"><ul class=\"bx--link-list__list bx--link-list__list--vertical\"><li class=\"bx--link-list__list__CTA bx--link-list__list--local\"><div><div class=\"bx--link-with-icon__container\" data-autoid=\"dds--link-with-icon\"><a class=\"bx--link bx--link-with-icon bx--link-with-icon--inline-icon bx--link--lg\" href=\"https://www.ibm.com/consulting/strategy/?lnk=flathl\"><span>Create your new strategy</span><svg focusable=\"false\" preserveAspectRatio=\"xMidYMid meet\" xmlns=\"http://www.w3.org/2000/svg\" fill=\"currentColor\" width=\"20\" height=\"20\" viewBox=\"0 0 20 20\" aria-hidden=\"true\"><path d=\"M11.8 2.8L10.8 3.8 16.2 9.3 1 9.3 1 10.7 16.2 10.7 10.8 16.2 11.8 17.2 19 10z\"></path></svg></a></div></div></li></ul></div></div></div></div></dds-tab><dds-tab label=\"Experience\"><div class=\"bx--custom-content-item bx--grid bx--no-gutter\"><div class=\"bx--row\"><div class=\"bx--custom-content-item-col-image\"><div class=\"bx--image\" data-autoid=\"dds--image__longdescription\"><picture><img class=\"bx--image__img\" src=\"https://1.dam.s81c.com/p/0aac9cf57c4bf382/0656655b47a3af8b_dotcom-3-experience.jpg.global.sr_16x9.jpg\" alt=\"two professionals working with a whiteboard outdoors\" aria-describedby=\"bx--image-3\"/></picture><div id=\"bx--image-3\" class=\"bx--image__longdescription\">two professionals working with a whiteboard outdoors</div></div></div><div class=\"bx--custom-content-item-col-content\"><h3>Engage at every touchpoint</h3><p>Reinvent your relationships with customers, employees and partners.</p><div class=\"bx--link-list\" data-autoid=\"dds--link-list\"><ul class=\"bx--link-list__list bx--link-list__list--vertical\"><li class=\"bx--link-list__list__CTA bx--link-list__list--local\"><div><div class=\"bx--link-with-icon__container\" data-autoid=\"dds--link-with-icon\"><a class=\"bx--link bx--link-with-icon bx--link-with-icon--inline-icon bx--link--lg\" href=\"https://www.ibm.com/consulting/ibmix?lnk=flathl\"><span>Transform your experiences</span><svg focusable=\"false\" preserveAspectRatio=\"xMidYMid meet\" xmlns=\"http://www.w3.org/2000/svg\" fill=\"currentColor\" width=\"20\" height=\"20\" viewBox=\"0 0 20 20\" aria-hidden=\"true\"><path d=\"M11.8 2.8L10.8 3.8 16.2 9.3 1 9.3 1 10.7 16.2 10.7 10.8 16.2 11.8 17.2 19 10z\"></path></svg></a></div></div></li></ul></div></div></div></div></dds-tab><dds-tab label=\"Technology\"><div class=\"bx--custom-content-item bx--grid bx--no-gutter\"><div class=\"bx--row\"><div class=\"bx--custom-content-item-col-image\"><div class=\"bx--image\" data-autoid=\"dds--image__longdescription\"><picture><img class=\"bx--image__img\" src=\"https://1.dam.s81c.com/p/0aac9cf57c4bf383/08f9513598a70746_dotcom-4-technology.jpg.global.sr_16x9.jpg\" alt=\"professionals working with a sticky notes on a whiteboard\" aria-describedby=\"bx--image-4\"/></picture><div id=\"bx--image-4\" class=\"bx--image__longdescription\">professionals working with a sticky notes on a whiteboard</div></div></div><div class=\"bx--custom-content-item-col-content\"><h3>The future is open</h3><p>From Hybrid Cloud to AI, Automation and Security, we unite an open ecosystem to help you scale impact.</p><div class=\"bx--link-list\" data-autoid=\"dds--link-list\"><ul class=\"bx--link-list__list bx--link-list__list--vertical\"><li class=\"bx--link-list__list__CTA bx--link-list__list--local\"><div><div class=\"bx--link-with-icon__container\" data-autoid=\"dds--link-with-icon\"><a class=\"bx--link bx--link-with-icon bx--link-with-icon--inline-icon bx--link--lg\" href=\"https://www.ibm.com/consulting/technology/\"><span>Modernize with purpose</span><svg focusable=\"false\" preserveAspectRatio=\"xMidYMid meet\" xmlns=\"http://www.w3.org/2000/svg\" fill=\"currentColor\" width=\"20\" height=\"20\" viewBox=\"0 0 20 20\" aria-hidden=\"true\"><path d=\"M11.8 2.8L10.8 3.8 16.2 9.3 1 9.3 1 10.7 16.2 10.7 10.8 16.2 11.8 17.2 19 10z\"></path></svg></a></div></div></li></ul></div></div></div></div></dds-tab><dds-tab label=\"Operations\"><div class=\"bx--custom-content-item bx--grid bx--no-gutter\"><div class=\"bx--row\"><div class=\"bx--custom-content-item-col-image\"><div class=\"bx--image\" data-autoid=\"dds--image__longdescription\"><picture><img class=\"bx--image__img\" src=\"https://1.dam.s81c.com/p/0aac9cf57c4bf380/0935e0d55846b9e4_dotcom-5-operations.jpg.global.sr_16x9.jpg\" alt=\"professionals having a conversation in an office\" aria-describedby=\"bx--image-5\"/></picture><div id=\"bx--image-5\" class=\"bx--image__longdescription\">professionals having a conversation in an office</div></div></div><div class=\"bx--custom-content-item-col-content\"><h3>Optimize your operations</h3><p>Increase productivity and reduce costs when you optimize your operations with Ai and automation.</p><div class=\"bx--link-list\" data-autoid=\"dds--link-list\"><ul class=\"bx--link-list__list bx--link-list__list--vertical\"><li class=\"bx--link-list__list__CTA bx--link-list__list--local\"><div><div class=\"bx--link-with-icon__container\" data-autoid=\"dds--link-with-icon\"><a class=\"bx--link bx--link-with-icon bx--link-with-icon--inline-icon bx--link--lg\" href=\"https://www.ibm.com/consulting/operations/?lnk=flathl\"><span>Reimagine operations</span><svg focusable=\"false\" preserveAspectRatio=\"xMidYMid meet\" xmlns=\"http://www.w3.org/2000/svg\" fill=\"currentColor\" width=\"20\" height=\"20\" viewBox=\"0 0 20 20\" aria-hidden=\"true\"><path d=\"M11.8 2.8L10.8 3.8 16.2 9.3 1 9.3 1 10.7 16.2 10.7 10.8 16.2 11.8 17.2 19 10z\"></path></svg></a></div></div></li></ul></div></div></div></div></dds-tab><dds-tab label=\"Partners\"><div class=\"bx--custom-content-item bx--grid bx--no-gutter\"><div class=\"bx--row\"><div class=\"bx--custom-content-item-col-image\"><div class=\"bx--image\" data-autoid=\"dds--image__longdescription\"><picture><img class=\"bx--image__img\" src=\"https://1.dam.s81c.com/p/0aac9cf57c4bf384/064e0139f5a3aa3f_dotcom-6-partners.jpg.global.sr_16x9.jpg\" alt=\"group of professionals walking down stairs outdoors\" aria-describedby=\"bx--image-6\"/></picture><div id=\"bx--image-6\" class=\"bx--image__longdescription\">group of professionals walking down stairs outdoors</div></div></div><div class=\"bx--custom-content-item-col-content\"><h3>The power of partnership</h3><p>Collaborate with the worldâ\\x80\\x99s leading platform and infrastructure leaders.</p><div class=\"bx--link-list\" data-autoid=\"dds--link-list\"><ul class=\"bx--link-list__list bx--link-list__list--vertical\"><li class=\"bx--link-list__list__CTA bx--link-list__list--local\"><div><div class=\"bx--link-with-icon__container\" data-autoid=\"dds--link-with-icon\"><a class=\"bx--link bx--link-with-icon bx--link-with-icon--inline-icon bx--link--lg\" href=\"https://www.ibm.com/strategic-partnerships\"><span>Unlock new opportunities</span><svg focusable=\"false\" preserveAspectRatio=\"xMidYMid meet\" xmlns=\"http://www.w3.org/2000/svg\" fill=\"currentColor\" width=\"20\" height=\"20\" viewBox=\"0 0 20 20\" aria-hidden=\"true\"><path d=\"M11.8 2.8L10.8 3.8 16.2 9.3 1 9.3 1 10.7 16.2 10.7 10.8 16.2 11.8 17.2 19 10z\"></path></svg></a></div></div></li></ul></div></div></div></div></dds-tab></dds-tabs-extended></div><div class=\"bx--custom-featured-story ibm--fade\"><div class=\"bx--custom-featured-story-heading\"><h2 class=\"bx--type-productive-heading-07\">Whatâ\\x80\\x99s new</h2></div><dds-feature-section class=\"bx--custom-featured-story-section\" media-alignment=\"right\"><dds-image slot=\"image\" default-src=\"https://1.dam.s81c.com/p/08a5a9b9c2464461/01-Your_guide_to_differentiating_with_data_568x320.jpg.global.mr_1x1.png\" alt=\"The active AI layer of a data fabric architecture sending data between the virtualization layer and insights layer\"><dds-image-item media=\"(min-width: 1312px)\" srcset=\"https://1.dam.s81c.com/p/08a5a9b9c2464461/01-Your_guide_to_differentiating_with_data_568x320.jpg.global.mr_1x1.png\"></dds-image-item><dds-image-item media=\"(min-width: 672px)\" srcset=\"https://1.dam.s81c.com/p/08a5a9b9c2464461/01-Your_guide_to_differentiating_with_data_568x320.jpg.global.l_1x1.png\"></dds-image-item><dds-image-item media=\"(min-width: 320px)\" srcset=\"https://1.dam.s81c.com/p/08a5a9b9c2464461/01-Your_guide_to_differentiating_with_data_568x320.jpg.global.m_1x1.png\"></dds-image-item><dds-image-item media=\"(min-width: 320px)\" srcset=\"https://1.dam.s81c.com/p/08a5a9b9c2464461/01-Your_guide_to_differentiating_with_data_568x320.jpg.global.s_1x1.png\"></dds-image-item></dds-image><dds-content-block-heading>Successful AI isnâ\\x80\\x99t a sure thing</dds-content-block-heading><dds-content-item-paragraph slot=\"copy\">Only around half of AI projects get from pilot to production. Data is the differentiating factor.</dds-content-item-paragraph><dds-feature-section-card-link class=\"bx--custom-featured-story-section-card-link\" slot=\"footer\" href=\"https://www.ibm.com/resources/the-data-differentiator/scale-ai\" cta-type=\"local\" color-scheme=\"inverse\"><dds-card-link-heading>Scale your enterprise capabilities</dds-card-link-heading><dds-card-cta-footer color-scheme=\"inverse\"> </dds-card-cta-footer></dds-feature-section-card-link></dds-feature-section></div><a name=\"Technology\" id=\"ibm-hp--tech-section\" data-title=\"Technology\"></a><div class=\"ibm--fade\"><div class=\"bx--custom-widget-band-header\"><h2 class=\"bx--type-productive-heading-07\">Explore our technology</h2></div><div class=\"bx--widget-container\" id=\"product-explorer-main-offering\" data-widget=\"product-explorer-main-offering\" data-localecode=\"en-us\" data-full-width=\"true\"></div></div><a name=\"inside-ibm\" data-title=\"Inside IBM\"></a><div class=\"bx--custom-cards-carousel-wrapper ibm--fade\"><div class=\"bx--custom-cards-carousel-heading\"><h2 class=\"bx--type-productive-heading-07\">Inside IBM</h2></div><div class=\"bx--grid bx--grid--narrow bx--no-gutter\"><div class=\"bx--row\"><div class=\"bx--col bx--no-gutter\"><div class=\"bx--custom-cards-carousel\"><div data-autoid=\"dds--card-group\" class=\"bx--card-group__cards__row bx--row--condensed\" style=\"--dds--card-group--cards-in-row:3\"><div class=\"bx--card-group__cards__col\"><div class=\"bx--card-group__card\"><div class=\"bx--tile bx--card bx--card-link bx--card__CTA bx--card__CardCTA\" data-autoid=\"dds--card\" href=\"https://www.ibm.com/employment/?lnk=flatitem\"><div class=\"bx--card__wrapper\"><div class=\"bx--card__content\"><h3 class=\"bx--card__heading\">Careers at IBM</h3><div class=\"bx--card__copy\"><p>From a safer food supply to ethical AI, your skills can help tackle the worldâ\\x80\\x99s toughest problems</p> </div><a class=\"bx--link bx--card__footer\" href=\"https://www.ibm.com/employment/?lnk=flatitem\" aria-label=\"Careers at IBM\"><svg focusable=\"false\" preserveAspectRatio=\"xMidYMid meet\" xmlns=\"http://www.w3.org/2000/svg\" fill=\"currentColor\" src=\"[object Object]\" width=\"20\" height=\"20\" viewBox=\"0 0 20 20\" aria-hidden=\"true\" class=\"bx--card__cta\"><path d=\"M11.8 2.8L10.8 3.8 16.2 9.3 1 9.3 1 10.7 16.2 10.7 10.8 16.2 11.8 17.2 19 10z\"></path></svg></a></div></div></div></div></div><div class=\"bx--card-group__cards__col\"><div class=\"bx--card-group__card\"><div class=\"bx--tile bx--card bx--card-link bx--card__CTA bx--card__CardCTA\" data-autoid=\"dds--card\" href=\"https://www.ibm.com/impact\"><div class=\"bx--card__wrapper\"><div class=\"bx--card__content\"><h3 class=\"bx--card__heading\">Corporate social responsibility</h3><div class=\"bx--card__copy\"><p>IBM aspires to make a positive impact on the world, and the places where we work and live</p> </div><a class=\"bx--link bx--card__footer\" href=\"https://www.ibm.com/impact\" aria-label=\"Corporate social responsibility\"><svg focusable=\"false\" preserveAspectRatio=\"xMidYMid meet\" xmlns=\"http://www.w3.org/2000/svg\" fill=\"currentColor\" src=\"[object Object]\" width=\"20\" height=\"20\" viewBox=\"0 0 20 20\" aria-hidden=\"true\" class=\"bx--card__cta\"><path d=\"M11.8 2.8L10.8 3.8 16.2 9.3 1 9.3 1 10.7 16.2 10.7 10.8 16.2 11.8 17.2 19 10z\"></path></svg></a></div></div></div></div></div><div class=\"bx--card-group__cards__col\"><div class=\"bx--card-group__card\"><div class=\"bx--tile bx--card bx--card-link bx--card__CTA bx--card__CardCTA\" data-autoid=\"dds--card\" href=\"https://research.ibm.com/\"><div class=\"bx--card__wrapper\"><div class=\"bx--card__content\"><h3 class=\"bx--card__heading\">IBM Research</h3><div class=\"bx--card__copy\"><p>Around the globe, 3,000 IBM scientists and design thinkers are inventing whatâ\\x80\\x99s next in computing</p> </div><a class=\"bx--link bx--card__footer\" href=\"https://research.ibm.com/\" aria-label=\"IBM Research\"><svg focusable=\"false\" preserveAspectRatio=\"xMidYMid meet\" xmlns=\"http://www.w3.org/2000/svg\" fill=\"currentColor\" src=\"[object Object]\" width=\"20\" height=\"20\" viewBox=\"0 0 20 20\" aria-hidden=\"true\" class=\"bx--card__cta\"><path d=\"M11.8 2.8L10.8 3.8 16.2 9.3 1 9.3 1 10.7 16.2 10.7 10.8 16.2 11.8 17.2 19 10z\"></path></svg></a></div></div></div></div></div></div></div></div></div></div></div><div class=\"bx--custom-featured-story ibm--fade\"><div class=\"bx--custom-featured-story-heading\"><h2 class=\"bx--type-productive-heading-07\">Powering the future</h2></div><dds-feature-section class=\"bx--custom-featured-story-section\" media-alignment=\"right\"><dds-image slot=\"image\" default-src=\"https://1.dam.s81c.com/p/0b1b8e49becc0b1d/HP_professional_porttrait_of_IB_feature.jpg.global.mr_1x1.png\" alt=\"New Creator Portrait of Inderpal Bhandari\"><dds-image-item media=\"(min-width: 1312px)\" srcset=\"https://1.dam.s81c.com/p/0b1b8e49becc0b1d/HP_professional_porttrait_of_IB_feature.jpg.global.mr_1x1.png\"></dds-image-item><dds-image-item media=\"(min-width: 672px)\" srcset=\"https://1.dam.s81c.com/p/0b1b8e49becc0b1d/HP_professional_porttrait_of_IB_feature.jpg.global.l_1x1.png\"></dds-image-item><dds-image-item media=\"(min-width: 320px)\" srcset=\"https://1.dam.s81c.com/p/0b1b8e49becc0b1d/HP_professional_porttrait_of_IB_feature.jpg.global.m_1x1.png\"></dds-image-item><dds-image-item media=\"(min-width: 320px)\" srcset=\"https://1.dam.s81c.com/p/0b1b8e49becc0b1d/HP_professional_porttrait_of_IB_feature.jpg.global.s_1x1.png\"></dds-image-item></dds-image><dds-content-block-heading>Insights of successful CDOs</dds-content-block-heading><dds-content-item-paragraph slot=\"copy\">Inderpal Bhandari, IBMâ\\x80\\x99s Global Chief Data Officer, expands on the four principles that top data executives consider a priority</dds-content-item-paragraph><dds-feature-section-card-link class=\"bx--custom-featured-story-section-card-link\" slot=\"footer\" href=\"https://www.ibm.com/blog/4-core-learnings-from-successful-cdos-and-how-to-apply-them\" cta-type=\"local\" color-scheme=\"inverse\"><dds-card-link-heading>Read about their winning strategies</dds-card-link-heading><dds-card-cta-footer color-scheme=\"inverse\"> </dds-card-cta-footer></dds-feature-section-card-link></dds-feature-section></div></div></div></div></section></div></div></div><footer data-autoid=\"dds--footer\" class=\"bx--footer\"><section class=\"bx--footer__main\"><div class=\"bx--footer__main-container\"><div class=\"bx--footer__logo-container\"><div class=\"bx--footer__logo-row\"><div data-autoid=\"dds--footer-logo\" class=\"bx--footer-logo\"><a data-autoid=\"dds--footer-logo__link\" class=\"bx--footer-logo__link\" href=\"https://www.ibm.com/\"><svg width=\"157\" height=\"65\" class=\"bx--footer-logo__logo\" viewBox=\"0 0 157 65\" xmlns=\"http://www.w3.org/2000/svg\"><title>IBM Logo</title><path d=\"M30.444 60.208v4.03H0v-4.03h30.444zm78.291-.001v4.03H86.983v-4.03h21.752zm47.858 0v4.03H134.84v-4.03h21.753zm-33.416 0l-1.398 4.03-1.38-4.03h2.778zm-88.384 0h42.775c-2.797 2.426-6.39 3.925-10.327 4.025l-.423.006H34.793v-4.03h42.775zm-4.35-8.46v4.03H0v-4.03h30.444zm52.402 0c-.332 1.248-.8 2.44-1.389 3.555l-.259.474H34.793v-4.029h48.052zm73.748-.005v4.031H134.84v-4.03h21.753zm-47.858 0v4.031H86.983v-4.03h21.752zm17.375 0l-1.398 4.031h-5.85l-1.395-4.03h8.643zM21.745 43.285v4.03H8.698v-4.03h13.047zm61.195 0a17.32 17.32 0 0 1 .476 3.51l.008.52H68.796v-4.03H82.94zm-26.401 0v4.03H43.491v-4.03H56.54zm72.502-.007l-1.396 4.03H115.93l-1.397-4.03h14.507zm18.85 0v4.03h-13.05v-4.03h13.05zm-39.156 0v4.03H95.684v-4.03h13.051zm-86.99-8.454v4.03H8.698v-4.03h13.047zm56.117 0a16.945 16.945 0 0 1 2.926 3.582l.264.447h-37.56v-4.03h34.37zm30.873-.01v4.03H95.684v-4.03h13.051zm39.157 0v4.03H134.84v-4.03h13.052zm-15.919 0l-1.396 4.03h-17.579l-1.396-4.03h20.371zm-50.778-8.452a16.963 16.963 0 0 1-2.82 3.674l-.37.355H43.49v-4.029h37.704zm-59.45 0v4.03H8.698v-4.03h13.047zm126.147-.013v4.031H134.84v-3.839l-1.33 3.839h-11.456l1.373-4.03h24.465zm-27.743 0l1.372 4.031h-11.456l-1.33-3.839v3.84H95.684v-4.032h24.465zm-98.404-8.448v4.03H8.698V17.9h13.047zm61.68 0c0 1.215-.134 2.399-.375 3.542l-.11.487H68.796V17.9h14.628zM56.538 17.9v4.03H43.491V17.9H56.54zm91.352-.015v4.03h-22.954l1.37-4.03h21.584zm-30.624 0l1.372 4.03H95.684v-4.03h21.583zM30.444 9.437v4.03H0v-4.03h30.444zm50.753 0a17.048 17.048 0 0 1 1.498 3.499l.15.531H34.794v-4.03h46.403zm75.396-.018v4.03h-28.776l1.373-4.03h27.403zm-42.207 0l1.372 4.031H86.982V9.42h27.404zM30.444.978v4.03H0V.977h30.444zm36.374 0c3.96 0 7.594 1.415 10.448 3.772l.303.257H34.794V.977h32.024zm89.775-.022v4.031h-25.894l1.372-4.03h24.522zm-45.098 0l1.372 4.03H86.982V.955h24.513z\"></path></svg></a></div><div class=\"bx--locale-btn__container\"><button data-autoid=\"dds--locale-btn\" aria-label=\"\" tabindex=\"0\" class=\"bx--locale-btn bx--btn bx--btn--tertiary\" type=\"button\"><svg focusable=\"false\" preserveAspectRatio=\"xMidYMid meet\" xmlns=\"http://www.w3.org/2000/svg\" fill=\"currentColor\" aria-label=\"Earth Filled Icon\" aria-hidden=\"true\" width=\"20\" height=\"20\" viewBox=\"0 0 32 32\" role=\"img\" class=\"bx--btn__icon\"><path d=\"M16,2A14,14,0,1,0,30,16,14.0158,14.0158,0,0,0,16,2ZM4.02,16.394l1.3384.4458L7,19.3027v1.2831a1,1,0,0,0,.2929.7071L10,24v2.3765A11.9941,11.9941,0,0,1,4.02,16.394ZM16,28a11.9682,11.9682,0,0,1-2.5718-.2847L14,26l1.8046-4.5116a1,1,0,0,0-.0964-.9261l-1.4113-2.117A1,1,0,0,0,13.4648,18h-4.93L7.2866,16.1274,9.4141,14H11v2h2V13.2656l3.8682-6.7695-1.7364-.9922L14.2769,7H11.5352l-1.086-1.6289A11.861,11.861,0,0,1,20,4.7V8a1,1,0,0,0,1,1h1.4648a1,1,0,0,0,.8321-.4453l.8769-1.3154A12.0331,12.0331,0,0,1,26.8945,11H22.82a1,1,0,0,0-.9806.8039l-.7221,4.4708a1,1,0,0,0,.54,1.0539L25,19l.6851,4.0557A11.9793,11.9793,0,0,1,16,28Z\"></path></svg></button><div data-autoid=\"dds--locale-modal\" role=\"presentation\" aria-hidden=\"true\" class=\"bx--modal bx--locale-modal-container\"><div class=\"bx--modal-container\" role=\"dialog\" aria-modal=\"true\" aria-label=\",[object Object]\"><button type=\"button\" class=\"bx--visually-hidden\">Focus sentinel</button><div class=\"bx--modal-container-body\"><div class=\"bx--modal-header\"><h2 class=\"bx--modal-header__label bx--type-delta\"><svg focusable=\"false\" preserveAspectRatio=\"xMidYMid meet\" xmlns=\"http://www.w3.org/2000/svg\" fill=\"currentColor\" width=\"16\" height=\"16\" viewBox=\"0 0 32 32\" aria-hidden=\"true\" class=\"bx--locale-modal__label-globe\"><path d=\"M16,2A14,14,0,1,0,30,16,14.0158,14.0158,0,0,0,16,2ZM4.02,16.394l1.3384.4458L7,19.3027v1.2831a1,1,0,0,0,.2929.7071L10,24v2.3765A11.9941,11.9941,0,0,1,4.02,16.394ZM16,28a11.9682,11.9682,0,0,1-2.5718-.2847L14,26l1.8046-4.5116a1,1,0,0,0-.0964-.9261l-1.4113-2.117A1,1,0,0,0,13.4648,18h-4.93L7.2866,16.1274,9.4141,14H11v2h2V13.2656l3.8682-6.7695-1.7364-.9922L14.2769,7H11.5352l-1.086-1.6289A11.861,11.861,0,0,1,20,4.7V8a1,1,0,0,0,1,1h1.4648a1,1,0,0,0,.8321-.4453l.8769-1.3154A12.0331,12.0331,0,0,1,26.8945,11H22.82a1,1,0,0,0-.9806.8039l-.7221,4.4708a1,1,0,0,0,.54,1.0539L25,19l.6851,4.0557A11.9793,11.9793,0,0,1,16,28Z\"></path></svg></h2><button class=\"bx--modal-close\" title=\"Close\" aria-label=\"Close\" type=\"button\"><svg focusable=\"false\" preserveAspectRatio=\"xMidYMid meet\" xmlns=\"http://www.w3.org/2000/svg\" fill=\"currentColor\" width=\"20\" height=\"20\" viewBox=\"0 0 32 32\" aria-hidden=\"true\" class=\"bx--modal-close__icon\"><path d=\"M24 9.4L22.6 8 16 14.6 9.4 8 8 9.4 14.6 16 8 22.6 9.4 24 16 17.4 22.6 24 24 22.6 17.4 16 24 9.4z\"></path></svg></button></div><div class=\"bx--modal-content bx--locale-modal \"><div class=\"bx--grid bx--no-gutter bx--locale-modal__regions\"><div class=\"bx--row\"></div></div><div class=\"bx--locale-modal__filter\"><div class=\"bx--locale-modal__search\"><div role=\"search\" aria-labelledby=\"bx--locale-modal__filter-search\" class=\"bx--search bx--search--xl\"><div class=\"bx--search-magnifier\"><svg focusable=\"false\" preserveAspectRatio=\"xMidYMid meet\" xmlns=\"http://www.w3.org/2000/svg\" fill=\"currentColor\" width=\"16\" height=\"16\" viewBox=\"0 0 16 16\" aria-hidden=\"true\" class=\"bx--search-magnifier-icon\"><path d=\"M15,14.3L10.7,10c1.9-2.3,1.6-5.8-0.7-7.7S4.2,0.7,2.3,3S0.7,8.8,3,10.7c2,1.7,5,1.7,7,0l4.3,4.3L15,14.3z M2,6.5\\tC2,4,4,2,6.5,2S11,4,11,6.5S9,11,6.5,11S2,9,2,6.5z\"></path></svg></div><label id=\"bx--locale-modal__filter-search\" for=\"bx--locale-modal__filter\" class=\"bx--label\">Search by location or language</label><input type=\"text\" role=\"searchbox\" autoComplete=\"off\" data-autoid=\"dds--locale-modal__filter\" tabindex=\"0\" class=\"bx--search-input\" id=\"bx--locale-modal__filter\" placeholder=\"\"/><button class=\"bx--search-close bx--search-close--hidden\" type=\"button\" aria-label=\"Clear search input\"><svg focusable=\"false\" preserveAspectRatio=\"xMidYMid meet\" xmlns=\"http://www.w3.org/2000/svg\" fill=\"currentColor\" width=\"16\" height=\"16\" viewBox=\"0 0 32 32\" aria-hidden=\"true\"><path d=\"M24 9.4L22.6 8 16 14.6 9.4 8 8 9.4 14.6 16 8 22.6 9.4 24 16 17.4 22.6 24 24 22.6 17.4 16 24 9.4z\"></path></svg></button></div><p class=\"bx--locale-modal__search-text\"></p></div><ul class=\"bx--locale-modal__list\"><p class=\"bx--assistive-text\" role=\"status\" aria-live=\"assertive\"></p></ul></div></div></div><button type=\"button\" class=\"bx--visually-hidden\">Focus sentinel</button></div></div></div></div></div></div></section></footer></main><script src=\"https://cdn.jsdelivr.net/npm/react@17/umd/react.production.min.js\"></script><script src=\"https://cdn.jsdelivr.net/npm/react-dom@17/umd/react-dom.production.min.js\"></script><script src=\"https://cdn.jsdelivr.net/npm/react-intl@5/dist/react-intl.min.js\"></script></div></div><script src=\"//1.www.s81c.com/common/stats/ibm-common.js\" defer=\"\"></script><link href=\"//1.www.s81c.com/common/v18/css/forms.css\" rel=\"stylesheet\"/></div><script id=\"__NEXT_DATA__\" type=\"application/json\">{\"props\":{\"pageProps\":{\"data\":{\"_id\":\"7ec18a83cb1c595406965cba92f231c4\",\"_rev\":\"12520-c3c03884a20ec9c7c91b642681ff9d8e\",\"type\":\"production\",\"sections\":{\"leadspace\":{\"data\":{\"content\":[{\"blocklink\":true,\"largeCol\":\"bx--col-lg-6\",\"imagePos\":\"top right\",\"bgColor\":\"#000000\",\"ctaType\":\"links\",\"ctaColor\":\"gray-90\",\"webm\":\"\",\"gif\":\"\",\"videoImage\":\"\",\"ibmEvLinkTitle\":\"\",\"ibmEvGroup\":\"\",\"ibmEvName\":\"\",\"ibmEvSection\":\"L1\",\"ibmEvTarget\":\"\",\"lsPaddingTop\":\"ibm-pt-5\",\"lsPaddingBottom\":\"ibm-pb-5\",\"ctaOneVideoID\":\"\",\"ctaOneIcon\":\"forward\",\"videoID\":\"\",\"mp4\":\"\",\"type\":\"carbon\",\"ctaTwoVideoID\":\"\",\"ctaTwoIcon\":\"forward\",\"videoType\":\"kaltura\",\"alternate\":true,\"titleType\":\"bx--type-expressive-heading-05\",\"title\":\"The best of IBM 2022\\\\n\",\"copy\":\"From quantum breakthroughs to drug discovery, these 11 stories point to a brighter, more sustainable future\\\\n\",\"timestamp\":1671460488507,\"ctaOne\":\"See the year in review\",\"ctaOneLink\":\"https://www.ibm.com/thought-leadership/best-of/2022/?lnk=ushpv18l1\",\"airtableID\":\"27195\",\"imageMobile\":\"https://1.dam.s81c.com/p/0a23e3c651299e47/20221216-best-of-2022-mobile-720x360.jpg\",\"image\":\"https://1.dam.s81c.com/p/0a23e3c651299e48/20221216-best-of-2022-2304x983.jpg\",\"videoPosition\":\"video-center\",\"imageAlt\":\"Collage of semiconductor, 6 new creators, mayflower ship, man in a cleanroom, woman writing on a whiteboard, 2 men moving a mainframe \"}]}},\"newsflash\":{\"data\":{\"content\":[{\"active\":false,\"videoID\":\"\",\"bgColor\":\"#001d6c\",\"videoType\":\"kaltura\",\"ibmEvSection\":\"NF1\",\"airtableID\":\"\",\"sandbox\":false,\"title\":\"\\\\u003cstrong\\\\u003eNew\\\\u003c/strong\\\\u003e: \\\\u0026nbsp;\\\\u0026#8594;\",\"stage\":false,\"timestamp\":1679663002811},{\"active\":false,\"videoID\":\"\",\"bgColor\":\"#001d6c\",\"videoType\":\"kaltura\",\"ibmEvSection\":\"NF2\",\"airtableID\":\"\",\"sandbox\":false,\"title\":\"\\\\u003cstrong\\\\u003eNew\\\\u003c/strong\\\\u003e: nbsp;\\\\u0026#8594;\",\"stage\":false,\"timestamp\":1679574253467,\"videoTitle\":\"\",\"videoDesc\":\"\"},{\"active\":false,\"videoID\":\"\",\"bgColor\":\"#001d6c\",\"videoType\":\"kaltura\",\"ibmEvSection\":\"NF3\",\"airtableID\":\"\",\"sandbox\":false,\"title\":\"\\\\u003cstrong\\\\u003eNews\\\\u003c/strong\\\\u003e: \\\\u0026nbsp;\\\\u0026#8594;\",\"stage\":false,\"timestamp\":1679519299813},{\"active\":false,\"videoID\":\"\",\"bgColor\":\"#001d6c\",\"videoType\":\"kaltura\",\"ibmEvSection\":\"NF4\",\"airtableID\":\"\",\"sandbox\":false,\"title\":\"\\\\u003cstrong\\\\u003eNews\\\\u003c/strong\\\\u003e: \\\\u0026nbsp;\\\\u0026#8594;\",\"stage\":false,\"timestamp\":1679574208771},{\"active\":false,\"videoID\":\"\",\"bgColor\":\"#001d6c\",\"videoType\":\"kaltura\",\"ibmEvSection\":\"NF5\",\"airtableID\":\"\",\"sandbox\":false,\"title\":\"\\\\u003cstrong\\\\u003eNew\\\\u003c/strong\\\\u003e \\\\u0026nbsp;\\\\u0026#8594;\",\"stage\":false,\"timestamp\":1679345827767,\"videoDesc\":\"\",\"link\":\"\"},{\"active\":false,\"videoID\":\"\",\"bgColor\":\"#001d6c\",\"videoType\":\"kaltura\",\"ibmEvSection\":\"NF6\",\"airtableID\":\"\",\"sandbox\":false,\"title\":\"\\\\u003cstrong\\\\u003eNew\\\\u003c/strong\\\\u003e: IBMâ\\x80\\x99s comprehensive Data Management for Analytics foundation earns Leader status in 2023 Forrester Wave\\\\u0026nbsp;\\\\u0026#8594;\",\"stage\":false,\"timestamp\":1679663002812,\"videoTitle\":\"\",\"videoDesc\":\"\",\"link\":\"https://www.ibm.com/blog/ibm-named-a-leader-in-the-forrester-wave-data-management-for-analytics-q1-2023/?lnk=ushpv18nf6\"},{\"active\":false,\"videoID\":\"\",\"bgColor\":\"#001d6c\",\"videoType\":\"kaltura\",\"ibmEvSection\":\"NF7\",\"airtableID\":\"\",\"sandbox\":false,\"title\":\"\\\\u003cstrong\\\\u003eNew\\\\u003c/strong\\\\u003e: IBM and Cleveland Clinic unveil the first quantum computer dedicated to healthcare research\\\\u0026nbsp;\\\\u0026#8594;\",\"stage\":false,\"timestamp\":1679519285897,\"link\":\"https://newsroom.ibm.com/2023-03-20-Cleveland-Clinic-and-IBM-Unveil-First-Quantum-Computer-Dedicated-to-Healthcare-Research?lnk=ushpv18nf7\"},{\"active\":false,\"videoID\":\"\",\"bgColor\":\"#001d6c\",\"videoType\":\"kaltura\",\"ibmEvSection\":\"NF8\",\"airtableID\":\"\",\"sandbox\":false,\"title\":\"\\\\u003cstrong\\\\u003eNew\\\\u003c/strong\\\\u003e: AI-based sustainability solutions offer hope for 2.3 billion people living in water-stressed countries\\\\u0026nbsp;\\\\u0026#8594;\",\"stage\":false,\"timestamp\":1679574191891,\"link\":\"https://www.ibm.com/blog/how-technology-can-help-save-our-water-supply?lnk=ushpv18nf8\"}]}},\"mastheadbtn\":{\"data\":{\"content\":[{\"stage\":false,\"tool\":false,\"title\":\"Stay safe, y\\\\u0026#8217;all.\",\"link\":\"https://www.ibm.com/impact/covid-19/?lnk=ushpv18mb\",\"active\":false,\"timestamp\":1591040701251}]}},\"featured\":{\"data\":{\"content\":[{\"videoImage\":\"\",\"videoType\":\"kaltura\",\"ibmEvLinkTitle\":\"\",\"ibmEvGroup\":\"\",\"ibmEvName\":\"\",\"ibmEvSection\":\"F1\",\"ibmEvTarget\":\"\",\"damVideoMP4\":\"\",\"damVideoWebM\":\"\",\"icon\":\"forward\",\"videoID\":\"\",\"title\":\"27164 IBM iX\",\"timestamp\":1670602077463,\"airtableID\":\"27164\",\"eyebrow\":\"IBM iX: design-led, data-driven\",\"copy\":\"A human-centered approach helps IBM Consulting clients transform customer and employee experiences\",\"image\":\"https://1.dam.s81c.com/p/0868c64e393cf933/2017_12_Slowell_Inside_IBM_Cloud_developers_242.jpg.global.s_4x3.jpg\",\"imageAlt\":\"Two co-workers talking at a desk\",\"button\":\"\",\"link\":\"https://www.ibm.com/consulting/ibmix?lnk=ushpv18f1\"},{\"videoImage\":\"\",\"videoType\":\"youtube\",\"ibmEvLinkTitle\":\"\",\"ibmEvGroup\":\"\",\"ibmEvName\":\"\",\"ibmEvSection\":\"F2\",\"ibmEvTarget\":\"\",\"damVideoMP4\":\"\",\"damVideoWebM\":\"\",\"icon\":\"forward\",\"videoID\":\"\",\"title\":\"27173 Is your business cybersafe?\",\"copy\":\"Work with senior security consultants to understand where you are and where you need to go in this free 3\\\\u0026#8209;hour workshop\",\"eyebrow\":\"Is your business cybersafe?\\\\n\",\"timestamp\":1670602025015,\"airtableID\":\"27173\",\"image\":\"https://1.dam.s81c.com/p/08a56f9ac246227c/20220801_26754_Countdown-to-Ransomware-guide-security-intelligence-444x333.jpg\",\"link\":\"https://www.ibm.com/security/resources/workshop?lnk=ushpv18f2\",\"imageAlt\":\"Three IBM Security employees at a conference table interacting with a man at a whiteboard\"},{\"videoImage\":\"\",\"videoType\":\"youtube\",\"ibmEvLinkTitle\":\"\",\"ibmEvGroup\":\"\",\"ibmEvName\":\"\",\"ibmEvSection\":\"F3\",\"ibmEvTarget\":\"\",\"damVideoMP4\":\"\",\"damVideoWebM\":\"\",\"icon\":\"forward\",\"videoID\":\"\",\"title\":\"27158 Food trust/FSMA\",\"timestamp\":1670605658975,\"airtableID\":\"27158\",\"copy\":\"IBM Food Trust ensures a safer food supply and simplifies compliance with the latest US FDA traceability rules\",\"image\":\"https://1.dam.s81c.com/p/04d38222a5bc17ff/84962edd-c289-4d32-ad92a178655984d5.jpg.global.s_4x3.jpg\",\"mobileImg\":\"https://1.dam.s81c.com/public/content/dam/worldwide-content/homepage/ul/g/9e/7c/20210823-f-swiss-re-case-study-26069.jpg\",\"eyebrow\":\"A higher standard, farm to fork\",\"link\":\"https://www.ibm.com/products/supply-chain-intelligence-suite/food-trust?lnk=ushpv18f3\",\"imageAlt\":\"Oranges on a factory assembly line\"},{\"videoImage\":\"\",\"videoType\":\"youtube\",\"ibmEvLinkTitle\":\"\",\"ibmEvGroup\":\"\",\"ibmEvName\":\"\",\"ibmEvSection\":\"F4\",\"ibmEvTarget\":\"\",\"damVideoMP4\":\"\",\"damVideoWebM\":\"\",\"icon\":\"forward\",\"videoID\":\"\",\"title\":\"27177 Year in review newsletters\",\"image\":\"https://1.dam.s81c.com/p/08243aa34ebb7a36/2022_05_10_SpencerLowell_WorkingWorld_IBM_Brand_Library_285.jpg.global.s_4x3.jpg\",\"copy\":\"Three year-in-review newsletters will highlight the impact of todayâ\\x80\\x99s technology on the future of business. Subscribe now.\",\"eyebrow\":\"2022â\\x80\\x99s top thought leadership\",\"timestamp\":1670853303889,\"airtableID\":\"27177\",\"link\":\"https://www.ibm.com/subscribe/?lnk=ushpv18f4\",\"imageAlt\":\"Orion Crew Module solar panel mockup deployment test at NASA Glen Research Center in Sandusky, Ohio\"},{\"subcopy\":\"\",\"ibmEvLinkTitle\":\"\",\"ibmEvGroup\":\"\",\"ibmEvName\":\"\",\"ibmEvSection\":\"F5\",\"ibmEvTarget\":\"\",\"button_mobile\":\"t1\",\"videoID\":\"\",\"icon\":\"forward\",\"image\":\"\",\"title\":\"\",\"eyebrow\":\"\",\"copy\":\"\",\"button\":\"\",\"timestamp\":1644590702649,\"airtableID\":\"\",\"link\":\"\"},{\"subcopy\":\"\",\"ibmEvLinkTitle\":\"\",\"ibmEvGroup\":\"\",\"ibmEvName\":\"\",\"ibmEvSection\":\"F6\",\"ibmEvTarget\":\"\",\"button_mobile\":\"t1\",\"videoID\":\"\",\"icon\":\"forward\",\"image\":\"https://1.dam.s81c.com/public/content/dam/worldwide-content/homepage/ul/g/7b/7b/20220117-cloud-simplicity-26358-2304x983.png\",\"title\":\"\",\"eyebrow\":\"A unified cloud experience\",\"copy\":\"Build, deploy and scale faster across any environment with consistency and security\",\"button\":\"Simplify your multicloud\",\"timestamp\":1643665707293,\"airtableID\":\"\",\"link\":\"https://www.ibm.com/cloud/campaign/cloud-simplicity?lnk=ushpv18f6\"},{\"videoImage\":\"\",\"videoType\":\"youtube\",\"ibmEvLinkTitle\":\"\",\"ibmEvGroup\":\"\",\"ibmEvName\":\"\",\"ibmEvSection\":\"F7\",\"ibmEvTarget\":\"\",\"damVideoMP4\":\"\",\"damVideoWebM\":\"\",\"icon\":\"forward\",\"videoID\":\"\",\"title\":\"\",\"link\":\"https://www.ibm.com/consulting/?lnk=ushpv18f7\",\"image\":\"https://1.dam.s81c.com/public/content/dam/worldwide-content/homepage/ul/g/ae/b2/20211103-f-ibm-consulting-26242.gif\",\"eyebrow\":\"Move fast and far with IBM Consulting\",\"copy\":\"Together, we can turn ideas into action better than we ever could alone\",\"button\":\"Navigate the new rules of modern business with a partner you\\\\u0026nbsp;trust\",\"timestamp\":1643665749045,\"airtableID\":\"\"},{\"videoID\":\"\",\"videoImage\":\"\",\"videoType\":\"youtube\",\"ibmEvLinkTitle\":\"\",\"ibmEvGroup\":\"\",\"ibmEvName\":\"\",\"ibmEvSection\":\"F8\",\"ibmEvTarget\":\"\",\"damVideoMP4\":\"\",\"damVideoWebM\":\"\",\"icon\":\"forward\",\"timestamp\":1643665604671,\"title\":\"\",\"eyebrow\":\"\",\"button\":\"\",\"copy\":\"\",\"image\":\"\",\"link\":\"\",\"airtableID\":\"\"},{\"videoImage\":\"\",\"videoType\":\"kaltura\",\"ibmEvLinkTitle\":\"\",\"ibmEvGroup\":\"\",\"ibmEvName\":\"\",\"ibmEvSection\":\"F9\",\"ibmEvTarget\":\"\",\"damVideoMP4\":\"\",\"damVideoWebM\":\"\",\"icon\":\"forward\",\"videoID\":\"\",\"title\":\"\",\"image\":\"\",\"link\":\"\",\"button\":\"\",\"eyebrow\":\"\",\"copy\":\"\",\"timestamp\":1643665619583,\"airtableID\":\"\"},{\"subcopy\":\"\",\"ibmEvLinkTitle\":\"\",\"ibmEvGroup\":\"\",\"ibmEvName\":\"\",\"ibmEvSection\":\"F10\",\"ibmEvTarget\":\"\",\"button_mobile\":\"t1\",\"videoID\":\"\",\"icon\":\"forward\",\"image\":\"\",\"title\":\"\",\"eyebrow\":\"\",\"copy\":\"\",\"button\":\"\",\"link\":\"\",\"timestamp\":1643665630573,\"airtableID\":\"\"},{\"subcopy\":\"\",\"ibmEvLinkTitle\":\"\",\"ibmEvGroup\":\"\",\"ibmEvName\":\"\",\"ibmEvSection\":\"F11\",\"ibmEvTarget\":\"\",\"button_mobile\":\"t1\",\"videoID\":\"\",\"icon\":\"forward\",\"image\":\"\",\"title\":\"\",\"eyebrow\":\"\",\"copy\":\"\",\"button\":\"\",\"link\":\"\",\"timestamp\":1643665641479,\"airtableID\":\"\"},{\"videoImage\":\"\",\"videoType\":\"kaltura\",\"ibmEvLinkTitle\":\"\",\"ibmEvGroup\":\"\",\"ibmEvName\":\"\",\"ibmEvSection\":\"F12\",\"ibmEvTarget\":\"\",\"damVideoMP4\":\"\",\"damVideoWebM\":\"\",\"icon\":\"forward\",\"videoID\":\"\",\"title\":\"\",\"eyebrow\":\"\",\"copy\":\"\",\"button\":\"\",\"image\":\"\",\"link\":\"\",\"timestamp\":1643665651571,\"airtableID\":\"\"}]},\"config\":{\"type\":\"quatro\",\"totalCards\":\"12\"}},\"research\":{\"data\":{\"content\":[{\"videoImage\":\"\",\"videoType\":\"youtube\",\"ibmEvLinkTitle\":\"\",\"ibmEvGroup\":\"\",\"ibmEvName\":\"\",\"ibmEvSection\":\"R1\",\"ibmEvTarget\":\"\",\"damVideoMP4\":\"\",\"damVideoWebM\":\"\",\"icon\":\"forward\",\"videoID\":\"\",\"title\":\"27189 Spot the dog safety monitor\",\"timestamp\":1670853838373,\"airtableID\":\"27189\",\"image\":\"https://1.dam.s81c.com/p/0a23e41430abcb17/20221208-r1-spot-the-dog-robotics-offerings-27188-1600x900.jpg\",\"mobileImg\":\"https://1.dam.s81c.com/public/content/dam/worldwide-content/homepage/ul/g/9e/7c/20210823-f-swiss-re-case-study-26069.jpg\",\"headline\":\"Pin-Yu Chen challenges AI every day to build the most trustworthy systems possible\",\"eyebrow\":\"Will Spot the danger-detecting robot be your safety inspectorâ\\x80\\x99s best friend?\",\"imageAlt\":\"composite image featuring Spot, the dog-like robot\",\"copy\":\"\\\\n\",\"link\":\"https://research.ibm.com/blog/ibm-ai-edge-national-grid-monitoring?lnk=ushpv18r1\"},{\"videoImage\":\"\",\"videoType\":\"youtube\",\"ibmEvLinkTitle\":\"\",\"ibmEvGroup\":\"\",\"ibmEvName\":\"\",\"ibmEvSection\":\"R2\",\"ibmEvTarget\":\"\",\"damVideoMP4\":\"\",\"damVideoWebM\":\"\",\"icon\":\"forward\",\"videoID\":\"\",\"title\":\"27190 Quantum Open Science Prize\",\"timestamp\":1670593706262,\"airtableID\":\"27190\",\"copy\":\"\\\\n\",\"image\":\"https://1.dam.s81c.com/p/09f257ea96c87909/20221205-r1-quantum-open-science-prize-1600x900.png\",\"mobileImg\":\"https://1.dam.s81c.com/public/content/dam/worldwide-content/homepage/ul/g/9e/7c/20210823-f-swiss-re-case-study-26069.jpg\",\"headline\":\"AI processes can have a massive carbon footprint. They donâ\\x80\\x99t have to, thanks to analog AI.\",\"eyebrow\":\"IBM Quantumâ\\x80\\x99s Open Science Prize seeks the best open source solutions to pressing problems\",\"imageAlt\":\"Schematic illustration of the honeycomb-pattered Kagome lattice\",\"link\":\"https://research.ibm.com/blog/ibm-quantum-open-science-prize-2022?lnk=ushpv18r2\"},{\"videoImage\":\"\",\"videoType\":\"youtube\",\"ibmEvLinkTitle\":\"\",\"ibmEvGroup\":\"\",\"ibmEvName\":\"\",\"ibmEvSection\":\"R3\",\"ibmEvTarget\":\"\",\"damVideoMP4\":\"\",\"damVideoWebM\":\"\",\"icon\":\"forward\",\"videoID\":\"\",\"title\":\"27191 Ruthenium 1nm chip\",\"timestamp\":1670593873723,\"airtableID\":\"27191\",\"copy\":\"\\\\n\",\"image\":\"https://1.dam.s81c.com/p/09e9905470286c48/20221205-r1-1nm-chips-ruthenium-27178-1600x900.jpg\",\"mobileImg\":\"https://1.dam.s81c.com/public/content/dam/worldwide-content/homepage/ul/g/9e/7c/20210823-f-swiss-re-case-study-26069.jpg\",\"headline\":\"AI processes can have a massive carbon footprint. They donâ\\x80\\x99t have to, thanks to analog AI.\",\"eyebrow\":\"The 1-nanometer future: a metal called ruthenium will shrink the worldâ\\x80\\x99s smallest chip below 2nm\",\"imageAlt\":\"Fingers holding a chip wafer with a computer chip closeup in an inset\",\"link\":\"https://research.ibm.com/blog/1nm-chips-vtfet-ruthenium?lnk=ushpv18r3\"},{\"videoImage\":\"\",\"videoType\":\"youtube\",\"ibmEvLinkTitle\":\"\",\"ibmEvGroup\":\"\",\"ibmEvName\":\"\",\"ibmEvSection\":\"R4\",\"ibmEvTarget\":\"\",\"damVideoMP4\":\"\",\"damVideoWebM\":\"\",\"icon\":\"forward\",\"videoID\":\"https://www.ibm.com/thought-leadership/institute-business-value/report/space-cloud-computing\",\"title\":\"27192 PyTorch AI foundation models\",\"timestamp\":1670593999804,\"airtableID\":\"27192\",\"image\":\"https://1.dam.s81c.com/p/09e98ff48ebdd003/20221128-r-pytorch-foundational-models-27155-800x450.png\",\"mobileImg\":\"https://1.dam.s81c.com/public/content/dam/worldwide-content/homepage/ul/g/9e/7c/20210823-f-swiss-re-case-study-26069.jpg\",\"headline\":\"Pin-Yu Chen challenges AI every day to build the most trustworthy systems possible\",\"eyebrow\":\"Train large AI models using standard Ethernet networking on Red Hat OpenShift, on any cloud\\\\n\",\"imageAlt\":\"intersecting groups of lines representing networking\",\"copy\":\"\\\\n\",\"link\":\"https://research.ibm.com/blog/ibm-pytorch-cloud-ai-ethernet?lnk=ushpv18r4\"}]},\"config\":{\"enabled\":\"true\",\"type\":\"carousel\",\"totalCards\":\"12\"}},\"makers\":{\"data\":{\"content\":[{\"alternate\":true,\"ctaColor\":\"red-50\",\"ibmEvLinkTitle\":\"\",\"ibmEvGroup\":\"\",\"ibmEvName\":\"case study\",\"ibmEvSection\":\"M1\",\"ibmEvTarget\":\"\",\"imageMobile\":\"\",\"damVideoMP4\":\"\",\"damVideoWebM\":\"\",\"ctaCopyThree\":\"\",\"ctaLinkTwoThree\":\"\",\"imagePos\":\"center center\",\"copyTwo\":\"\",\"videoType\":\"kaltura\",\"eyebrow\":\"Sustainability insights make facilities work more efficiently\",\"airtableID\":\"27171\",\"videoID\":\"\",\"mobileColumnHalf\":true,\"timestamp\":1671118406356,\"ctaLinkOne\":\"https://www.ibm.com/case-studies/audi-uk/?lnk=ushpv18cs1\",\"copyOne\":\"A commitment to enhanced user experience enabled Audi UK to deepen its connection to customers\",\"title\":\"27171 GRE-Envizi\",\"ctaCopyOne\":\"See how IBM Consulting helped boost lead generation by 59%\",\"button\":\"See how data provided by the Envizi ESG Suite helped IBM reduce carbon emissions by 62%\",\"copy\":\"IBM Global Real Estate needed a greener way to manage more than 50 million square feet of space worldwide\",\"link\":\"https://www.ibm.com/case-studies/ibm-gre?lnk=ushpv18m1\",\"image\":\"https://1.dam.s81c.com/p/09e9905470a86c9a/20221212-m-gre-envizi-27171-1600x900.jpg\",\"imageAlt\":\"A Black professional in an office building overlooking green landscape\"},{\"alternate\":true,\"ctaColor\":\"red-50\",\"ibmEvLinkTitle\":\"\",\"ibmEvGroup\":\"\",\"ibmEvName\":\"case study\",\"ibmEvSection\":\"M2\",\"ibmEvTarget\":\"\",\"imageMobile\":\"\",\"damVideoMP4\":\"\",\"damVideoWebM\":\"\",\"ctaCopyThree\":\"\",\"ctaLinkTwoThree\":\"\",\"imagePos\":\"center center\",\"copyTwo\":\"\",\"videoType\":\"kaltura\",\"eyebrow\":\"For predictable trains, we need predictive maintenance\",\"airtableID\":\"27193\",\"videoID\":\"\",\"mobileColumnHalf\":true,\"timestamp\":1670599073776,\"ctaLinkOne\":\"https://www.ibm.com/case-studies/audi-uk/?lnk=ushpv18cs1\",\"copyOne\":\"A commitment to enhanced user experience enabled Audi UK to deepen its connection to customers\",\"title\":\"27193 Downer Group\",\"ctaCopyOne\":\"See how IBM Consulting helped boost lead generation by 59%\",\"button\":\"Working with IBM Consulting, they created TrainDNA and increased reliability by 51%\",\"copy\":\"When Australia moved to outsource operation of its railroad system, the Downer Group needed a way to handle a huge new workload\",\"link\":\"https://www.ibm.com/case-studies/downer?lnk=ushpv18m2\",\"image\":\"https://1.dam.s81c.com/p/09f257ea96c8790a/20221205-m-downer-group-27163-1600x900.jpg\",\"imageAlt\":\"Young woman looking out a train window at the landscape passing by\"},{\"alternate\":true,\"ctaColor\":\"red-50\",\"ibmEvLinkTitle\":\"\",\"ibmEvGroup\":\"\",\"ibmEvName\":\"case study\",\"ibmEvSection\":\"M3\",\"ibmEvTarget\":\"\",\"imageMobile\":\"\",\"damVideoMP4\":\"\",\"damVideoWebM\":\"\",\"ctaCopyThree\":\"\",\"ctaLinkTwoThree\":\"\",\"imagePos\":\"center center\",\"copyTwo\":\"\",\"videoType\":\"kaltura\",\"eyebrow\":\"New Jersey keeps the heat and lights on for those in need\",\"airtableID\":\"27194\",\"videoID\":\"\",\"mobileColumnHalf\":true,\"timestamp\":1670599058497,\"ctaLinkOne\":\"https://www.ibm.com/case-studies/audi-uk/?lnk=ushpv18cs1\",\"copyOne\":\"A commitment to enhanced user experience enabled Audi UK to deepen its connection to customers\",\"title\":\"27194 State of New Jersey\",\"ctaCopyOne\":\"See how IBM Consulting helped boost lead generation by 59%\",\"button\":\"IBM Consulting designed a portal that handles 6,200 calls a month, fast-tracking $127M in relief\",\"copy\":\"The pandemic caused many low-income residents to fall behind on their utility bills, putting their home heating at risk\",\"link\":\"https://www.ibm.com/case-studies/new-jersey-department-of-community-affairs/?lnk=ushpv18m3\",\"image\":\"https://1.dam.s81c.com/p/09e98ff48ebdd004/20221128-m-new-jersey-department-of-community-affairs-27154-1600x900.jpg\",\"imageAlt\":\"Winter view of suburban houses through frost on a window\"}]},\"config\":{\"enabled\":\"true\",\"type\":\"carousel\",\"totalCards\":\"12\"}},\"tech\":{\"data\":{\"content\":[{\"imageMobile\":\"10312017-n-episode6-starwars-600x260.jpg\",\"videoType\":\"kaltura\",\"ibmEvLinkTitle\":\"Dear Tech Sonoma\",\"ibmEvGroup\":\"Advertising\",\"ibmEvName\":\"Ad support\",\"ibmEvSection\":\"DT\",\"ibmEvTarget\":\"\",\"damVideoMP4\":\"\",\"damVideoWebM\":\"\",\"videoID\":\"\",\"icon\":\"forward\",\"copy\":\"\",\"link\":\"\",\"airtableID\":\"\",\"title\":\"\",\"eyebrow\":\"\",\"button\":\"\",\"image\":\"\",\"timestamp\":1598626304757},{\"icon\":\"forward\",\"videoID\":\"\",\"videoType\":\"kaltura\",\"ibmEvLinkTitle\":\"Network Consulting Services\",\"ibmEvGroup\":\"GTS\",\"ibmEvName\":\"service\",\"ibmEvSection\":\"BT\",\"ibmEvTarget\":\"\",\"damVideoMP4\":\"\",\"damVideoWebM\":\"\",\"title\":\"\",\"eyebrow\":\"\",\"image\":\"\",\"copy\":\"\",\"button\":\"\",\"link\":\"\",\"timestamp\":1598626317181,\"airtableID\":\"\"},{\"videoType\":\"kaltura\",\"ibmEvLinkTitle\":\"Systems TechU Las Vegas\",\"ibmEvGroup\":\"STG\",\"ibmEvName\":\"event\",\"ibmEvSection\":\"ST\",\"ibmEvTarget\":\"\",\"damVideoMP4\":\"\",\"damVideoWebM\":\"\",\"videoID\":\"\",\"icon\":\"play\",\"airtableID\":\"\",\"title\":\"\",\"copy\":\"\",\"eyebrow\":\"\",\"link\":\"\",\"image\":\"\",\"button\":\"\",\"timestamp\":1598626329298}]}},\"trials\":{\"data\":{\"content\":[{\"icon\":\"forward\",\"videoID\":\"\",\"videoImage\":\"\",\"videoType\":\"youtube\",\"ibmEvLinkTitle\":\"\",\"ibmEvGroup\":\"\",\"ibmEvName\":\"\",\"ibmEvSection\":\"T1\",\"ibmEvTarget\":\"\",\"damVideoMP4\":\"\",\"damVideoWebM\":\"\",\"timestamp\":1670594621355,\"title\":\"1303 IBM Watson Assistant\",\"airtableID\":\"1303\",\"copy\":\"Help customers get stuff done quickly, easily, on any channel. Ask for a demo.\",\"eyebrow\":\"IBM Watson Assistant\",\"link\":\"https://www.ibm.com/products/watson-assistant?lnk=ushpv18t1\\\\u0026lnk2=trial_WatAssist\\\\u0026psrc=none\\\\u0026pexp=def\",\"image\":\"https://1.dam.s81c.com/public/content/dam/worldwide-content/homepage/ul/g/ee/15/20220216-t-ibm-watson-assistant.png\",\"imageAlt\":\"The Watson Assistant interface with text boxes and a simulated chatbot\"},{\"subcopy\":\"\",\"ibmEvLinkTitle\":\"\",\"ibmEvGroup\":\"\",\"ibmEvName\":\"\",\"ibmEvSection\":\"T2\",\"ibmEvTarget\":\"\",\"button_mobile\":\"T2\",\"icon\":\"forward\",\"timestamp\":1670594649943,\"title\":\"1304 Cloud Pak for Business Automation\",\"airtableID\":\"1304\",\"copy\":\"Build and scale automation applications on any cloud. Test drive it at no\\\\u0026nbsp;cost.\",\"eyebrow\":\"Cloud Pak for Business Automation\",\"image\":\"https://1.dam.s81c.com/public/content/dam/worldwide-content/homepage/ul/g/67/6a/20220216-t-ibm-cloud-pak-for-automation.png\",\"link\":\"https://www.ibm.com/cloud/cloud-pak-for-automation?lnk=ushpv18t2\\\\u0026lnk2=trial_CloudPakAtm\\\\u0026psrc=none\\\\u0026pexp=def\",\"imageAlt\":\"spreadsheet-type charts\"},{\"subcopy\":\"\",\"ibmEvLinkTitle\":\"\",\"ibmEvGroup\":\"\",\"ibmEvName\":\"\",\"ibmEvSection\":\"T3\",\"ibmEvTarget\":\"\",\"button_mobile\":\"T4\",\"timestamp\":1670594670414,\"airtableID\":\"1305\",\"title\":\"1305 IBM Instana Observability\",\"image\":\"https://1.dam.s81c.com/p/08f951362f270092/Instana-trial-800x450.jpg\",\"eyebrow\":\"IBM Instana Observability\",\"copy\":\"Easily manage the performance of your microservice applications. Get a free trial.\",\"link\":\"https://www.ibm.com/cloud/instana?lnk=ushpv18t3\\\\u0026lnk2=trial_Instana\\\\u0026psrc=none\\\\u0026pexp=def\",\"imageAlt\":\"Instana dashboard with status tables and charts\"},{\"subcopy\":\"\",\"ibmEvLinkTitle\":\"\",\"ibmEvGroup\":\"\",\"ibmEvName\":\"\",\"ibmEvSection\":\"T4\",\"ibmEvTarget\":\"\",\"button_mobile\":\"T4\",\"timestamp\":1645198930856,\"airtableID\":\"\",\"title\":\"\",\"image\":\"\",\"eyebrow\":\"\",\"copy\":\"\",\"button\":\"\",\"link\":\"\"}]}},\"contentspotlight\":{\"data\":{\"content\":[{\"alternate\":true,\"ctaColor\":\"red-50\",\"ibmEvLinkTitle\":\"\",\"ibmEvGroup\":\"\",\"ibmEvName\":\"case study\",\"ibmEvSection\":\"CS1\",\"ibmEvTarget\":\"\",\"imageMobile\":\"\",\"damVideoMP4\":\"\",\"damVideoWebM\":\"\",\"ctaCopyThree\":\"\",\"ctaLinkTwoThree\":\"\",\"imagePos\":\"center left\",\"copyTwo\":\"\",\"videoType\":\"kaltura\",\"eyebrow\":\"\",\"airtableID\":\"\",\"videoID\":\"\",\"mobileColumnHalf\":true,\"timestamp\":1645199476505,\"ctaLinkOne\":\"\",\"copyOne\":\"\",\"title\":\"\",\"ctaCopyOne\":\"\",\"image\":\"\"},{\"alternate\":true,\"image\":\"https://1.dam.s81c.com/public/content/dam/worldwide-content/homepage/ul/g/ea/ca/cs-hub-logos-k-1042x1130.png\",\"ctaColor\":\"red-50\",\"videoID\":\"\",\"videoType\":\"youtube\",\"ibmEvLinkTitle\":\"\",\"ibmEvGroup\":\"\",\"ibmEvName\":\"case study\",\"ibmEvSection\":\"CS2\",\"ibmEvTarget\":\"\",\"imageMobile\":\"\",\"damVideoMP4\":\"\",\"damVideoWebM\":\"\",\"ctaCopyThree\":\"\",\"ctaLinkTwoThree\":\"\",\"imagePos\":\"center center\",\"eyebrow\":\"25339\",\"title\":\"Client success stories\",\"ctaCopyTwo\":\"\",\"ctaCopyOne\":\"Read how industry leaders put smart to work\",\"ctaLinkTwo\":\"\",\"ctaLinkOne\":\"https://www.ibm.com/case-studies/search?search\\\\u0026lnk=ushpv18cs2\",\"copyOne\":\"\",\"copyTwo\":\"\",\"timestamp\":1638195426535,\"airtableID\":\"25339\",\"mobileColumnHalf\":true}]},\"config\":{\"type\":\"dos\"}},\"thinknews\":{\"data\":{\"content\":[{\"videoImage\":\"\",\"videoType\":\"youtube\",\"ibmEvLinkTitle\":\"\",\"ibmEvGroup\":\"\",\"ibmEvName\":\"\",\"ibmEvSection\":\"Th1\",\"ibmEvTarget\":\"\",\"damVideoMP4\":\"\",\"damVideoWebM\":\"\",\"icon\":\"forward\",\"videoID\":\"\",\"label\":\"\",\"title\":\"\",\"image\":\"https://1.dam.s81c.com/p/0797bc3546c3dcc9/20220405-ibm-z-multiframe-annc-444x320-26343.jpg\",\"copy\":\"Breeze through 25 billion secure transactions daily, across any hybrid cloud structure\",\"eyebrow\":\"\",\"timestamp\":1655481021045,\"airtableID\":\"\",\"link\":\"\",\"active\":false,\"sandbox\":false,\"stage\":false},{\"videoImage\":\"\",\"videoType\":\"youtube\",\"ibmEvLinkTitle\":\"\",\"ibmEvGroup\":\"\",\"ibmEvName\":\"\",\"ibmEvSection\":\"Th2\",\"ibmEvTarget\":\"\",\"damVideoMP4\":\"\",\"damVideoWebM\":\"\",\"icon\":\"forward\",\"videoID\":\"\",\"label\":\"\",\"title\":\"\",\"timestamp\":1655481064068,\"airtableID\":\"\",\"eyebrow\":\"\",\"copy\":\"Four out of five companies surveyed use or plan to adopt AI. Find out why.\\\\n\",\"link\":\"\",\"active\":false,\"sandbox\":false,\"stage\":false},{\"videoImage\":\"\",\"videoType\":\"youtube\",\"ibmEvLinkTitle\":\"\",\"ibmEvGroup\":\"\",\"ibmEvName\":\"\",\"ibmEvSection\":\"Th3\",\"ibmEvTarget\":\"\",\"damVideoMP4\":\"\",\"damVideoWebM\":\"\",\"icon\":\"forward\",\"videoID\":\"\",\"label\":\"\",\"title\":\"\",\"timestamp\":1655481115853,\"airtableID\":\"\",\"eyebrow\":\"\",\"copy\":\"Boost your growth with up to $120K in cloud credits and expert mentoring when you join the Startup with IBM program\\\\n\",\"image\":\"https://1.dam.s81c.com/public/content/dam/worldwide-content/homepage/ul/g/0e/e0/20220131-startup-26374-444x320.jpg\",\"link\":\"\",\"active\":false,\"sandbox\":false,\"stage\":false},{\"videoImage\":\"\",\"videoType\":\"youtube\",\"ibmEvLinkTitle\":\"\",\"ibmEvGroup\":\"\",\"ibmEvName\":\"\",\"ibmEvSection\":\"Th4\",\"ibmEvTarget\":\"\",\"damVideoMP4\":\"\",\"damVideoWebM\":\"\",\"icon\":\"forward\",\"videoID\":\"\",\"label\":\"\",\"title\":\"\",\"image\":\"https://1.dam.s81c.com/p/0797bc3546c3dcc9/20220405-ibm-z-multiframe-annc-444x320-26343.jpg\",\"copy\":\"Breeze through 25 billion secure transactions daily, across any hybrid cloud structure\\\\n\",\"eyebrow\":\"\",\"timestamp\":1655481135287,\"airtableID\":\"\",\"link\":\"\",\"active\":false,\"sandbox\":false,\"stage\":false},{\"videoImage\":\"\",\"videoType\":\"youtube\",\"ibmEvLinkTitle\":\"\",\"ibmEvGroup\":\"\",\"ibmEvName\":\"\",\"ibmEvSection\":\"Th5\",\"ibmEvTarget\":\"\",\"damVideoMP4\":\"\",\"damVideoWebM\":\"\",\"icon\":\"forward\",\"videoID\":\"\",\"label\":\"Creativity at work\",\"title\":\"\",\"timestamp\":1652111841522,\"airtableID\":\"\",\"eyebrow\":\"Meet the New Creators, 10 visionaries creatively applying technology in business to drive change\",\"copy\":\"Boost your growth with up to $120K in cloud credits and expert mentoring when you join the Startup with IBM program\\\\n\",\"image\":\"https://1.dam.s81c.com/public/content/dam/worldwide-content/homepage/ul/g/0e/e0/20220131-startup-26374-444x320.jpg\",\"link\":\"https://www.ibm.com/thought-leadership/new-creators?lnk=ushpv18Th3\",\"active\":false,\"sandbox\":false,\"stage\":false},{\"videoImage\":\"\",\"videoType\":\"youtube\",\"ibmEvLinkTitle\":\"\",\"ibmEvGroup\":\"\",\"ibmEvName\":\"\",\"ibmEvSection\":\"Th6\",\"ibmEvTarget\":\"\",\"damVideoMP4\":\"\",\"damVideoWebM\":\"\",\"icon\":\"forward\",\"videoID\":\"\",\"label\":\"Creativity at work\",\"title\":\"\",\"timestamp\":1652111851031,\"airtableID\":\"\",\"eyebrow\":\"Meet the New Creators, 10 visionaries creatively applying technology in business to drive change\",\"copy\":\"Boost your growth with up to $120K in cloud credits and expert mentoring when you join the Startup with IBM program\\\\n\",\"image\":\"https://1.dam.s81c.com/public/content/dam/worldwide-content/homepage/ul/g/0e/e0/20220131-startup-26374-444x320.jpg\",\"link\":\"https://www.ibm.com/thought-leadership/new-creators?lnk=ushpv18Th3\",\"active\":false,\"sandbox\":false,\"stage\":false}]}},\"big6LeadspaceCards\":{\"data\":{\"content\":[{\"title\":\"Work safe. Work smart.\",\"copy\":\"\",\"link\":\"https://www.ibm.com/smarter-business/work-safe?lnk=ushpv18cv1\",\"timestamp\":1591797887933},{\"title\":\"Engage customers anywhere with Watson\",\"copy\":\"\",\"link\":\"https://www.ibm.com/smarter-business/customer-experience?lnk=ushpv18cv2\",\"timestamp\":1591797833198},{\"title\":\"Enhance your IT resiliency and business continuity\",\"copy\":\"\",\"link\":\"https://www.ibm.com/services/business-continuity?lnk=ushpv18cv3\",\"timestamp\":1591797923124},{\"title\":\"Accelerate agility and efficiency with IBM Cloud\",\"copy\":\"\",\"link\":\"https://www.ibm.com/cloud/yourcloud?lnk=ushpv18cv4\",\"timestamp\":1591798189360},{\"title\":\"Protect against new cyber risks\",\"copy\":\"\",\"link\":\"https://www.ibm.com/security?lnk=ushpv18cv5\",\"timestamp\":1591990121847},{\"title\":\"Build resilient supply chains and operations\",\"copy\":\"\",\"link\":\"https://www.ibm.com/supply-chain?lnk=ushpv18cv6\",\"timestamp\":1591990130317}]}},\"certifications\":{\"data\":{\"content\":[{\"ibmEvSection\":\"tc1\",\"image\":\" https://1.dam.s81c.com/public/content/dam/worldwide-content/homepage/ul/g/bb/fd/20211018-cert-tech-u-virtual-edition.png\",\"eyebrow\":\"IBM TechU virtual edition: October 25â\\x80\\x9328\",\"title\":\"IBM TechU 2021, the virtual edition\",\"button\":\"Register to choose from 250+ sessions and labs, and engage live with experts and peers\",\"timestamp\":1634607850644,\"airtableID\":\"26189\",\"link\":\"https://www.ibm.com/training/events/vtechu2021?lnk=ushpv18tc1\",\"mobileImg\":\"https://1.dam.s81c.com/public/content/dam/worldwide-content/homepage/ul/g/bb/fd/20211018-cert-tech-u-virtual-edition.png\",\"copy\":\"\\\\n\"},{\"ibmEvSection\":\"tc2\",\"eyebrow\":\"Design thinking is for everyone\",\"title\":\"26192 Design thinking practitioner \",\"button\":\"Learn how to drive business results by focusing on your usersâ\\x80\\x99 needs in this free course\",\"timestamp\":1634315831253,\"airtableID\":\"26192\",\"mobileImg\":\"https://1.dam.s81c.com/public/content/dam/worldwide-content/homepage/ul/g/e1/3b/20211018-cert-design-thinking.jpg\",\"copy\":\"\\\\n\",\"link\":\"https://www.ibm.com/design/thinking/?lnk=ushpv18tc2\",\"image\":\"https://1.dam.s81c.com/public/content/dam/worldwide-content/homepage/ul/g/e1/3b/20211018-cert-design-thinking.jpg\"}]},\"config\":{\"enabled\":\"true\"}},\"videonews\":{\"data\":{\"content\":[{\"ibmEvSection\":\"vn1\",\"alternateColor\":true,\"eyebrow\":\"AI can take you to places youâ\\x80\\x99ve only dreamed of\\\\n\",\"title\":\"26324 Data Science: Watson Studio\",\"button\":\"Build and scale trusted AI across any cloud\",\"link\":\"https://www.ibm.com/cloud/watson-studio?lnk=ushpv18vn1\",\"timestamp\":1639779183583,\"airtableID\":\"26324\",\"copy\":\"Get there with Watson Studio, a simpler way to turn predictions into decisions collaboratively, on any cloud, on one data and AI platform\",\"videoLength\":\"1:13\",\"videoId\":\"1_iej13uex\",\"image\":\"https://1.dam.s81c.com/public/content/dam/worldwide-content/homepage/ul/g/82/93/20211025-vn-data-science-watson-studio-1200x900.jpg\"},{\"ibmEvSection\":\"vn2\",\"eyebrow\":\"A â\\x80\\x98never trust, always verifyâ\\x80\\x99 security model\\\\n\",\"title\":\"26325 Zero Trust Security\",\"button\":\"Read about zero trust architecture and the future of security\",\"timestamp\":1639779210749,\"airtableID\":\"26325\",\"copy\":\"On average, it can take 77 days to contain an insider data breach. Companies with a zero trust framework in place can do so in near-real time.\",\"videoLength\":\"3:06\",\"videoId\":\"1_yr2j7p5f\",\"image\":\"https://1.dam.s81c.com/public/content/dam/worldwide-content/homepage/ul/g/2e/5a/20211115-vn-zero-trust-security-26254-1200x900.jpg\",\"alternateColor\":true,\"link\":\"https://www.ibm.com/security/zero-trust?lnk=ushpv18vn2\"},{\"ibmEvSection\":\"vn3\",\"eyebrow\":\"Home Trust and IBM Cloud: prepared for the unforeseeable\\\\n\",\"title\":\"26326 Home Trust CS\",\"button\":\"Learn how the right platform supported the workforce during COVID\\\\u0026#8209;19 lockdowns\",\"timestamp\":1639779304922,\"airtableID\":\"26326\",\"copy\":\"Because of an early transition to IBM Cloud, one of Canadaâ\\x80\\x99s leading financial institutions was able to change to remote work and thrive in 2020\",\"videoLength\":\"2:37\",\"videoId\":\"1_fz1liaxf\",\"image\":\"https://1.dam.s81c.com/public/content/dam/worldwide-content/homepage/ul/g/37/78/20211122-vn-home-trust-26271-1200x900.jpg\",\"alternateColor\":true,\"link\":\"https://www.ibm.com/case-studies/home-trust/?lnk=ushpv18vn3\"}]},\"config\":{\"enabled\":\"true\"}}}}},\"__N_SSG\":true},\"page\":\"/\",\"query\":{},\"buildId\":\"EtCxk_3QbmAmBu6w0m-N9\",\"assetPrefix\":\".\",\"isFallback\":false,\"gsp\":true}</script><script nomodule=\"\" src=\"./_next/static/chunks/polyfills-e4c38ea28892f36667af.js\"></script><script src=\"./_next/static/chunks/webpack-9a6e2dd34947de61505d.js\" async=\"\"></script><script src=\"./_next/static/chunks/framework.602aaa49e9cf44108ea4.js\" async=\"\"></script><script src=\"./_next/static/chunks/commons.56cd7ef778495da405ee.js\" async=\"\"></script><script src=\"./_next/static/chunks/3ef630e34cd10ba68f9d468ac363ff81c534e1e9.d2f601340e1658353edc.js\" async=\"\"></script><script src=\"./_next/static/chunks/main-51700067fcf16cbe3818.js\" async=\"\"></script><script src=\"./_next/static/chunks/styles.3461e1160e1b06bf3496.js\" async=\"\"></script><script src=\"./_next/static/chunks/pages/_app-773a9a5a97d6bc6829ca.js\" async=\"\"></script><script src=\"./_next/static/chunks/1c920f04.f4270e422fa8c16ba0f4.js\" async=\"\"></script><script src=\"./_next/static/chunks/5f6bb6fb.63224c0f3a7ce047c8e2.js\" async=\"\"></script><script src=\"./_next/static/chunks/8f19d780.9518ac89ebf3ed164ec7.js\" async=\"\"></script><script src=\"./_next/static/chunks/8edc3fe5.f57e384a441d6dc22242.js\" async=\"\"></script><script src=\"./_next/static/chunks/fc20e1c4.d98d23767340a1237305.js\" async=\"\"></script><script src=\"./_next/static/chunks/a37fbe3b.f465653335f45cc0fa1b.js\" async=\"\"></script><script src=\"./_next/static/chunks/bc80632e.7250d666a9b091e0e0e4.js\" async=\"\"></script><script src=\"./_next/static/chunks/1dd0fb51.f16e33f7e2db3449d18e.js\" async=\"\"></script><script src=\"./_next/static/chunks/56b0df7b.a548554a4a80dea8f00a.js\" async=\"\"></script><script src=\"./_next/static/chunks/b222b98b.ebaff15e961fd9a66fec.js\" async=\"\"></script><script src=\"./_next/static/chunks/500f7593.4b01426721d5ac82f9ba.js\" async=\"\"></script><script src=\"./_next/static/chunks/5d8d49e442f4e00190cb1a13966c1f91ed87c0f4.c5cea6b9909ecf9bea26.js\" async=\"\"></script><script src=\"./_next/static/chunks/11.f003844d8f71e73157c2.js\" async=\"\"></script><script src=\"./_next/static/chunks/pages/index-50de45925217e14ec11a.js\" async=\"\"></script><script src=\"./_next/static/EtCxk_3QbmAmBu6w0m-N9/_buildManifest.js\" async=\"\"></script><script src=\"./_next/static/EtCxk_3QbmAmBu6w0m-N9/_ssgManifest.js\" async=\"\"></script><script type=\"text/javascript\"  src=\"/lekHX/ZwEjm/Mg8GIm/DXo5/cu1thS6hb1Y7/QFJ-eUU/L2/gmLhtDXh0\"></script><link rel=\"stylesheet\" type=\"text/css\"  href=\"/_sec/cp_challenge/sec-3-9.css\">\\n          <script  src=\"/_sec/cp_challenge/sec-cpt-3-9.js\" async defer></script>\\n          <div id=\"sec-overlay\" style=\"display:none;\">\\n          <div id=\"sec-container\">\\n          </div>\\n        </div></body></html>'"
      ]
     },
     "execution_count": 56,
     "metadata": {},
     "output_type": "execute_result"
    }
   ],
   "source": [
    "data  = requests.get(url).text \n",
    "data"
   ]
  },
  {
   "cell_type": "markdown",
   "metadata": {},
   "source": [
    "We create a <code>BeautifulSoup</code> object using the <code>BeautifulSoup</code> constructor\n"
   ]
  },
  {
   "cell_type": "code",
   "execution_count": 57,
   "metadata": {},
   "outputs": [],
   "source": [
    "soup = BeautifulSoup(data,\"html.parser\")  # create a soup object using the variable 'data'"
   ]
  },
  {
   "cell_type": "markdown",
   "metadata": {},
   "source": [
    "Scrape all links\n"
   ]
  },
  {
   "cell_type": "code",
   "execution_count": 58,
   "metadata": {},
   "outputs": [
    {
     "name": "stdout",
     "output_type": "stream",
     "text": [
      "https://www.ibm.com/sports/masters/\n",
      "https://www.ibm.com/about\n",
      "https://www.ibm.com/consulting/?lnk=flathl\n",
      "https://www.ibm.com/consulting/strategy/?lnk=flathl\n",
      "https://www.ibm.com/consulting/ibmix?lnk=flathl\n",
      "https://www.ibm.com/consulting/technology/\n",
      "https://www.ibm.com/consulting/operations/?lnk=flathl\n",
      "https://www.ibm.com/strategic-partnerships\n",
      "https://www.ibm.com/employment/?lnk=flatitem\n",
      "https://www.ibm.com/impact\n",
      "https://research.ibm.com/\n",
      "https://www.ibm.com/\n"
     ]
    }
   ],
   "source": [
    "for link in soup.find_all('a',href=True):  # in html anchor/link is represented by the tag <a>\n",
    "\n",
    "    print(link.get('href'))\n"
   ]
  },
  {
   "cell_type": "markdown",
   "metadata": {},
   "source": [
    "## Scrape  all images  Tags\n"
   ]
  },
  {
   "cell_type": "code",
   "execution_count": 59,
   "metadata": {},
   "outputs": [
    {
     "name": "stdout",
     "output_type": "stream",
     "text": [
      "<img alt=\"Grid of diverse group of professionals\" aria-describedby=\"bx--image-1\" class=\"bx--image__img\" src=\"https://1.dam.s81c.com/p/0aac9cf57bcbf324/dotcom-1-overview.jpg.global.sr_16x9.jpg\"/>\n",
      "https://1.dam.s81c.com/p/0aac9cf57bcbf324/dotcom-1-overview.jpg.global.sr_16x9.jpg\n",
      "<img alt=\"professional pointing to a chart\" aria-describedby=\"bx--image-2\" class=\"bx--image__img\" src=\"https://1.dam.s81c.com/p/0aac9cf57c4bf381/0935e0d55846b9ec_dotcom-2-strategy.jpg.global.m_16x9.jpg\"/>\n",
      "https://1.dam.s81c.com/p/0aac9cf57c4bf381/0935e0d55846b9ec_dotcom-2-strategy.jpg.global.m_16x9.jpg\n",
      "<img alt=\"two professionals working with a whiteboard outdoors\" aria-describedby=\"bx--image-3\" class=\"bx--image__img\" src=\"https://1.dam.s81c.com/p/0aac9cf57c4bf382/0656655b47a3af8b_dotcom-3-experience.jpg.global.sr_16x9.jpg\"/>\n",
      "https://1.dam.s81c.com/p/0aac9cf57c4bf382/0656655b47a3af8b_dotcom-3-experience.jpg.global.sr_16x9.jpg\n",
      "<img alt=\"professionals working with a sticky notes on a whiteboard\" aria-describedby=\"bx--image-4\" class=\"bx--image__img\" src=\"https://1.dam.s81c.com/p/0aac9cf57c4bf383/08f9513598a70746_dotcom-4-technology.jpg.global.sr_16x9.jpg\"/>\n",
      "https://1.dam.s81c.com/p/0aac9cf57c4bf383/08f9513598a70746_dotcom-4-technology.jpg.global.sr_16x9.jpg\n",
      "<img alt=\"professionals having a conversation in an office\" aria-describedby=\"bx--image-5\" class=\"bx--image__img\" src=\"https://1.dam.s81c.com/p/0aac9cf57c4bf380/0935e0d55846b9e4_dotcom-5-operations.jpg.global.sr_16x9.jpg\"/>\n",
      "https://1.dam.s81c.com/p/0aac9cf57c4bf380/0935e0d55846b9e4_dotcom-5-operations.jpg.global.sr_16x9.jpg\n",
      "<img alt=\"group of professionals walking down stairs outdoors\" aria-describedby=\"bx--image-6\" class=\"bx--image__img\" src=\"https://1.dam.s81c.com/p/0aac9cf57c4bf384/064e0139f5a3aa3f_dotcom-6-partners.jpg.global.sr_16x9.jpg\"/>\n",
      "https://1.dam.s81c.com/p/0aac9cf57c4bf384/064e0139f5a3aa3f_dotcom-6-partners.jpg.global.sr_16x9.jpg\n"
     ]
    }
   ],
   "source": [
    "for link in soup.find_all('img'):# in html image is represented by the tag <img>\n",
    "    print(link)\n",
    "    print(link.get('src'))"
   ]
  },
  {
   "cell_type": "markdown",
   "metadata": {},
   "source": [
    "## Scrape data from HTML tables\n"
   ]
  },
  {
   "cell_type": "code",
   "execution_count": 60,
   "metadata": {},
   "outputs": [],
   "source": [
    "#The below url contains an html table with data about colors and color codes.\n",
    "url = \"https://cf-courses-data.s3.us.cloud-object-storage.appdomain.cloud/IBM-DA0321EN-SkillsNetwork/labs/datasets/HTMLColorCodes.html\""
   ]
  },
  {
   "cell_type": "markdown",
   "metadata": {},
   "source": [
    "Before proceeding to scrape a web site, you need to examine the contents, and the way data is organized on the website. Open the above url in your browser and check how many rows and columns are there in the color table.\n"
   ]
  },
  {
   "cell_type": "code",
   "execution_count": 61,
   "metadata": {},
   "outputs": [],
   "source": [
    "# get the contents of the webpage in text format and store in a variable called data\n",
    "data  = requests.get(url).text"
   ]
  },
  {
   "cell_type": "code",
   "execution_count": 62,
   "metadata": {},
   "outputs": [],
   "source": [
    "soup = BeautifulSoup(data,\"html.parser\")"
   ]
  },
  {
   "cell_type": "code",
   "execution_count": 63,
   "metadata": {},
   "outputs": [],
   "source": [
    "#find a html table in the web page\n",
    "table = soup.find('table') # in html table is represented by the tag <table>"
   ]
  },
  {
   "cell_type": "code",
   "execution_count": 49,
   "metadata": {},
   "outputs": [
    {
     "name": "stdout",
     "output_type": "stream",
     "text": [
      "Color Name--->None\n",
      "lightsalmon--->#FFA07A\n",
      "salmon--->#FA8072\n",
      "darksalmon--->#E9967A\n",
      "lightcoral--->#F08080\n",
      "coral--->#FF7F50\n",
      "tomato--->#FF6347\n",
      "orangered--->#FF4500\n",
      "gold--->#FFD700\n",
      "orange--->#FFA500\n",
      "darkorange--->#FF8C00\n",
      "lightyellow--->#FFFFE0\n",
      "lemonchiffon--->#FFFACD\n",
      "papayawhip--->#FFEFD5\n",
      "moccasin--->#FFE4B5\n",
      "peachpuff--->#FFDAB9\n",
      "palegoldenrod--->#EEE8AA\n",
      "khaki--->#F0E68C\n",
      "darkkhaki--->#BDB76B\n",
      "yellow--->#FFFF00\n",
      "lawngreen--->#7CFC00\n",
      "chartreuse--->#7FFF00\n",
      "limegreen--->#32CD32\n",
      "lime--->#00FF00\n",
      "forestgreen--->#228B22\n",
      "green--->#008000\n",
      "powderblue--->#B0E0E6\n",
      "lightblue--->#ADD8E6\n",
      "lightskyblue--->#87CEFA\n",
      "skyblue--->#87CEEB\n",
      "deepskyblue--->#00BFFF\n",
      "lightsteelblue--->#B0C4DE\n",
      "dodgerblue--->#1E90FF\n"
     ]
    }
   ],
   "source": [
    "#Get all rows from the table\n",
    "for row in table.find_all('tr'): # in html table row is represented by the tag <tr>\n",
    "    # Get all columns in each row.\n",
    "    cols = row.find_all('td') # in html a column is represented by the tag <td>\n",
    "    color_name = cols[2].string # store the value in column 3 as color_name\n",
    "    color_code = cols[3].string # store the value in column 4 as color_code\n",
    "    print(\"{}--->{}\".format(color_name,color_code))"
   ]
  },
  {
   "cell_type": "markdown",
   "metadata": {},
   "source": [
    "## Scrape data from HTML tables into a DataFrame using BeautifulSoup and Pandas\n"
   ]
  },
  {
   "cell_type": "code",
   "execution_count": 64,
   "metadata": {},
   "outputs": [],
   "source": [
    "import pandas as pd"
   ]
  },
  {
   "cell_type": "code",
   "execution_count": 65,
   "metadata": {},
   "outputs": [],
   "source": [
    "#The below url contains html tables with data about world population.\n",
    "url = \"https://en.wikipedia.org/wiki/World_population\""
   ]
  },
  {
   "cell_type": "markdown",
   "metadata": {},
   "source": [
    "Before proceeding to scrape a web site, you need to examine the contents, and the way data is organized on the website. Open the above url in your browser and check the tables on the webpage.\n"
   ]
  },
  {
   "cell_type": "code",
   "execution_count": 66,
   "metadata": {},
   "outputs": [],
   "source": [
    "# get the contents of the webpage in text format and store in a variable called data\n",
    "data  = requests.get(url).text"
   ]
  },
  {
   "cell_type": "code",
   "execution_count": 67,
   "metadata": {},
   "outputs": [],
   "source": [
    "soup = BeautifulSoup(data,\"html.parser\")"
   ]
  },
  {
   "cell_type": "code",
   "execution_count": 68,
   "metadata": {},
   "outputs": [],
   "source": [
    "#find all html tables in the web page\n",
    "tables = soup.find_all('table') # in html table is represented by the tag <table>"
   ]
  },
  {
   "cell_type": "code",
   "execution_count": 69,
   "metadata": {},
   "outputs": [
    {
     "data": {
      "text/plain": [
       "24"
      ]
     },
     "execution_count": 69,
     "metadata": {},
     "output_type": "execute_result"
    }
   ],
   "source": [
    "# we can see how many tables were found by checking the length of the tables list\n",
    "len(tables)"
   ]
  },
  {
   "cell_type": "markdown",
   "metadata": {},
   "source": [
    "Assume that we are looking for the `10 most densly populated countries` table, we can look through the tables list and find the right one we are look for based on the data in each table or we can search for the table name if it is in the table but this option might not always work.\n"
   ]
  },
  {
   "cell_type": "code",
   "execution_count": 70,
   "metadata": {},
   "outputs": [
    {
     "name": "stdout",
     "output_type": "stream",
     "text": [
      "4\n"
     ]
    }
   ],
   "source": [
    "for index,table in enumerate(tables):\n",
    "    if (\"10 most densely populated countries\" in str(table)):\n",
    "        table_index = index\n",
    "print(table_index)"
   ]
  },
  {
   "cell_type": "markdown",
   "metadata": {},
   "source": [
    "See if you can locate the table name of the table, `10 most densly populated countries`, below.\n"
   ]
  },
  {
   "cell_type": "code",
   "execution_count": 57,
   "metadata": {},
   "outputs": [
    {
     "name": "stdout",
     "output_type": "stream",
     "text": [
      "<table class=\"wikitable sortable\" style=\"text-align:right\">\n",
      " <caption>\n",
      "  10 most densely populated countries\n",
      "  <small>\n",
      "   (with population above 5 million)\n",
      "  </small>\n",
      " </caption>\n",
      " <tbody>\n",
      "  <tr>\n",
      "   <th>\n",
      "    Rank\n",
      "   </th>\n",
      "   <th>\n",
      "    Country\n",
      "   </th>\n",
      "   <th>\n",
      "    Population\n",
      "   </th>\n",
      "   <th>\n",
      "    Area\n",
      "    <br/>\n",
      "    <small>\n",
      "     (km\n",
      "     <sup>\n",
      "      2\n",
      "     </sup>\n",
      "     )\n",
      "    </small>\n",
      "   </th>\n",
      "   <th>\n",
      "    Density\n",
      "    <br/>\n",
      "    <small>\n",
      "     (pop/km\n",
      "     <sup>\n",
      "      2\n",
      "     </sup>\n",
      "     )\n",
      "    </small>\n",
      "   </th>\n",
      "  </tr>\n",
      "  <tr>\n",
      "   <td>\n",
      "    1\n",
      "   </td>\n",
      "   <td align=\"left\">\n",
      "    <span class=\"flagicon\">\n",
      "     <img alt=\"\" class=\"thumbborder\" data-file-height=\"600\" data-file-width=\"900\" decoding=\"async\" height=\"15\" src=\"//upload.wikimedia.org/wikipedia/commons/thumb/4/48/Flag_of_Singapore.svg/23px-Flag_of_Singapore.svg.png\" srcset=\"//upload.wikimedia.org/wikipedia/commons/thumb/4/48/Flag_of_Singapore.svg/35px-Flag_of_Singapore.svg.png 1.5x, //upload.wikimedia.org/wikipedia/commons/thumb/4/48/Flag_of_Singapore.svg/45px-Flag_of_Singapore.svg.png 2x\" width=\"23\"/>\n",
      "    </span>\n",
      "    <a href=\"/wiki/Singapore\" title=\"Singapore\">\n",
      "     Singapore\n",
      "    </a>\n",
      "   </td>\n",
      "   <td>\n",
      "    5,704,000\n",
      "   </td>\n",
      "   <td>\n",
      "    710\n",
      "   </td>\n",
      "   <td>\n",
      "    8,033\n",
      "   </td>\n",
      "  </tr>\n",
      "  <tr>\n",
      "   <td>\n",
      "    2\n",
      "   </td>\n",
      "   <td align=\"left\">\n",
      "    <span class=\"flagicon\">\n",
      "     <img alt=\"\" class=\"thumbborder\" data-file-height=\"600\" data-file-width=\"1000\" decoding=\"async\" height=\"14\" src=\"//upload.wikimedia.org/wikipedia/commons/thumb/f/f9/Flag_of_Bangladesh.svg/23px-Flag_of_Bangladesh.svg.png\" srcset=\"//upload.wikimedia.org/wikipedia/commons/thumb/f/f9/Flag_of_Bangladesh.svg/35px-Flag_of_Bangladesh.svg.png 1.5x, //upload.wikimedia.org/wikipedia/commons/thumb/f/f9/Flag_of_Bangladesh.svg/46px-Flag_of_Bangladesh.svg.png 2x\" width=\"23\"/>\n",
      "    </span>\n",
      "    <a href=\"/wiki/Bangladesh\" title=\"Bangladesh\">\n",
      "     Bangladesh\n",
      "    </a>\n",
      "   </td>\n",
      "   <td>\n",
      "    171,670,000\n",
      "   </td>\n",
      "   <td>\n",
      "    143,998\n",
      "   </td>\n",
      "   <td>\n",
      "    1,192\n",
      "   </td>\n",
      "  </tr>\n",
      "  <tr>\n",
      "   <td>\n",
      "    3\n",
      "   </td>\n",
      "   <td align=\"left\">\n",
      "    <p>\n",
      "     <span class=\"flagicon\">\n",
      "      <img alt=\"\" class=\"thumbborder\" data-file-height=\"600\" data-file-width=\"1200\" decoding=\"async\" height=\"12\" src=\"//upload.wikimedia.org/wikipedia/commons/thumb/0/00/Flag_of_Palestine.svg/23px-Flag_of_Palestine.svg.png\" srcset=\"//upload.wikimedia.org/wikipedia/commons/thumb/0/00/Flag_of_Palestine.svg/35px-Flag_of_Palestine.svg.png 1.5x, //upload.wikimedia.org/wikipedia/commons/thumb/0/00/Flag_of_Palestine.svg/46px-Flag_of_Palestine.svg.png 2x\" width=\"23\"/>\n",
      "     </span>\n",
      "     <a href=\"/wiki/State_of_Palestine\" title=\"State of Palestine\">\n",
      "      Palestine\n",
      "     </a>\n",
      "    </p>\n",
      "   </td>\n",
      "   <td>\n",
      "    5,266,785\n",
      "   </td>\n",
      "   <td>\n",
      "    6,020\n",
      "   </td>\n",
      "   <td>\n",
      "    847\n",
      "   </td>\n",
      "  </tr>\n",
      "  <tr>\n",
      "   <td>\n",
      "    4\n",
      "   </td>\n",
      "   <td align=\"left\">\n",
      "    <span class=\"flagicon\">\n",
      "     <img alt=\"\" class=\"thumbborder\" data-file-height=\"600\" data-file-width=\"900\" decoding=\"async\" height=\"15\" src=\"//upload.wikimedia.org/wikipedia/commons/thumb/5/59/Flag_of_Lebanon.svg/23px-Flag_of_Lebanon.svg.png\" srcset=\"//upload.wikimedia.org/wikipedia/commons/thumb/5/59/Flag_of_Lebanon.svg/35px-Flag_of_Lebanon.svg.png 1.5x, //upload.wikimedia.org/wikipedia/commons/thumb/5/59/Flag_of_Lebanon.svg/45px-Flag_of_Lebanon.svg.png 2x\" width=\"23\"/>\n",
      "    </span>\n",
      "    <a href=\"/wiki/Lebanon\" title=\"Lebanon\">\n",
      "     Lebanon\n",
      "    </a>\n",
      "   </td>\n",
      "   <td>\n",
      "    6,856,000\n",
      "   </td>\n",
      "   <td>\n",
      "    10,452\n",
      "   </td>\n",
      "   <td>\n",
      "    656\n",
      "   </td>\n",
      "  </tr>\n",
      "  <tr>\n",
      "   <td>\n",
      "    5\n",
      "   </td>\n",
      "   <td align=\"left\">\n",
      "    <span class=\"flagicon\">\n",
      "     <img alt=\"\" class=\"thumbborder\" data-file-height=\"600\" data-file-width=\"900\" decoding=\"async\" height=\"15\" src=\"//upload.wikimedia.org/wikipedia/commons/thumb/7/72/Flag_of_the_Republic_of_China.svg/23px-Flag_of_the_Republic_of_China.svg.png\" srcset=\"//upload.wikimedia.org/wikipedia/commons/thumb/7/72/Flag_of_the_Republic_of_China.svg/35px-Flag_of_the_Republic_of_China.svg.png 1.5x, //upload.wikimedia.org/wikipedia/commons/thumb/7/72/Flag_of_the_Republic_of_China.svg/45px-Flag_of_the_Republic_of_China.svg.png 2x\" width=\"23\"/>\n",
      "    </span>\n",
      "    <a href=\"/wiki/Taiwan\" title=\"Taiwan\">\n",
      "     Taiwan\n",
      "    </a>\n",
      "   </td>\n",
      "   <td>\n",
      "    23,604,000\n",
      "   </td>\n",
      "   <td>\n",
      "    36,193\n",
      "   </td>\n",
      "   <td>\n",
      "    652\n",
      "   </td>\n",
      "  </tr>\n",
      "  <tr>\n",
      "   <td>\n",
      "    6\n",
      "   </td>\n",
      "   <td align=\"left\">\n",
      "    <span class=\"flagicon\">\n",
      "     <img alt=\"\" class=\"thumbborder\" data-file-height=\"600\" data-file-width=\"900\" decoding=\"async\" height=\"15\" src=\"//upload.wikimedia.org/wikipedia/commons/thumb/0/09/Flag_of_South_Korea.svg/23px-Flag_of_South_Korea.svg.png\" srcset=\"//upload.wikimedia.org/wikipedia/commons/thumb/0/09/Flag_of_South_Korea.svg/35px-Flag_of_South_Korea.svg.png 1.5x, //upload.wikimedia.org/wikipedia/commons/thumb/0/09/Flag_of_South_Korea.svg/45px-Flag_of_South_Korea.svg.png 2x\" width=\"23\"/>\n",
      "    </span>\n",
      "    <a href=\"/wiki/South_Korea\" title=\"South Korea\">\n",
      "     South Korea\n",
      "    </a>\n",
      "   </td>\n",
      "   <td>\n",
      "    51,781,000\n",
      "   </td>\n",
      "   <td>\n",
      "    99,538\n",
      "   </td>\n",
      "   <td>\n",
      "    520\n",
      "   </td>\n",
      "  </tr>\n",
      "  <tr>\n",
      "   <td>\n",
      "    7\n",
      "   </td>\n",
      "   <td align=\"left\">\n",
      "    <span class=\"flagicon\">\n",
      "     <img alt=\"\" class=\"thumbborder\" data-file-height=\"720\" data-file-width=\"1080\" decoding=\"async\" height=\"15\" src=\"//upload.wikimedia.org/wikipedia/commons/thumb/1/17/Flag_of_Rwanda.svg/23px-Flag_of_Rwanda.svg.png\" srcset=\"//upload.wikimedia.org/wikipedia/commons/thumb/1/17/Flag_of_Rwanda.svg/35px-Flag_of_Rwanda.svg.png 1.5x, //upload.wikimedia.org/wikipedia/commons/thumb/1/17/Flag_of_Rwanda.svg/45px-Flag_of_Rwanda.svg.png 2x\" width=\"23\"/>\n",
      "    </span>\n",
      "    <a href=\"/wiki/Rwanda\" title=\"Rwanda\">\n",
      "     Rwanda\n",
      "    </a>\n",
      "   </td>\n",
      "   <td>\n",
      "    12,374,000\n",
      "   </td>\n",
      "   <td>\n",
      "    26,338\n",
      "   </td>\n",
      "   <td>\n",
      "    470\n",
      "   </td>\n",
      "  </tr>\n",
      "  <tr>\n",
      "   <td>\n",
      "    8\n",
      "   </td>\n",
      "   <td align=\"left\">\n",
      "    <span class=\"flagicon\">\n",
      "     <img alt=\"\" class=\"thumbborder\" data-file-height=\"600\" data-file-width=\"1000\" decoding=\"async\" height=\"14\" src=\"//upload.wikimedia.org/wikipedia/commons/thumb/5/56/Flag_of_Haiti.svg/23px-Flag_of_Haiti.svg.png\" srcset=\"//upload.wikimedia.org/wikipedia/commons/thumb/5/56/Flag_of_Haiti.svg/35px-Flag_of_Haiti.svg.png 1.5x, //upload.wikimedia.org/wikipedia/commons/thumb/5/56/Flag_of_Haiti.svg/46px-Flag_of_Haiti.svg.png 2x\" width=\"23\"/>\n",
      "    </span>\n",
      "    <a href=\"/wiki/Haiti\" title=\"Haiti\">\n",
      "     Haiti\n",
      "    </a>\n",
      "   </td>\n",
      "   <td>\n",
      "    11,578,000\n",
      "   </td>\n",
      "   <td>\n",
      "    27,065\n",
      "   </td>\n",
      "   <td>\n",
      "    428\n",
      "   </td>\n",
      "  </tr>\n",
      "  <tr>\n",
      "   <td>\n",
      "    9\n",
      "   </td>\n",
      "   <td align=\"left\">\n",
      "    <span class=\"flagicon\">\n",
      "     <img alt=\"\" class=\"thumbborder\" data-file-height=\"600\" data-file-width=\"900\" decoding=\"async\" height=\"15\" src=\"//upload.wikimedia.org/wikipedia/commons/thumb/2/20/Flag_of_the_Netherlands.svg/23px-Flag_of_the_Netherlands.svg.png\" srcset=\"//upload.wikimedia.org/wikipedia/commons/thumb/2/20/Flag_of_the_Netherlands.svg/35px-Flag_of_the_Netherlands.svg.png 1.5x, //upload.wikimedia.org/wikipedia/commons/thumb/2/20/Flag_of_the_Netherlands.svg/45px-Flag_of_the_Netherlands.svg.png 2x\" width=\"23\"/>\n",
      "    </span>\n",
      "    <a href=\"/wiki/Netherlands\" title=\"Netherlands\">\n",
      "     Netherlands\n",
      "    </a>\n",
      "   </td>\n",
      "   <td>\n",
      "    17,660,000\n",
      "   </td>\n",
      "   <td>\n",
      "    41,526\n",
      "   </td>\n",
      "   <td>\n",
      "    425\n",
      "   </td>\n",
      "  </tr>\n",
      "  <tr>\n",
      "   <td>\n",
      "    10\n",
      "   </td>\n",
      "   <td align=\"left\">\n",
      "    <span class=\"flagicon\">\n",
      "     <img alt=\"\" class=\"thumbborder\" data-file-height=\"800\" data-file-width=\"1100\" decoding=\"async\" height=\"15\" src=\"//upload.wikimedia.org/wikipedia/commons/thumb/d/d4/Flag_of_Israel.svg/21px-Flag_of_Israel.svg.png\" srcset=\"//upload.wikimedia.org/wikipedia/commons/thumb/d/d4/Flag_of_Israel.svg/32px-Flag_of_Israel.svg.png 1.5x, //upload.wikimedia.org/wikipedia/commons/thumb/d/d4/Flag_of_Israel.svg/41px-Flag_of_Israel.svg.png 2x\" width=\"21\"/>\n",
      "    </span>\n",
      "    <a href=\"/wiki/Israel\" title=\"Israel\">\n",
      "     Israel\n",
      "    </a>\n",
      "   </td>\n",
      "   <td>\n",
      "    9,430,000\n",
      "   </td>\n",
      "   <td>\n",
      "    22,072\n",
      "   </td>\n",
      "   <td>\n",
      "    427\n",
      "   </td>\n",
      "  </tr>\n",
      " </tbody>\n",
      "</table>\n",
      "\n"
     ]
    }
   ],
   "source": [
    "print(tables[table_index].prettify())"
   ]
  },
  {
   "cell_type": "code",
   "execution_count": 58,
   "metadata": {},
   "outputs": [
    {
     "data": {
      "text/html": [
       "<div>\n",
       "<style scoped>\n",
       "    .dataframe tbody tr th:only-of-type {\n",
       "        vertical-align: middle;\n",
       "    }\n",
       "\n",
       "    .dataframe tbody tr th {\n",
       "        vertical-align: top;\n",
       "    }\n",
       "\n",
       "    .dataframe thead th {\n",
       "        text-align: right;\n",
       "    }\n",
       "</style>\n",
       "<table border=\"1\" class=\"dataframe\">\n",
       "  <thead>\n",
       "    <tr style=\"text-align: right;\">\n",
       "      <th></th>\n",
       "      <th>Rank</th>\n",
       "      <th>Country</th>\n",
       "      <th>Population</th>\n",
       "      <th>Area</th>\n",
       "      <th>Density</th>\n",
       "    </tr>\n",
       "  </thead>\n",
       "  <tbody>\n",
       "    <tr>\n",
       "      <th>0</th>\n",
       "      <td>1</td>\n",
       "      <td>Singapore</td>\n",
       "      <td>5,704,000</td>\n",
       "      <td>710</td>\n",
       "      <td>8,033</td>\n",
       "    </tr>\n",
       "    <tr>\n",
       "      <th>1</th>\n",
       "      <td>2</td>\n",
       "      <td>Bangladesh</td>\n",
       "      <td>171,670,000</td>\n",
       "      <td>143,998</td>\n",
       "      <td>1,192</td>\n",
       "    </tr>\n",
       "    <tr>\n",
       "      <th>2</th>\n",
       "      <td>3</td>\n",
       "      <td>\\n Palestine\\n\\n</td>\n",
       "      <td>5,266,785</td>\n",
       "      <td>6,020</td>\n",
       "      <td>847</td>\n",
       "    </tr>\n",
       "    <tr>\n",
       "      <th>3</th>\n",
       "      <td>4</td>\n",
       "      <td>Lebanon</td>\n",
       "      <td>6,856,000</td>\n",
       "      <td>10,452</td>\n",
       "      <td>656</td>\n",
       "    </tr>\n",
       "    <tr>\n",
       "      <th>4</th>\n",
       "      <td>5</td>\n",
       "      <td>Taiwan</td>\n",
       "      <td>23,604,000</td>\n",
       "      <td>36,193</td>\n",
       "      <td>652</td>\n",
       "    </tr>\n",
       "    <tr>\n",
       "      <th>5</th>\n",
       "      <td>6</td>\n",
       "      <td>South Korea</td>\n",
       "      <td>51,781,000</td>\n",
       "      <td>99,538</td>\n",
       "      <td>520</td>\n",
       "    </tr>\n",
       "    <tr>\n",
       "      <th>6</th>\n",
       "      <td>7</td>\n",
       "      <td>Rwanda</td>\n",
       "      <td>12,374,000</td>\n",
       "      <td>26,338</td>\n",
       "      <td>470</td>\n",
       "    </tr>\n",
       "    <tr>\n",
       "      <th>7</th>\n",
       "      <td>8</td>\n",
       "      <td>Haiti</td>\n",
       "      <td>11,578,000</td>\n",
       "      <td>27,065</td>\n",
       "      <td>428</td>\n",
       "    </tr>\n",
       "    <tr>\n",
       "      <th>8</th>\n",
       "      <td>9</td>\n",
       "      <td>Netherlands</td>\n",
       "      <td>17,660,000</td>\n",
       "      <td>41,526</td>\n",
       "      <td>425</td>\n",
       "    </tr>\n",
       "    <tr>\n",
       "      <th>9</th>\n",
       "      <td>10</td>\n",
       "      <td>Israel</td>\n",
       "      <td>9,430,000</td>\n",
       "      <td>22,072</td>\n",
       "      <td>427</td>\n",
       "    </tr>\n",
       "  </tbody>\n",
       "</table>\n",
       "</div>"
      ],
      "text/plain": [
       "  Rank           Country   Population     Area Density\n",
       "0    1         Singapore    5,704,000      710   8,033\n",
       "1    2        Bangladesh  171,670,000  143,998   1,192\n",
       "2    3  \\n Palestine\\n\\n    5,266,785    6,020     847\n",
       "3    4           Lebanon    6,856,000   10,452     656\n",
       "4    5            Taiwan   23,604,000   36,193     652\n",
       "5    6       South Korea   51,781,000   99,538     520\n",
       "6    7            Rwanda   12,374,000   26,338     470\n",
       "7    8             Haiti   11,578,000   27,065     428\n",
       "8    9       Netherlands   17,660,000   41,526     425\n",
       "9   10            Israel    9,430,000   22,072     427"
      ]
     },
     "execution_count": 58,
     "metadata": {},
     "output_type": "execute_result"
    }
   ],
   "source": [
    "population_data = pd.DataFrame(columns=[\"Rank\", \"Country\", \"Population\", \"Area\", \"Density\"])\n",
    "\n",
    "for row in tables[table_index].tbody.find_all(\"tr\"):\n",
    "    col = row.find_all(\"td\")\n",
    "    if (col != []):\n",
    "        rank = col[0].text\n",
    "        country = col[1].text\n",
    "        population = col[2].text.strip()\n",
    "        area = col[3].text.strip()\n",
    "        density = col[4].text.strip()\n",
    "        population_data = population_data.append({\"Rank\":rank, \"Country\":country, \"Population\":population, \"Area\":area, \"Density\":density}, ignore_index=True)\n",
    "\n",
    "population_data"
   ]
  },
  {
   "cell_type": "markdown",
   "metadata": {},
   "source": [
    "## Scrape data from HTML tables into a DataFrame using BeautifulSoup and read_html\n"
   ]
  },
  {
   "cell_type": "markdown",
   "metadata": {},
   "source": [
    "Using the same `url`, `data`, `soup`, and `tables` object as in the last section we can use the `read_html` function to create a DataFrame.\n",
    "\n",
    "Remember the table we need is located in `tables[table_index]`\n",
    "\n",
    "We can now use the `pandas` function `read_html` and give it the string version of the table as well as the `flavor` which is the parsing engine `bs4`.\n"
   ]
  },
  {
   "cell_type": "code",
   "execution_count": 59,
   "metadata": {},
   "outputs": [
    {
     "data": {
      "text/plain": [
       "[   Rank      Country  Population  Area(km2)  Density(pop/km2)\n",
       " 0     1    Singapore     5704000        710              8033\n",
       " 1     2   Bangladesh   171670000     143998              1192\n",
       " 2     3    Palestine     5266785       6020               847\n",
       " 3     4      Lebanon     6856000      10452               656\n",
       " 4     5       Taiwan    23604000      36193               652\n",
       " 5     6  South Korea    51781000      99538               520\n",
       " 6     7       Rwanda    12374000      26338               470\n",
       " 7     8        Haiti    11578000      27065               428\n",
       " 8     9  Netherlands    17660000      41526               425\n",
       " 9    10       Israel     9430000      22072               427]"
      ]
     },
     "execution_count": 59,
     "metadata": {},
     "output_type": "execute_result"
    }
   ],
   "source": [
    "pd.read_html(str(tables[5]), flavor='bs4')"
   ]
  },
  {
   "cell_type": "markdown",
   "metadata": {},
   "source": [
    "The function `read_html` always returns a list of DataFrames so we must pick the one we want out of the list.\n"
   ]
  },
  {
   "cell_type": "code",
   "execution_count": 60,
   "metadata": {},
   "outputs": [
    {
     "data": {
      "text/html": [
       "<div>\n",
       "<style scoped>\n",
       "    .dataframe tbody tr th:only-of-type {\n",
       "        vertical-align: middle;\n",
       "    }\n",
       "\n",
       "    .dataframe tbody tr th {\n",
       "        vertical-align: top;\n",
       "    }\n",
       "\n",
       "    .dataframe thead th {\n",
       "        text-align: right;\n",
       "    }\n",
       "</style>\n",
       "<table border=\"1\" class=\"dataframe\">\n",
       "  <thead>\n",
       "    <tr style=\"text-align: right;\">\n",
       "      <th></th>\n",
       "      <th>Rank</th>\n",
       "      <th>Country</th>\n",
       "      <th>Population</th>\n",
       "      <th>Area(km2)</th>\n",
       "      <th>Density(pop/km2)</th>\n",
       "    </tr>\n",
       "  </thead>\n",
       "  <tbody>\n",
       "    <tr>\n",
       "      <th>0</th>\n",
       "      <td>1</td>\n",
       "      <td>Singapore</td>\n",
       "      <td>5704000</td>\n",
       "      <td>710</td>\n",
       "      <td>8033</td>\n",
       "    </tr>\n",
       "    <tr>\n",
       "      <th>1</th>\n",
       "      <td>2</td>\n",
       "      <td>Bangladesh</td>\n",
       "      <td>171670000</td>\n",
       "      <td>143998</td>\n",
       "      <td>1192</td>\n",
       "    </tr>\n",
       "    <tr>\n",
       "      <th>2</th>\n",
       "      <td>3</td>\n",
       "      <td>Palestine</td>\n",
       "      <td>5266785</td>\n",
       "      <td>6020</td>\n",
       "      <td>847</td>\n",
       "    </tr>\n",
       "    <tr>\n",
       "      <th>3</th>\n",
       "      <td>4</td>\n",
       "      <td>Lebanon</td>\n",
       "      <td>6856000</td>\n",
       "      <td>10452</td>\n",
       "      <td>656</td>\n",
       "    </tr>\n",
       "    <tr>\n",
       "      <th>4</th>\n",
       "      <td>5</td>\n",
       "      <td>Taiwan</td>\n",
       "      <td>23604000</td>\n",
       "      <td>36193</td>\n",
       "      <td>652</td>\n",
       "    </tr>\n",
       "    <tr>\n",
       "      <th>5</th>\n",
       "      <td>6</td>\n",
       "      <td>South Korea</td>\n",
       "      <td>51781000</td>\n",
       "      <td>99538</td>\n",
       "      <td>520</td>\n",
       "    </tr>\n",
       "    <tr>\n",
       "      <th>6</th>\n",
       "      <td>7</td>\n",
       "      <td>Rwanda</td>\n",
       "      <td>12374000</td>\n",
       "      <td>26338</td>\n",
       "      <td>470</td>\n",
       "    </tr>\n",
       "    <tr>\n",
       "      <th>7</th>\n",
       "      <td>8</td>\n",
       "      <td>Haiti</td>\n",
       "      <td>11578000</td>\n",
       "      <td>27065</td>\n",
       "      <td>428</td>\n",
       "    </tr>\n",
       "    <tr>\n",
       "      <th>8</th>\n",
       "      <td>9</td>\n",
       "      <td>Netherlands</td>\n",
       "      <td>17660000</td>\n",
       "      <td>41526</td>\n",
       "      <td>425</td>\n",
       "    </tr>\n",
       "    <tr>\n",
       "      <th>9</th>\n",
       "      <td>10</td>\n",
       "      <td>Israel</td>\n",
       "      <td>9430000</td>\n",
       "      <td>22072</td>\n",
       "      <td>427</td>\n",
       "    </tr>\n",
       "  </tbody>\n",
       "</table>\n",
       "</div>"
      ],
      "text/plain": [
       "   Rank      Country  Population  Area(km2)  Density(pop/km2)\n",
       "0     1    Singapore     5704000        710              8033\n",
       "1     2   Bangladesh   171670000     143998              1192\n",
       "2     3    Palestine     5266785       6020               847\n",
       "3     4      Lebanon     6856000      10452               656\n",
       "4     5       Taiwan    23604000      36193               652\n",
       "5     6  South Korea    51781000      99538               520\n",
       "6     7       Rwanda    12374000      26338               470\n",
       "7     8        Haiti    11578000      27065               428\n",
       "8     9  Netherlands    17660000      41526               425\n",
       "9    10       Israel     9430000      22072               427"
      ]
     },
     "execution_count": 60,
     "metadata": {},
     "output_type": "execute_result"
    }
   ],
   "source": [
    "population_data_read_html = pd.read_html(str(tables[5]), flavor='bs4')[0]\n",
    "\n",
    "population_data_read_html"
   ]
  },
  {
   "cell_type": "markdown",
   "metadata": {},
   "source": [
    "## Scrape data from HTML tables into a DataFrame using read_html\n"
   ]
  },
  {
   "cell_type": "markdown",
   "metadata": {},
   "source": [
    "We can also use the `read_html` function to directly get DataFrames from a `url`.\n"
   ]
  },
  {
   "cell_type": "code",
   "execution_count": 61,
   "metadata": {},
   "outputs": [],
   "source": [
    "dataframe_list = pd.read_html(url, flavor='bs4')"
   ]
  },
  {
   "cell_type": "markdown",
   "metadata": {},
   "source": [
    "We can see there are 25 DataFrames just like when we used `find_all` on the `soup` object.\n"
   ]
  },
  {
   "cell_type": "code",
   "execution_count": 62,
   "metadata": {},
   "outputs": [
    {
     "data": {
      "text/plain": [
       "26"
      ]
     },
     "execution_count": 62,
     "metadata": {},
     "output_type": "execute_result"
    }
   ],
   "source": [
    "len(dataframe_list)"
   ]
  },
  {
   "cell_type": "markdown",
   "metadata": {},
   "source": [
    "Finally we can pick the DataFrame we need out of the list.\n"
   ]
  },
  {
   "cell_type": "code",
   "execution_count": 63,
   "metadata": {},
   "outputs": [
    {
     "data": {
      "text/html": [
       "<div>\n",
       "<style scoped>\n",
       "    .dataframe tbody tr th:only-of-type {\n",
       "        vertical-align: middle;\n",
       "    }\n",
       "\n",
       "    .dataframe tbody tr th {\n",
       "        vertical-align: top;\n",
       "    }\n",
       "\n",
       "    .dataframe thead th {\n",
       "        text-align: right;\n",
       "    }\n",
       "</style>\n",
       "<table border=\"1\" class=\"dataframe\">\n",
       "  <thead>\n",
       "    <tr style=\"text-align: right;\">\n",
       "      <th></th>\n",
       "      <th>Rank</th>\n",
       "      <th>Country</th>\n",
       "      <th>Population</th>\n",
       "      <th>Area(km2)</th>\n",
       "      <th>Density(pop/km2)</th>\n",
       "    </tr>\n",
       "  </thead>\n",
       "  <tbody>\n",
       "    <tr>\n",
       "      <th>0</th>\n",
       "      <td>1</td>\n",
       "      <td>Singapore</td>\n",
       "      <td>5704000</td>\n",
       "      <td>710</td>\n",
       "      <td>8033</td>\n",
       "    </tr>\n",
       "    <tr>\n",
       "      <th>1</th>\n",
       "      <td>2</td>\n",
       "      <td>Bangladesh</td>\n",
       "      <td>171670000</td>\n",
       "      <td>143998</td>\n",
       "      <td>1192</td>\n",
       "    </tr>\n",
       "    <tr>\n",
       "      <th>2</th>\n",
       "      <td>3</td>\n",
       "      <td>Palestine</td>\n",
       "      <td>5266785</td>\n",
       "      <td>6020</td>\n",
       "      <td>847</td>\n",
       "    </tr>\n",
       "    <tr>\n",
       "      <th>3</th>\n",
       "      <td>4</td>\n",
       "      <td>Lebanon</td>\n",
       "      <td>6856000</td>\n",
       "      <td>10452</td>\n",
       "      <td>656</td>\n",
       "    </tr>\n",
       "    <tr>\n",
       "      <th>4</th>\n",
       "      <td>5</td>\n",
       "      <td>Taiwan</td>\n",
       "      <td>23604000</td>\n",
       "      <td>36193</td>\n",
       "      <td>652</td>\n",
       "    </tr>\n",
       "    <tr>\n",
       "      <th>5</th>\n",
       "      <td>6</td>\n",
       "      <td>South Korea</td>\n",
       "      <td>51781000</td>\n",
       "      <td>99538</td>\n",
       "      <td>520</td>\n",
       "    </tr>\n",
       "    <tr>\n",
       "      <th>6</th>\n",
       "      <td>7</td>\n",
       "      <td>Rwanda</td>\n",
       "      <td>12374000</td>\n",
       "      <td>26338</td>\n",
       "      <td>470</td>\n",
       "    </tr>\n",
       "    <tr>\n",
       "      <th>7</th>\n",
       "      <td>8</td>\n",
       "      <td>Haiti</td>\n",
       "      <td>11578000</td>\n",
       "      <td>27065</td>\n",
       "      <td>428</td>\n",
       "    </tr>\n",
       "    <tr>\n",
       "      <th>8</th>\n",
       "      <td>9</td>\n",
       "      <td>Netherlands</td>\n",
       "      <td>17660000</td>\n",
       "      <td>41526</td>\n",
       "      <td>425</td>\n",
       "    </tr>\n",
       "    <tr>\n",
       "      <th>9</th>\n",
       "      <td>10</td>\n",
       "      <td>Israel</td>\n",
       "      <td>9430000</td>\n",
       "      <td>22072</td>\n",
       "      <td>427</td>\n",
       "    </tr>\n",
       "  </tbody>\n",
       "</table>\n",
       "</div>"
      ],
      "text/plain": [
       "   Rank      Country  Population  Area(km2)  Density(pop/km2)\n",
       "0     1    Singapore     5704000        710              8033\n",
       "1     2   Bangladesh   171670000     143998              1192\n",
       "2     3    Palestine     5266785       6020               847\n",
       "3     4      Lebanon     6856000      10452               656\n",
       "4     5       Taiwan    23604000      36193               652\n",
       "5     6  South Korea    51781000      99538               520\n",
       "6     7       Rwanda    12374000      26338               470\n",
       "7     8        Haiti    11578000      27065               428\n",
       "8     9  Netherlands    17660000      41526               425\n",
       "9    10       Israel     9430000      22072               427"
      ]
     },
     "execution_count": 63,
     "metadata": {},
     "output_type": "execute_result"
    }
   ],
   "source": [
    "dataframe_list[5]"
   ]
  },
  {
   "cell_type": "markdown",
   "metadata": {},
   "source": [
    "We can also use the `match` parameter to select the specific table we want. If the table contains a string matching the text it will be read.\n"
   ]
  },
  {
   "cell_type": "code",
   "execution_count": 64,
   "metadata": {},
   "outputs": [
    {
     "data": {
      "text/html": [
       "<div>\n",
       "<style scoped>\n",
       "    .dataframe tbody tr th:only-of-type {\n",
       "        vertical-align: middle;\n",
       "    }\n",
       "\n",
       "    .dataframe tbody tr th {\n",
       "        vertical-align: top;\n",
       "    }\n",
       "\n",
       "    .dataframe thead th {\n",
       "        text-align: right;\n",
       "    }\n",
       "</style>\n",
       "<table border=\"1\" class=\"dataframe\">\n",
       "  <thead>\n",
       "    <tr style=\"text-align: right;\">\n",
       "      <th></th>\n",
       "      <th>Rank</th>\n",
       "      <th>Country</th>\n",
       "      <th>Population</th>\n",
       "      <th>Area(km2)</th>\n",
       "      <th>Density(pop/km2)</th>\n",
       "    </tr>\n",
       "  </thead>\n",
       "  <tbody>\n",
       "    <tr>\n",
       "      <th>0</th>\n",
       "      <td>1</td>\n",
       "      <td>Singapore</td>\n",
       "      <td>5704000</td>\n",
       "      <td>710</td>\n",
       "      <td>8033</td>\n",
       "    </tr>\n",
       "    <tr>\n",
       "      <th>1</th>\n",
       "      <td>2</td>\n",
       "      <td>Bangladesh</td>\n",
       "      <td>171670000</td>\n",
       "      <td>143998</td>\n",
       "      <td>1192</td>\n",
       "    </tr>\n",
       "    <tr>\n",
       "      <th>2</th>\n",
       "      <td>3</td>\n",
       "      <td>Palestine</td>\n",
       "      <td>5266785</td>\n",
       "      <td>6020</td>\n",
       "      <td>847</td>\n",
       "    </tr>\n",
       "    <tr>\n",
       "      <th>3</th>\n",
       "      <td>4</td>\n",
       "      <td>Lebanon</td>\n",
       "      <td>6856000</td>\n",
       "      <td>10452</td>\n",
       "      <td>656</td>\n",
       "    </tr>\n",
       "    <tr>\n",
       "      <th>4</th>\n",
       "      <td>5</td>\n",
       "      <td>Taiwan</td>\n",
       "      <td>23604000</td>\n",
       "      <td>36193</td>\n",
       "      <td>652</td>\n",
       "    </tr>\n",
       "    <tr>\n",
       "      <th>5</th>\n",
       "      <td>6</td>\n",
       "      <td>South Korea</td>\n",
       "      <td>51781000</td>\n",
       "      <td>99538</td>\n",
       "      <td>520</td>\n",
       "    </tr>\n",
       "    <tr>\n",
       "      <th>6</th>\n",
       "      <td>7</td>\n",
       "      <td>Rwanda</td>\n",
       "      <td>12374000</td>\n",
       "      <td>26338</td>\n",
       "      <td>470</td>\n",
       "    </tr>\n",
       "    <tr>\n",
       "      <th>7</th>\n",
       "      <td>8</td>\n",
       "      <td>Haiti</td>\n",
       "      <td>11578000</td>\n",
       "      <td>27065</td>\n",
       "      <td>428</td>\n",
       "    </tr>\n",
       "    <tr>\n",
       "      <th>8</th>\n",
       "      <td>9</td>\n",
       "      <td>Netherlands</td>\n",
       "      <td>17660000</td>\n",
       "      <td>41526</td>\n",
       "      <td>425</td>\n",
       "    </tr>\n",
       "    <tr>\n",
       "      <th>9</th>\n",
       "      <td>10</td>\n",
       "      <td>Israel</td>\n",
       "      <td>9430000</td>\n",
       "      <td>22072</td>\n",
       "      <td>427</td>\n",
       "    </tr>\n",
       "  </tbody>\n",
       "</table>\n",
       "</div>"
      ],
      "text/plain": [
       "   Rank      Country  Population  Area(km2)  Density(pop/km2)\n",
       "0     1    Singapore     5704000        710              8033\n",
       "1     2   Bangladesh   171670000     143998              1192\n",
       "2     3    Palestine     5266785       6020               847\n",
       "3     4      Lebanon     6856000      10452               656\n",
       "4     5       Taiwan    23604000      36193               652\n",
       "5     6  South Korea    51781000      99538               520\n",
       "6     7       Rwanda    12374000      26338               470\n",
       "7     8        Haiti    11578000      27065               428\n",
       "8     9  Netherlands    17660000      41526               425\n",
       "9    10       Israel     9430000      22072               427"
      ]
     },
     "execution_count": 64,
     "metadata": {},
     "output_type": "execute_result"
    }
   ],
   "source": [
    "pd.read_html(url, match=\"10 most densely populated countries\", flavor='bs4')[0]"
   ]
  },
  {
   "cell_type": "markdown",
   "metadata": {},
   "source": [
    "## Authors\n"
   ]
  },
  {
   "cell_type": "markdown",
   "metadata": {},
   "source": [
    "Ramesh Sannareddy\n"
   ]
  },
  {
   "cell_type": "markdown",
   "metadata": {},
   "source": [
    "### Other Contributors\n"
   ]
  },
  {
   "cell_type": "markdown",
   "metadata": {},
   "source": [
    "Rav Ahuja\n"
   ]
  },
  {
   "cell_type": "markdown",
   "metadata": {},
   "source": [
    "## Change Log\n"
   ]
  },
  {
   "cell_type": "markdown",
   "metadata": {},
   "source": [
    "| Date (YYYY-MM-DD) | Version | Changed By                                               | Change Description |\n",
    "| ----------------- | ------- | -------------------------------------------------------- | ------------------ |\n",
    "| 2021-08-04        | 0.2     | Made changes to markdown of nextsibling                  |                    |\n",
    "| 2020-10-17        | 0.1     | Joseph Santarcangelo  Created initial version of the lab |                    |\n"
   ]
  },
  {
   "cell_type": "markdown",
   "metadata": {},
   "source": [
    "Copyright © 2020 IBM Corporation. This notebook and its source code are released under the terms of the [MIT License](https://cognitiveclass.ai/mit-license?utm_medium=Exinfluencer&utm_source=Exinfluencer&utm_content=000026UJ&utm_term=10006555&utm_id=NA-SkillsNetwork-Channel-SkillsNetworkCoursesIBMDeveloperSkillsNetworkPY0220ENSkillsNetwork23455606-2021-01-01&cm_mmc=Email_Newsletter-_-Developer_Ed%2BTech-_-WW_WW-_-SkillsNetwork-Courses-IBMDeveloperSkillsNetwork-PY0101EN-SkillsNetwork-19487395&cm_mmca1=000026UJ&cm_mmca2=10006555&cm_mmca3=M12345678&cvosrc=email.Newsletter.M12345678&cvo_campaign=000026UJ).\n"
   ]
  },
  {
   "cell_type": "code",
   "execution_count": null,
   "metadata": {},
   "outputs": [],
   "source": []
  },
  {
   "cell_type": "code",
   "execution_count": null,
   "metadata": {},
   "outputs": [],
   "source": []
  }
 ],
 "metadata": {
  "kernelspec": {
   "display_name": "Python 3",
   "language": "python",
   "name": "python3"
  },
  "language_info": {
   "codemirror_mode": {
    "name": "ipython",
    "version": 3
   },
   "file_extension": ".py",
   "mimetype": "text/x-python",
   "name": "python",
   "nbconvert_exporter": "python",
   "pygments_lexer": "ipython3",
   "version": "3.7.6"
  }
 },
 "nbformat": 4,
 "nbformat_minor": 4
}
